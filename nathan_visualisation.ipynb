{
 "cells": [
  {
   "cell_type": "code",
   "execution_count": 15,
   "id": "25720bd3-01a6-4e6c-9a23-90a389879525",
   "metadata": {
    "tags": []
   },
   "outputs": [],
   "source": [
    "import napari\n",
    "from pathlib import Path\n",
    "from skimage import io\n",
    "import os\n",
    "import czifile\n",
    "import math\n",
    "import numpy as np\n",
    "from tqdm.auto import tqdm"
   ]
  },
  {
   "cell_type": "markdown",
   "id": "c688f700-7993-47a5-94ab-6679cad3b9e8",
   "metadata": {},
   "source": [
    "### Zeiss lattice lightsheet"
   ]
  },
  {
   "cell_type": "code",
   "execution_count": 3,
   "id": "0d01ccba-ffe3-41bd-a5d9-10c181cb3e84",
   "metadata": {
    "tags": []
   },
   "outputs": [
    {
     "data": {
      "text/plain": [
       "['middle-01.czi',\n",
       " 'middle-01_MIP.czi',\n",
       " 'middle-01_processed.czi',\n",
       " 'middle-01_processed.ome.tiff',\n",
       " 'middle-02.czi',\n",
       " 'middle-02_DCVSettingsTest.czi',\n",
       " 'middle-02_DCVSettingsTest.czt',\n",
       " 'middle-02_MIP.czi',\n",
       " 'middle-02_processed.czi',\n",
       " 'middle-03.czi',\n",
       " 'middle-03_DCVSettingsTest.czi',\n",
       " 'middle-03_DCVSettingsTest.czt',\n",
       " 'middle-03_MIP.czi',\n",
       " 'middle-03_processed.czi',\n",
       " 'middle-04.czi',\n",
       " 'middle-04_MIP.czi',\n",
       " 'middle-04_processed.czi',\n",
       " 'middle-05.czi',\n",
       " 'middle-05_MIP.czi',\n",
       " 'middle-05_processed.czi',\n",
       " 'middle-06.czi',\n",
       " 'middle-06_MIP.czi',\n",
       " 'middle-06_processed.czi',\n",
       " 'middle-11-Lattice Lightsheet-01.czi',\n",
       " 'middle-11.czi',\n",
       " 'middle-11_MIP.czi',\n",
       " 'middle-15-Lattice Lightsheet-02.czi',\n",
       " 'middle-15.czi',\n",
       " 'middle-15_MIP.czi',\n",
       " 'wildtype-01-deskewed-deconv.czi',\n",
       " 'wildtype-01-deskewed.czi',\n",
       " 'wildtype-01.czi',\n",
       " 'wildtype-01.ome.tiff',\n",
       " 'wildtype-01_MIP.czi',\n",
       " 'wildtype-01_MIP.ome.tiff',\n",
       " 'wildtype-01_processed-01.czi',\n",
       " 'wildtype-01_processed.czi']"
      ]
     },
     "execution_count": 3,
     "metadata": {},
     "output_type": "execute_result"
    }
   ],
   "source": [
    "os.listdir(Path(r'Y:\\The_Holy_de_Broglies\\2025-08-13 Lattice Lightsheet\\Macrophages\\2025-08-13\\mouse'))"
   ]
  },
  {
   "cell_type": "code",
   "execution_count": 2,
   "id": "4c06d7f9-221b-4b01-9748-63c93fc482cd",
   "metadata": {
    "tags": []
   },
   "outputs": [],
   "source": [
    "viewer = napari.Viewer(title = 'zeiss')"
   ]
  },
  {
   "cell_type": "markdown",
   "id": "30d7423a-3d7e-4f0e-9c1c-eaebbff53dd3",
   "metadata": {},
   "source": [
    "### Mouse macrophages"
   ]
  },
  {
   "cell_type": "code",
   "execution_count": 4,
   "id": "e40150f8-133d-4775-90b1-35ba80cc7132",
   "metadata": {
    "tags": []
   },
   "outputs": [],
   "source": [
    "image_path = Path(r'Z:\\The_Holy_de_Broglies\\2025-08-13 Lattice Lightsheet\\Macrophages\\2025-08-13\\mouse\\wildtype-01-deskewed-deconv.czi')"
   ]
  },
  {
   "cell_type": "code",
   "execution_count": 5,
   "id": "ed990338-792c-4eaf-baaf-169ef5bcfca9",
   "metadata": {
    "tags": []
   },
   "outputs": [
    {
     "name": "stdout",
     "output_type": "stream",
     "text": [
      "CPU times: total: 46 s\n",
      "Wall time: 2min 37s\n"
     ]
    }
   ],
   "source": [
    "%%time \n",
    "\n",
    "image = czifile.imread(image_path)"
   ]
  },
  {
   "cell_type": "code",
   "execution_count": 6,
   "id": "24c3eb14-2bcc-4f5b-acb4-32f80bc04e14",
   "metadata": {
    "tags": []
   },
   "outputs": [
    {
     "data": {
      "text/plain": [
       "(1, 2, 114, 7576, 6407, 1)"
      ]
     },
     "execution_count": 6,
     "metadata": {},
     "output_type": "execute_result"
    }
   ],
   "source": [
    "image.shape"
   ]
  },
  {
   "cell_type": "code",
   "execution_count": 9,
   "id": "d45c0003-ba52-411a-8d63-16611078b55f",
   "metadata": {
    "tags": []
   },
   "outputs": [
    {
     "data": {
      "text/plain": [
       "(2, 114, 7576, 6407)"
      ]
     },
     "execution_count": 9,
     "metadata": {},
     "output_type": "execute_result"
    }
   ],
   "source": [
    "image_reshaped = image[0,...,0]\n",
    "image_reshaped.shape"
   ]
  },
  {
   "cell_type": "markdown",
   "id": "7778498d-4d47-4f83-b18f-e985ea11fa51",
   "metadata": {
    "jp-MarkdownHeadingCollapsed": true,
    "tags": []
   },
   "source": [
    "### Deskew (no longer necessary)"
   ]
  },
  {
   "cell_type": "code",
   "execution_count": 49,
   "id": "70f2025a-b00d-4331-856d-04af545b3d37",
   "metadata": {
    "tags": []
   },
   "outputs": [],
   "source": [
    "from scipy.ndimage import shift\n",
    "from tqdm.auto import tqdm\n",
    "import numpy as np"
   ]
  },
  {
   "cell_type": "code",
   "execution_count": 56,
   "id": "61e366ed-a513-47b0-81c5-15d790f1dfd8",
   "metadata": {
    "tags": []
   },
   "outputs": [
    {
     "data": {
      "application/vnd.jupyter.widget-view+json": {
       "model_id": "",
       "version_major": 2,
       "version_minor": 0
      },
      "text/plain": [
       "Deskew C0:   0%|          | 0/2251 [00:00<?, ?it/s]"
      ]
     },
     "metadata": {},
     "output_type": "display_data"
    },
    {
     "data": {
      "application/vnd.jupyter.widget-view+json": {
       "model_id": "",
       "version_major": 2,
       "version_minor": 0
      },
      "text/plain": [
       "Deskew C1:   0%|          | 0/2251 [00:00<?, ?it/s]"
      ]
     },
     "metadata": {},
     "output_type": "display_data"
    }
   ],
   "source": [
    "C, Z, Y, X = image.shape\n",
    "\n",
    "angle_deg = 31.8\n",
    "xy_um = 0.145\n",
    "z_um  = 0.400\n",
    "px_shift_per_z = (z_um / xy_um) * np.tan(np.deg2rad(angle_deg))\n",
    "\n",
    "max_shift = int(np.ceil(abs((Z - 1) * px_shift_per_z)))\n",
    "X_expanded = X + max_shift\n",
    "deskewed = np.zeros((C, Z, Y, X_expanded), dtype=image.dtype)\n",
    "\n",
    "x0 = max_shift // 2\n",
    "sign = +1.0  # positive sign as requested\n",
    "\n",
    "for c in range(C):\n",
    "    for z in tqdm(range(Z), leave=False, desc=f\"Deskew C{c}\"):\n",
    "        x_pos = x0 + sign * z * px_shift_per_z\n",
    "        x_int = int(np.floor(x_pos))\n",
    "        frac  = x_pos - x_int\n",
    "\n",
    "        x_start = max(0, min(X_expanded - X, x_int))\n",
    "        canvas = np.zeros((Y, X_expanded), dtype=image.dtype)\n",
    "        canvas[:, x_start : x_start + X] = image[c, z]\n",
    "\n",
    "        if abs(frac) > 1e-6:\n",
    "            canvas = shift(canvas, shift=(0, frac), order=1, mode=\"nearest\", prefilter=False)\n",
    "\n",
    "        deskewed[c, z] = canvas"
   ]
  },
  {
   "cell_type": "markdown",
   "id": "c393a19f-8a81-453c-bc31-41574f5d7bf1",
   "metadata": {},
   "source": [
    "## Visualise"
   ]
  },
  {
   "cell_type": "code",
   "execution_count": 8,
   "id": "ded45b00-4110-4a64-8051-391402eeef3e",
   "metadata": {
    "tags": []
   },
   "outputs": [
    {
     "data": {
      "text/plain": [
       "[<Image layer 'wildtype deskewed' at 0x1def55a4e50>,\n",
       " <Image layer 'wildtype deskewed [1]' at 0x1deb9f39fd0>]"
      ]
     },
     "execution_count": 8,
     "metadata": {},
     "output_type": "execute_result"
    }
   ],
   "source": [
    "viewer.add_image(image, channel_axis=1, name = 'wildtype deskewed')"
   ]
  },
  {
   "cell_type": "code",
   "execution_count": 10,
   "id": "9fb6576e-d382-46bb-8fe1-0d8cbc78f8a4",
   "metadata": {
    "tags": []
   },
   "outputs": [
    {
     "data": {
      "text/plain": [
       "[<Image layer 'wildtype deskewed reshaped' at 0x1de861225d0>,\n",
       " <Image layer 'wildtype deskewed reshaped [1]' at 0x1def787f150>]"
      ]
     },
     "execution_count": 10,
     "metadata": {},
     "output_type": "execute_result"
    }
   ],
   "source": [
    "viewer.add_image(image_reshaped, channel_axis=0, name = 'wildtype deskewed reshaped')"
   ]
  },
  {
   "cell_type": "code",
   "execution_count": 12,
   "id": "35ae547c-6f59-4535-9866-78b68de530bc",
   "metadata": {
    "tags": []
   },
   "outputs": [
    {
     "data": {
      "text/plain": [
       "[<Image layer 'wildtype deskewed reshaped' at 0x1de861225d0>, <Image layer 'wildtype deskewed reshaped [1]' at 0x1def787f150>]"
      ]
     },
     "execution_count": 12,
     "metadata": {},
     "output_type": "execute_result"
    }
   ],
   "source": [
    "viewer.layers"
   ]
  },
  {
   "cell_type": "code",
   "execution_count": 14,
   "id": "e986b4e4-3254-4891-a292-7725bffd9fd7",
   "metadata": {
    "tags": []
   },
   "outputs": [],
   "source": [
    "viewer.scale_bar.visible = True\n",
    "viewer.scale_bar.unit = 'μm'"
   ]
  },
  {
   "cell_type": "code",
   "execution_count": 15,
   "id": "f3a57583-5bd9-4216-98a3-370eb19f6583",
   "metadata": {
    "tags": []
   },
   "outputs": [
    {
     "name": "stdout",
     "output_type": "stream",
     "text": [
      "[154.66696914700543, 857.9282084521649]\n",
      "[300.0, 800.0]\n",
      "Rendering frames...\n"
     ]
    },
    {
     "name": "stderr",
     "output_type": "stream",
     "text": [
      "  0%|                                                               | 0/91 [00:00<?, ?it/s]IMAGEIO FFMPEG_WRITER WARNING: input image is not divisible by macro_block_size=16, resizing from (822, 833) to (832, 848) to ensure video compatibility with most codecs and players. To prevent resizing, make your input image divisible by the macro_block_size or set the macro_block_size to 1 (risking incompatibility).\n",
      "100%|██████████████████████████████████████████████████████| 91/91 [00:04<00:00, 19.08it/s]\n"
     ]
    },
    {
     "name": "stdout",
     "output_type": "stream",
     "text": [
      "Rendering frames...\n"
     ]
    },
    {
     "name": "stderr",
     "output_type": "stream",
     "text": [
      "  0%|                                                               | 0/91 [00:00<?, ?it/s]IMAGEIO FFMPEG_WRITER WARNING: input image is not divisible by macro_block_size=16, resizing from (822, 833) to (832, 848) to ensure video compatibility with most codecs and players. To prevent resizing, make your input image divisible by the macro_block_size or set the macro_block_size to 1 (risking incompatibility).\n",
      "  2%|█▏                                                     | 2/91 [00:00<00:07, 11.97it/s]\n"
     ]
    }
   ],
   "source": [
    "for i in [0,1]:\n",
    "    print(viewer.layers[i].contrast_limits)"
   ]
  },
  {
   "cell_type": "code",
   "execution_count": 16,
   "id": "4ea0bdc8-16ca-4825-afab-49b8d3ffbf62",
   "metadata": {
    "tags": []
   },
   "outputs": [
    {
     "name": "stdout",
     "output_type": "stream",
     "text": [
      "\n",
      "Rendering frames...\n"
     ]
    },
    {
     "name": "stderr",
     "output_type": "stream",
     "text": [
      "  0%|                                                              | 0/601 [00:00<?, ?it/s]IMAGEIO FFMPEG_WRITER WARNING: input image is not divisible by macro_block_size=16, resizing from (822, 833) to (832, 848) to ensure video compatibility with most codecs and players. To prevent resizing, make your input image divisible by the macro_block_size or set the macro_block_size to 1 (risking incompatibility).\n",
      "  0%|                                                      | 1/601 [00:00<01:30,  6.65it/s]\n"
     ]
    }
   ],
   "source": [
    "print()"
   ]
  },
  {
   "cell_type": "code",
   "execution_count": 17,
   "id": "6158a2c7-5f51-4242-a6de-948973ec9104",
   "metadata": {
    "tags": []
   },
   "outputs": [
    {
     "name": "stdout",
     "output_type": "stream",
     "text": [
      "\n",
      "Rendering frames...\n"
     ]
    },
    {
     "name": "stderr",
     "output_type": "stream",
     "text": [
      "  0%|                                                              | 0/601 [00:00<?, ?it/s]IMAGEIO FFMPEG_WRITER WARNING: input image is not divisible by macro_block_size=16, resizing from (822, 833) to (832, 848) to ensure video compatibility with most codecs and players. To prevent resizing, make your input image divisible by the macro_block_size or set the macro_block_size to 1 (risking incompatibility).\n",
      "100%|████████████████████████████████████████████████████| 601/601 [00:29<00:00, 20.60it/s]\n"
     ]
    },
    {
     "name": "stdout",
     "output_type": "stream",
     "text": [
      "Rendering frames...\n"
     ]
    },
    {
     "name": "stderr",
     "output_type": "stream",
     "text": [
      "  0%|                                                              | 0/601 [00:00<?, ?it/s]IMAGEIO FFMPEG_WRITER WARNING: input image is not divisible by macro_block_size=16, resizing from (822, 833) to (832, 848) to ensure video compatibility with most codecs and players. To prevent resizing, make your input image divisible by the macro_block_size or set the macro_block_size to 1 (risking incompatibility).\n",
      "100%|████████████████████████████████████████████████████| 601/601 [00:28<00:00, 20.87it/s]\n"
     ]
    }
   ],
   "source": [
    "print()"
   ]
  },
  {
   "cell_type": "code",
   "execution_count": 13,
   "id": "9555d0c4-0e64-405c-a77a-07334a53dfc1",
   "metadata": {
    "tags": []
   },
   "outputs": [],
   "source": [
    "for i in [0,1]:\n",
    "    viewer.layers[i].scale = [0.4,0.145,0.145]"
   ]
  },
  {
   "cell_type": "markdown",
   "id": "1cb4ec87-d4f5-4de2-ba79-fb7f4a9862d7",
   "metadata": {},
   "source": [
    "### Scape"
   ]
  },
  {
   "cell_type": "code",
   "execution_count": 5,
   "id": "c0361548-490f-4443-bf2e-a0a09f17b9fd",
   "metadata": {
    "tags": []
   },
   "outputs": [
    {
     "data": {
      "text/plain": [
       "['20250813_macrophages_GLA3488_multiPos_lowerLaserP_MMStack_Pos0.ome.deskewed_TRUE_Pos00_CH00_T000.tif',\n",
       " 'MAX20250813_macrophages_GLA3488_multiPos_lowerLaserP_MMStack_Pos0.ome_deskewed_TRUE_Pos00_CH00_T000.tif',\n",
       " 'Thumbs.db']"
      ]
     },
     "execution_count": 5,
     "metadata": {},
     "output_type": "execute_result"
    }
   ],
   "source": [
    "os.listdir(Path(r'Y:\\The_Holy_de_Broglies\\ASI SCAPE\\20250813\\Processed'))"
   ]
  },
  {
   "cell_type": "code",
   "execution_count": 6,
   "id": "15afd7c9-4ec0-4484-99c3-1267eb7f01e0",
   "metadata": {
    "tags": []
   },
   "outputs": [],
   "source": [
    "viewer = napari.Viewer(title = 'scape')"
   ]
  },
  {
   "cell_type": "markdown",
   "id": "8cfe8d17-d673-4003-a90c-4513cee72eb6",
   "metadata": {},
   "source": [
    "### Mouse macrophages"
   ]
  },
  {
   "cell_type": "code",
   "execution_count": 7,
   "id": "6b3c63ad-ea09-49cd-a69b-4f6b4d5a1128",
   "metadata": {
    "tags": []
   },
   "outputs": [],
   "source": [
    "image_path = Path(r'Y:\\The_Holy_de_Broglies\\ASI SCAPE\\20250813\\Processed\\20250813_macrophages_GLA3488_multiPos_lowerLaserP_MMStack_Pos0.ome.deskewed_TRUE_Pos00_CH00_T000.tif')"
   ]
  },
  {
   "cell_type": "code",
   "execution_count": 9,
   "id": "feec0f43-066a-41d2-91a4-c680afda8ce6",
   "metadata": {
    "tags": []
   },
   "outputs": [
    {
     "name": "stdout",
     "output_type": "stream",
     "text": [
      "CPU times: total: 7.48 s\n",
      "Wall time: 25.5 s\n"
     ]
    }
   ],
   "source": [
    "%%time \n",
    "\n",
    "image = io.imread(image_path)"
   ]
  },
  {
   "cell_type": "code",
   "execution_count": 10,
   "id": "981f5e2b-e272-46f6-b2e1-22477033ba64",
   "metadata": {
    "tags": []
   },
   "outputs": [
    {
     "data": {
      "text/plain": [
       "(3, 81, 15, 1321, 1005)"
      ]
     },
     "execution_count": 10,
     "metadata": {},
     "output_type": "execute_result"
    }
   ],
   "source": [
    "image.shape"
   ]
  },
  {
   "cell_type": "markdown",
   "id": "60e39a8b-463b-4936-85eb-35c83abfbdc9",
   "metadata": {},
   "source": [
    "### Separate positions and tile into pseudo config"
   ]
  },
  {
   "cell_type": "code",
   "execution_count": 16,
   "id": "4193fcd4-2b87-47f1-bff0-eb527b68136c",
   "metadata": {
    "tags": []
   },
   "outputs": [
    {
     "data": {
      "application/vnd.jupyter.widget-view+json": {
       "model_id": "cdeaa73d46294d6cabc3872179577d77",
       "version_major": 2,
       "version_minor": 0
      },
      "text/plain": [
       "  0%|          | 0/4 [00:00<?, ?it/s]"
      ]
     },
     "metadata": {},
     "output_type": "display_data"
    },
    {
     "data": {
      "application/vnd.jupyter.widget-view+json": {
       "model_id": "992b15a23943456faaaf33d5d2a00820",
       "version_major": 2,
       "version_minor": 0
      },
      "text/plain": [
       "  0%|          | 0/4 [00:00<?, ?it/s]"
      ]
     },
     "metadata": {},
     "output_type": "display_data"
    },
    {
     "data": {
      "application/vnd.jupyter.widget-view+json": {
       "model_id": "e751f3481c1448a39dccf16a54aa015c",
       "version_major": 2,
       "version_minor": 0
      },
      "text/plain": [
       "  0%|          | 0/4 [00:00<?, ?it/s]"
      ]
     },
     "metadata": {},
     "output_type": "display_data"
    },
    {
     "data": {
      "application/vnd.jupyter.widget-view+json": {
       "model_id": "628ab1a43e134a22bd987218510f0091",
       "version_major": 2,
       "version_minor": 0
      },
      "text/plain": [
       "  0%|          | 0/4 [00:00<?, ?it/s]"
      ]
     },
     "metadata": {},
     "output_type": "display_data"
    },
    {
     "data": {
      "application/vnd.jupyter.widget-view+json": {
       "model_id": "5dbe06a9e19b49508656987d5ef17356",
       "version_major": 2,
       "version_minor": 0
      },
      "text/plain": [
       "  0%|          | 0/4 [00:00<?, ?it/s]"
      ]
     },
     "metadata": {},
     "output_type": "display_data"
    }
   ],
   "source": [
    "# Input: image shaped (C, Z, P, Y, X) e.g. (3, 81, 15, 1321, 1005)\n",
    "C, Z, P, Y, X = image.shape\n",
    "\n",
    "# Choose a compact grid to tile the P=15 positions (row-major, arbitrary order)\n",
    "cols = math.ceil(math.sqrt(P))\n",
    "rows = math.ceil(P / cols)\n",
    "\n",
    "# Allocate output mosaic: (C, Z, Y_total, X_total)\n",
    "mosaic = np.zeros((C, Z, rows * Y, cols * X), dtype=image.dtype)\n",
    "\n",
    "# Tile positions into the mosaic\n",
    "p = 0\n",
    "for r in tqdm(range(rows)):\n",
    "    for c in tqdm(range(cols)):\n",
    "        if p >= P:\n",
    "            break\n",
    "        ys, ye = r * Y, (r + 1) * Y\n",
    "        xs, xe = c * X, (c + 1) * X\n",
    "        mosaic[:, :, ys:ye, xs:xe] = image[:, :, p, :, :]\n",
    "        p += 1\n",
    "\n",
    "# Result: 'mosaic' is (C, Z, Y_total, X_total)"
   ]
  },
  {
   "cell_type": "code",
   "execution_count": 49,
   "id": "5eeaf526-180f-4bb7-8e77-6fafd3bf434a",
   "metadata": {
    "tags": []
   },
   "outputs": [],
   "source": [
    "from scipy.ndimage import shift\n",
    "from tqdm.auto import tqdm\n",
    "import numpy as np"
   ]
  },
  {
   "cell_type": "code",
   "execution_count": 56,
   "id": "25358577-2130-4d28-a3a7-567d156e496d",
   "metadata": {
    "tags": []
   },
   "outputs": [
    {
     "data": {
      "application/vnd.jupyter.widget-view+json": {
       "model_id": "",
       "version_major": 2,
       "version_minor": 0
      },
      "text/plain": [
       "Deskew C0:   0%|          | 0/2251 [00:00<?, ?it/s]"
      ]
     },
     "metadata": {},
     "output_type": "display_data"
    },
    {
     "data": {
      "application/vnd.jupyter.widget-view+json": {
       "model_id": "",
       "version_major": 2,
       "version_minor": 0
      },
      "text/plain": [
       "Deskew C1:   0%|          | 0/2251 [00:00<?, ?it/s]"
      ]
     },
     "metadata": {},
     "output_type": "display_data"
    }
   ],
   "source": [
    "C, Z, Y, X = image.shape\n",
    "\n",
    "angle_deg = 31.8\n",
    "xy_um = 0.145\n",
    "z_um  = 0.400\n",
    "px_shift_per_z = (z_um / xy_um) * np.tan(np.deg2rad(angle_deg))\n",
    "\n",
    "max_shift = int(np.ceil(abs((Z - 1) * px_shift_per_z)))\n",
    "X_expanded = X + max_shift\n",
    "deskewed = np.zeros((C, Z, Y, X_expanded), dtype=image.dtype)\n",
    "\n",
    "x0 = max_shift // 2\n",
    "sign = +1.0  # positive sign as requested\n",
    "\n",
    "for c in range(C):\n",
    "    for z in tqdm(range(Z), leave=False, desc=f\"Deskew C{c}\"):\n",
    "        x_pos = x0 + sign * z * px_shift_per_z\n",
    "        x_int = int(np.floor(x_pos))\n",
    "        frac  = x_pos - x_int\n",
    "\n",
    "        x_start = max(0, min(X_expanded - X, x_int))\n",
    "        canvas = np.zeros((Y, X_expanded), dtype=image.dtype)\n",
    "        canvas[:, x_start : x_start + X] = image[c, z]\n",
    "\n",
    "        if abs(frac) > 1e-6:\n",
    "            canvas = shift(canvas, shift=(0, frac), order=1, mode=\"nearest\", prefilter=False)\n",
    "\n",
    "        deskewed[c, z] = canvas"
   ]
  },
  {
   "cell_type": "code",
   "execution_count": 17,
   "id": "ce0c1da3-21cf-46bd-9d7a-27f9d9bd0d3e",
   "metadata": {
    "tags": []
   },
   "outputs": [
    {
     "data": {
      "text/plain": [
       "(3, 81, 5284, 4020)"
      ]
     },
     "execution_count": 17,
     "metadata": {},
     "output_type": "execute_result"
    }
   ],
   "source": [
    "mosaic.shape"
   ]
  },
  {
   "cell_type": "code",
   "execution_count": 23,
   "id": "429a7ffd-c2fa-4d9b-aee9-d319f171a6ac",
   "metadata": {
    "tags": []
   },
   "outputs": [],
   "source": [
    "mosaic = np.max(mosaic, axis=0)"
   ]
  },
  {
   "cell_type": "markdown",
   "id": "1e299d13-62f6-4310-94c7-4476c208ed5a",
   "metadata": {},
   "source": [
    "## Visualise"
   ]
  },
  {
   "cell_type": "code",
   "execution_count": 24,
   "id": "0f456e62-07ff-4800-8235-c7f5aa7d66a4",
   "metadata": {
    "tags": []
   },
   "outputs": [
    {
     "data": {
      "text/plain": [
       "<Image layer 'mosaic' at 0x1be06a59b90>"
      ]
     },
     "execution_count": 24,
     "metadata": {},
     "output_type": "execute_result"
    }
   ],
   "source": [
    "viewer.add_image(mosaic, name = 'mosaic')"
   ]
  },
  {
   "cell_type": "code",
   "execution_count": 25,
   "id": "419d4c26-db23-400c-9e89-48b7c348b2b8",
   "metadata": {
    "tags": []
   },
   "outputs": [
    {
     "data": {
      "text/plain": [
       "[<Image layer 'mosaic' at 0x1be06a59b90>]"
      ]
     },
     "execution_count": 25,
     "metadata": {},
     "output_type": "execute_result"
    }
   ],
   "source": [
    "viewer.layers"
   ]
  },
  {
   "cell_type": "code",
   "execution_count": 27,
   "id": "bcf6d7a5-7cf0-4825-ba83-b48c0bb54dc6",
   "metadata": {
    "tags": []
   },
   "outputs": [],
   "source": [
    "for i in viewer.layers:\n",
    "    i.scale = [0.5, 0.391, 0.391]"
   ]
  },
  {
   "cell_type": "code",
   "execution_count": 28,
   "id": "bb8d59de-f83a-454a-b75f-4965b06a2827",
   "metadata": {
    "tags": []
   },
   "outputs": [],
   "source": [
    "viewer.scale_bar.visible = True\n",
    "viewer.scale_bar.unit = 'μm'"
   ]
  },
  {
   "cell_type": "code",
   "execution_count": 31,
   "id": "945ee82d-e51d-4b97-a4ea-b19890202a87",
   "metadata": {
    "tags": []
   },
   "outputs": [
    {
     "name": "stdout",
     "output_type": "stream",
     "text": [
      "Rendering frames...\n"
     ]
    },
    {
     "name": "stderr",
     "output_type": "stream",
     "text": [
      "  0%|                                                  | 0/151 [00:00<?, ?it/s]IMAGEIO FFMPEG_WRITER WARNING: input image is not divisible by macro_block_size=16, resizing from (709, 825) to (720, 832) to ensure video compatibility with most codecs and players. To prevent resizing, make your input image divisible by the macro_block_size or set the macro_block_size to 1 (risking incompatibility).\n",
      "100%|████████████████████████████████████████| 151/151 [00:05<00:00, 26.56it/s]\n"
     ]
    },
    {
     "name": "stdout",
     "output_type": "stream",
     "text": [
      "Rendering frames...\n"
     ]
    },
    {
     "name": "stderr",
     "output_type": "stream",
     "text": [
      "  0%|                                                  | 0/151 [00:00<?, ?it/s]IMAGEIO FFMPEG_WRITER WARNING: input image is not divisible by macro_block_size=16, resizing from (709, 825) to (720, 832) to ensure video compatibility with most codecs and players. To prevent resizing, make your input image divisible by the macro_block_size or set the macro_block_size to 1 (risking incompatibility).\n",
      "100%|████████████████████████████████████████| 151/151 [00:05<00:00, 26.98it/s]\n"
     ]
    }
   ],
   "source": [
    "viewer.scale_bar.font_size = 20\n",
    "viewer.scale_bar.ticks = False"
   ]
  },
  {
   "cell_type": "code",
   "execution_count": 29,
   "id": "bdc79e06-37ac-45eb-81b8-a3a160601874",
   "metadata": {
    "tags": []
   },
   "outputs": [
    {
     "name": "stdout",
     "output_type": "stream",
     "text": [
      "[0.0, 117.0]\n"
     ]
    },
    {
     "ename": "IndexError",
     "evalue": "list index out of range",
     "output_type": "error",
     "traceback": [
      "\u001b[1;31m---------------------------------------------------------------------------\u001b[0m",
      "\u001b[1;31mIndexError\u001b[0m                                Traceback (most recent call last)",
      "Cell \u001b[1;32mIn[29], line 2\u001b[0m\n\u001b[0;32m      1\u001b[0m \u001b[38;5;28;01mfor\u001b[39;00m i \u001b[38;5;129;01min\u001b[39;00m [\u001b[38;5;241m0\u001b[39m,\u001b[38;5;241m1\u001b[39m]:\n\u001b[1;32m----> 2\u001b[0m     \u001b[38;5;28mprint\u001b[39m(\u001b[43mviewer\u001b[49m\u001b[38;5;241;43m.\u001b[39;49m\u001b[43mlayers\u001b[49m\u001b[43m[\u001b[49m\u001b[43mi\u001b[49m\u001b[43m]\u001b[49m\u001b[38;5;241m.\u001b[39mcontrast_limits)\n",
      "File \u001b[1;32m~\\miniforge3\\envs\\embo25\\Lib\\site-packages\\napari\\components\\layerlist.py:170\u001b[0m, in \u001b[0;36mLayerList.__getitem__\u001b[1;34m(self, item)\u001b[0m\n\u001b[0;32m    169\u001b[0m \u001b[38;5;28;01mdef\u001b[39;00m\u001b[38;5;250m \u001b[39m\u001b[38;5;21m__getitem__\u001b[39m(\u001b[38;5;28mself\u001b[39m, item):\n\u001b[1;32m--> 170\u001b[0m     \u001b[38;5;28;01mreturn\u001b[39;00m \u001b[38;5;28;43msuper\u001b[39;49m\u001b[43m(\u001b[49m\u001b[43m)\u001b[49m\u001b[38;5;241;43m.\u001b[39;49m\u001b[38;5;21;43m__getitem__\u001b[39;49m\u001b[43m(\u001b[49m\u001b[43mitem\u001b[49m\u001b[43m)\u001b[49m\n",
      "File \u001b[1;32m~\\miniforge3\\envs\\embo25\\Lib\\site-packages\\napari\\utils\\events\\containers\\_typed.py:148\u001b[0m, in \u001b[0;36mTypedMutableSequence.__getitem__\u001b[1;34m(self, key)\u001b[0m\n\u001b[0;32m    145\u001b[0m     \u001b[38;5;28;01mexcept\u001b[39;00m \u001b[38;5;167;01mValueError\u001b[39;00m \u001b[38;5;28;01mas\u001b[39;00m e:\n\u001b[0;32m    146\u001b[0m         \u001b[38;5;28;01mraise\u001b[39;00m \u001b[38;5;167;01mKeyError\u001b[39;00m(\u001b[38;5;28mstr\u001b[39m(e)) \u001b[38;5;28;01mfrom\u001b[39;00m\u001b[38;5;250m \u001b[39m\u001b[38;5;21;01me\u001b[39;00m\n\u001b[1;32m--> 148\u001b[0m result \u001b[38;5;241m=\u001b[39m \u001b[38;5;28;43mself\u001b[39;49m\u001b[38;5;241;43m.\u001b[39;49m\u001b[43m_list\u001b[49m\u001b[43m[\u001b[49m\u001b[43mkey\u001b[49m\u001b[43m]\u001b[49m\n\u001b[0;32m    149\u001b[0m \u001b[38;5;28;01mreturn\u001b[39;00m \u001b[38;5;28mself\u001b[39m\u001b[38;5;241m.\u001b[39m__newlike__(result) \u001b[38;5;28;01mif\u001b[39;00m \u001b[38;5;28misinstance\u001b[39m(result, \u001b[38;5;28mlist\u001b[39m) \u001b[38;5;28;01melse\u001b[39;00m result\n",
      "\u001b[1;31mIndexError\u001b[0m: list index out of range"
     ]
    }
   ],
   "source": [
    "for i in [0,1]:\n",
    "    print(viewer.layers[i].contrast_limits)"
   ]
  }
 ],
 "metadata": {
  "kernelspec": {
   "display_name": "Python 3 (ipykernel)",
   "language": "python",
   "name": "python3"
  },
  "language_info": {
   "codemirror_mode": {
    "name": "ipython",
    "version": 3
   },
   "file_extension": ".py",
   "mimetype": "text/x-python",
   "name": "python",
   "nbconvert_exporter": "python",
   "pygments_lexer": "ipython3",
   "version": "3.11.13"
  }
 },
 "nbformat": 4,
 "nbformat_minor": 5
}
