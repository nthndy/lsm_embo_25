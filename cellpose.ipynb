{
 "cells": [
  {
   "cell_type": "code",
   "execution_count": null,
   "id": "0040fc94-7e5a-4bad-9ce5-bd221184986b",
   "metadata": {
    "tags": []
   },
   "outputs": [
    {
     "name": "stdout",
     "output_type": "stream",
     "text": [
      "\n",
      "\n",
      "Welcome to CellposeSAM, cellpose v\n",
      "cellpose version: \t4.0.6 \n",
      "platform:       \twin32 \n",
      "python version: \t3.10.18 \n",
      "torch version:  \t2.8.0+cu126! The neural network component of\n",
      "CPSAM is much larger than in previous versions and CPU excution is slow. \n",
      "We encourage users to use GPU/MPS if available. \n",
      "\n",
      "\n"
     ]
    }
   ],
   "source": [
    "from cellpose import models"
   ]
  },
  {
   "cell_type": "code",
   "execution_count": null,
   "id": "d12976f2-d2a3-489c-bc43-bd1649a7e552",
   "metadata": {
    "tags": []
   },
   "outputs": [],
   "source": [
    "# import napari\n",
    "from pathlib import Path\n",
    "# from skimage import io\n",
    "import os, glob\n",
    "import czifile\n",
    "import numpy as np\n",
    "from tqdm.auto import tqdm\n",
    "import cellpose"
   ]
  },
  {
   "cell_type": "code",
   "execution_count": 7,
   "id": "ce6baa1c-c7a7-4424-baa9-1e659ab8d26e",
   "metadata": {
    "tags": []
   },
   "outputs": [
    {
     "name": "stdout",
     "output_type": "stream",
     "text": [
      "20250814_gfapgfp_tp1mch_2dpf_40x_zls7_2025_08_14__20_40_18_733(1).czi: 5653.62 MB\n",
      "20250814_gfapgfp_tp1mch_2dpf_40x_zls7_2025_08_14__20_40_18_733(10).czi: 5653.62 MB\n",
      "20250814_gfapgfp_tp1mch_2dpf_40x_zls7_2025_08_14__20_40_18_733(100).czi: 5653.62 MB\n",
      "20250814_gfapgfp_tp1mch_2dpf_40x_zls7_2025_08_14__20_40_18_733(101).czi: 5653.62 MB\n",
      "20250814_gfapgfp_tp1mch_2dpf_40x_zls7_2025_08_14__20_40_18_733(102).czi: 5653.62 MB\n",
      "20250814_gfapgfp_tp1mch_2dpf_40x_zls7_2025_08_14__20_40_18_733(103).czi: 5653.62 MB\n",
      "20250814_gfapgfp_tp1mch_2dpf_40x_zls7_2025_08_14__20_40_18_733(104).czi: 5653.62 MB\n",
      "20250814_gfapgfp_tp1mch_2dpf_40x_zls7_2025_08_14__20_40_18_733(105).czi: 5653.62 MB\n",
      "20250814_gfapgfp_tp1mch_2dpf_40x_zls7_2025_08_14__20_40_18_733(106).czi: 5653.62 MB\n",
      "20250814_gfapgfp_tp1mch_2dpf_40x_zls7_2025_08_14__20_40_18_733(107).czi: 5653.62 MB\n",
      "20250814_gfapgfp_tp1mch_2dpf_40x_zls7_2025_08_14__20_40_18_733(108).czi: 5653.62 MB\n",
      "20250814_gfapgfp_tp1mch_2dpf_40x_zls7_2025_08_14__20_40_18_733(109).czi: 5653.62 MB\n",
      "20250814_gfapgfp_tp1mch_2dpf_40x_zls7_2025_08_14__20_40_18_733(11).czi: 5653.62 MB\n",
      "20250814_gfapgfp_tp1mch_2dpf_40x_zls7_2025_08_14__20_40_18_733(110).czi: 5653.62 MB\n",
      "20250814_gfapgfp_tp1mch_2dpf_40x_zls7_2025_08_14__20_40_18_733(111).czi: 5653.62 MB\n",
      "20250814_gfapgfp_tp1mch_2dpf_40x_zls7_2025_08_14__20_40_18_733(112).czi: 5653.62 MB\n",
      "20250814_gfapgfp_tp1mch_2dpf_40x_zls7_2025_08_14__20_40_18_733(113).czi: 5653.62 MB\n",
      "20250814_gfapgfp_tp1mch_2dpf_40x_zls7_2025_08_14__20_40_18_733(114).czi: 5653.62 MB\n",
      "20250814_gfapgfp_tp1mch_2dpf_40x_zls7_2025_08_14__20_40_18_733(115).czi: 5653.62 MB\n",
      "20250814_gfapgfp_tp1mch_2dpf_40x_zls7_2025_08_14__20_40_18_733(116).czi: 5653.62 MB\n",
      "20250814_gfapgfp_tp1mch_2dpf_40x_zls7_2025_08_14__20_40_18_733(117).czi: 5653.62 MB\n",
      "20250814_gfapgfp_tp1mch_2dpf_40x_zls7_2025_08_14__20_40_18_733(118).czi: 5653.62 MB\n",
      "20250814_gfapgfp_tp1mch_2dpf_40x_zls7_2025_08_14__20_40_18_733(119).czi: 5653.62 MB\n",
      "20250814_gfapgfp_tp1mch_2dpf_40x_zls7_2025_08_14__20_40_18_733(12).czi: 5653.62 MB\n",
      "20250814_gfapgfp_tp1mch_2dpf_40x_zls7_2025_08_14__20_40_18_733(120).czi: 5653.62 MB\n",
      "20250814_gfapgfp_tp1mch_2dpf_40x_zls7_2025_08_14__20_40_18_733(121).czi: 5653.62 MB\n",
      "20250814_gfapgfp_tp1mch_2dpf_40x_zls7_2025_08_14__20_40_18_733(122).czi: 5653.62 MB\n",
      "20250814_gfapgfp_tp1mch_2dpf_40x_zls7_2025_08_14__20_40_18_733(123).czi: 5653.62 MB\n",
      "20250814_gfapgfp_tp1mch_2dpf_40x_zls7_2025_08_14__20_40_18_733(124).czi: 5653.62 MB\n",
      "20250814_gfapgfp_tp1mch_2dpf_40x_zls7_2025_08_14__20_40_18_733(125).czi: 5653.62 MB\n",
      "20250814_gfapgfp_tp1mch_2dpf_40x_zls7_2025_08_14__20_40_18_733(126).czi: 5653.62 MB\n",
      "20250814_gfapgfp_tp1mch_2dpf_40x_zls7_2025_08_14__20_40_18_733(127).czi: 5653.62 MB\n",
      "20250814_gfapgfp_tp1mch_2dpf_40x_zls7_2025_08_14__20_40_18_733(128).czi: 5653.62 MB\n",
      "20250814_gfapgfp_tp1mch_2dpf_40x_zls7_2025_08_14__20_40_18_733(129).czi: 5653.62 MB\n",
      "20250814_gfapgfp_tp1mch_2dpf_40x_zls7_2025_08_14__20_40_18_733(13).czi: 5653.62 MB\n",
      "20250814_gfapgfp_tp1mch_2dpf_40x_zls7_2025_08_14__20_40_18_733(130).czi: 5653.62 MB\n",
      "20250814_gfapgfp_tp1mch_2dpf_40x_zls7_2025_08_14__20_40_18_733(131).czi: 5653.62 MB\n",
      "20250814_gfapgfp_tp1mch_2dpf_40x_zls7_2025_08_14__20_40_18_733(132).czi: 5653.62 MB\n",
      "20250814_gfapgfp_tp1mch_2dpf_40x_zls7_2025_08_14__20_40_18_733(133).czi: 5653.62 MB\n",
      "20250814_gfapgfp_tp1mch_2dpf_40x_zls7_2025_08_14__20_40_18_733(134).czi: 5653.62 MB\n",
      "20250814_gfapgfp_tp1mch_2dpf_40x_zls7_2025_08_14__20_40_18_733(135).czi: 5653.62 MB\n",
      "20250814_gfapgfp_tp1mch_2dpf_40x_zls7_2025_08_14__20_40_18_733(136).czi: 5653.62 MB\n",
      "20250814_gfapgfp_tp1mch_2dpf_40x_zls7_2025_08_14__20_40_18_733(137).czi: 5653.62 MB\n",
      "20250814_gfapgfp_tp1mch_2dpf_40x_zls7_2025_08_14__20_40_18_733(138).czi: 5653.62 MB\n",
      "20250814_gfapgfp_tp1mch_2dpf_40x_zls7_2025_08_14__20_40_18_733(139).czi: 5653.62 MB\n",
      "20250814_gfapgfp_tp1mch_2dpf_40x_zls7_2025_08_14__20_40_18_733(14).czi: 5653.62 MB\n",
      "20250814_gfapgfp_tp1mch_2dpf_40x_zls7_2025_08_14__20_40_18_733(140).czi: 5653.62 MB\n",
      "20250814_gfapgfp_tp1mch_2dpf_40x_zls7_2025_08_14__20_40_18_733(141).czi: 5653.62 MB\n",
      "20250814_gfapgfp_tp1mch_2dpf_40x_zls7_2025_08_14__20_40_18_733(142).czi: 5653.62 MB\n",
      "20250814_gfapgfp_tp1mch_2dpf_40x_zls7_2025_08_14__20_40_18_733(143).czi: 5653.62 MB\n",
      "20250814_gfapgfp_tp1mch_2dpf_40x_zls7_2025_08_14__20_40_18_733(144).czi: 5653.62 MB\n",
      "20250814_gfapgfp_tp1mch_2dpf_40x_zls7_2025_08_14__20_40_18_733(145).czi: 5653.62 MB\n",
      "20250814_gfapgfp_tp1mch_2dpf_40x_zls7_2025_08_14__20_40_18_733(146).czi: 5653.62 MB\n",
      "20250814_gfapgfp_tp1mch_2dpf_40x_zls7_2025_08_14__20_40_18_733(147).czi: 5653.62 MB\n",
      "20250814_gfapgfp_tp1mch_2dpf_40x_zls7_2025_08_14__20_40_18_733(148).czi: 5653.62 MB\n",
      "20250814_gfapgfp_tp1mch_2dpf_40x_zls7_2025_08_14__20_40_18_733(149).czi: 5653.62 MB\n",
      "20250814_gfapgfp_tp1mch_2dpf_40x_zls7_2025_08_14__20_40_18_733(15).czi: 5653.62 MB\n",
      "20250814_gfapgfp_tp1mch_2dpf_40x_zls7_2025_08_14__20_40_18_733(150).czi: 5653.62 MB\n",
      "20250814_gfapgfp_tp1mch_2dpf_40x_zls7_2025_08_14__20_40_18_733(151).czi: 5653.62 MB\n",
      "20250814_gfapgfp_tp1mch_2dpf_40x_zls7_2025_08_14__20_40_18_733(152).czi: 5653.62 MB\n",
      "20250814_gfapgfp_tp1mch_2dpf_40x_zls7_2025_08_14__20_40_18_733(16).czi: 5653.62 MB\n",
      "20250814_gfapgfp_tp1mch_2dpf_40x_zls7_2025_08_14__20_40_18_733(17).czi: 5653.62 MB\n",
      "20250814_gfapgfp_tp1mch_2dpf_40x_zls7_2025_08_14__20_40_18_733(18).czi: 5653.62 MB\n",
      "20250814_gfapgfp_tp1mch_2dpf_40x_zls7_2025_08_14__20_40_18_733(19).czi: 5653.62 MB\n",
      "20250814_gfapgfp_tp1mch_2dpf_40x_zls7_2025_08_14__20_40_18_733(2).czi: 5653.62 MB\n",
      "20250814_gfapgfp_tp1mch_2dpf_40x_zls7_2025_08_14__20_40_18_733(20).czi: 5653.62 MB\n",
      "20250814_gfapgfp_tp1mch_2dpf_40x_zls7_2025_08_14__20_40_18_733(21).czi: 5653.62 MB\n",
      "20250814_gfapgfp_tp1mch_2dpf_40x_zls7_2025_08_14__20_40_18_733(22).czi: 5653.62 MB\n",
      "20250814_gfapgfp_tp1mch_2dpf_40x_zls7_2025_08_14__20_40_18_733(23).czi: 5653.62 MB\n",
      "20250814_gfapgfp_tp1mch_2dpf_40x_zls7_2025_08_14__20_40_18_733(24).czi: 5653.62 MB\n",
      "20250814_gfapgfp_tp1mch_2dpf_40x_zls7_2025_08_14__20_40_18_733(25).czi: 5653.62 MB\n",
      "20250814_gfapgfp_tp1mch_2dpf_40x_zls7_2025_08_14__20_40_18_733(26).czi: 5653.62 MB\n",
      "20250814_gfapgfp_tp1mch_2dpf_40x_zls7_2025_08_14__20_40_18_733(27).czi: 5653.62 MB\n",
      "20250814_gfapgfp_tp1mch_2dpf_40x_zls7_2025_08_14__20_40_18_733(28).czi: 5653.62 MB\n",
      "20250814_gfapgfp_tp1mch_2dpf_40x_zls7_2025_08_14__20_40_18_733(29).czi: 5653.62 MB\n",
      "20250814_gfapgfp_tp1mch_2dpf_40x_zls7_2025_08_14__20_40_18_733(3).czi: 5653.62 MB\n",
      "20250814_gfapgfp_tp1mch_2dpf_40x_zls7_2025_08_14__20_40_18_733(30).czi: 5653.62 MB\n",
      "20250814_gfapgfp_tp1mch_2dpf_40x_zls7_2025_08_14__20_40_18_733(31).czi: 5653.62 MB\n",
      "20250814_gfapgfp_tp1mch_2dpf_40x_zls7_2025_08_14__20_40_18_733(32).czi: 5653.62 MB\n",
      "20250814_gfapgfp_tp1mch_2dpf_40x_zls7_2025_08_14__20_40_18_733(33).czi: 5653.62 MB\n",
      "20250814_gfapgfp_tp1mch_2dpf_40x_zls7_2025_08_14__20_40_18_733(34).czi: 5653.62 MB\n",
      "20250814_gfapgfp_tp1mch_2dpf_40x_zls7_2025_08_14__20_40_18_733(35).czi: 5653.62 MB\n",
      "20250814_gfapgfp_tp1mch_2dpf_40x_zls7_2025_08_14__20_40_18_733(36).czi: 5653.62 MB\n",
      "20250814_gfapgfp_tp1mch_2dpf_40x_zls7_2025_08_14__20_40_18_733(37).czi: 5653.62 MB\n",
      "20250814_gfapgfp_tp1mch_2dpf_40x_zls7_2025_08_14__20_40_18_733(38).czi: 5653.62 MB\n",
      "20250814_gfapgfp_tp1mch_2dpf_40x_zls7_2025_08_14__20_40_18_733(39).czi: 5653.62 MB\n",
      "20250814_gfapgfp_tp1mch_2dpf_40x_zls7_2025_08_14__20_40_18_733(4).czi: 5653.62 MB\n",
      "20250814_gfapgfp_tp1mch_2dpf_40x_zls7_2025_08_14__20_40_18_733(40).czi: 5653.62 MB\n",
      "20250814_gfapgfp_tp1mch_2dpf_40x_zls7_2025_08_14__20_40_18_733(41).czi: 5653.62 MB\n",
      "20250814_gfapgfp_tp1mch_2dpf_40x_zls7_2025_08_14__20_40_18_733(42).czi: 5653.62 MB\n",
      "20250814_gfapgfp_tp1mch_2dpf_40x_zls7_2025_08_14__20_40_18_733(43).czi: 5653.62 MB\n",
      "20250814_gfapgfp_tp1mch_2dpf_40x_zls7_2025_08_14__20_40_18_733(44).czi: 5653.62 MB\n",
      "20250814_gfapgfp_tp1mch_2dpf_40x_zls7_2025_08_14__20_40_18_733(45).czi: 5653.62 MB\n",
      "20250814_gfapgfp_tp1mch_2dpf_40x_zls7_2025_08_14__20_40_18_733(46).czi: 5653.62 MB\n",
      "20250814_gfapgfp_tp1mch_2dpf_40x_zls7_2025_08_14__20_40_18_733(47).czi: 5653.62 MB\n",
      "20250814_gfapgfp_tp1mch_2dpf_40x_zls7_2025_08_14__20_40_18_733(48).czi: 5653.62 MB\n",
      "20250814_gfapgfp_tp1mch_2dpf_40x_zls7_2025_08_14__20_40_18_733(49).czi: 5653.62 MB\n",
      "20250814_gfapgfp_tp1mch_2dpf_40x_zls7_2025_08_14__20_40_18_733(5).czi: 5653.62 MB\n",
      "20250814_gfapgfp_tp1mch_2dpf_40x_zls7_2025_08_14__20_40_18_733(50).czi: 5653.62 MB\n",
      "20250814_gfapgfp_tp1mch_2dpf_40x_zls7_2025_08_14__20_40_18_733(51).czi: 5653.62 MB\n",
      "20250814_gfapgfp_tp1mch_2dpf_40x_zls7_2025_08_14__20_40_18_733(52).czi: 5653.62 MB\n",
      "20250814_gfapgfp_tp1mch_2dpf_40x_zls7_2025_08_14__20_40_18_733(53).czi: 5653.62 MB\n",
      "20250814_gfapgfp_tp1mch_2dpf_40x_zls7_2025_08_14__20_40_18_733(54).czi: 5653.62 MB\n",
      "20250814_gfapgfp_tp1mch_2dpf_40x_zls7_2025_08_14__20_40_18_733(55).czi: 5653.62 MB\n",
      "20250814_gfapgfp_tp1mch_2dpf_40x_zls7_2025_08_14__20_40_18_733(56).czi: 5653.62 MB\n",
      "20250814_gfapgfp_tp1mch_2dpf_40x_zls7_2025_08_14__20_40_18_733(57).czi: 5653.62 MB\n",
      "20250814_gfapgfp_tp1mch_2dpf_40x_zls7_2025_08_14__20_40_18_733(58).czi: 5653.62 MB\n",
      "20250814_gfapgfp_tp1mch_2dpf_40x_zls7_2025_08_14__20_40_18_733(59).czi: 5653.62 MB\n",
      "20250814_gfapgfp_tp1mch_2dpf_40x_zls7_2025_08_14__20_40_18_733(6).czi: 5653.62 MB\n",
      "20250814_gfapgfp_tp1mch_2dpf_40x_zls7_2025_08_14__20_40_18_733(60).czi: 5653.62 MB\n",
      "20250814_gfapgfp_tp1mch_2dpf_40x_zls7_2025_08_14__20_40_18_733(61).czi: 5653.62 MB\n",
      "20250814_gfapgfp_tp1mch_2dpf_40x_zls7_2025_08_14__20_40_18_733(62).czi: 5653.62 MB\n",
      "20250814_gfapgfp_tp1mch_2dpf_40x_zls7_2025_08_14__20_40_18_733(63).czi: 5653.62 MB\n",
      "20250814_gfapgfp_tp1mch_2dpf_40x_zls7_2025_08_14__20_40_18_733(64).czi: 5653.62 MB\n",
      "20250814_gfapgfp_tp1mch_2dpf_40x_zls7_2025_08_14__20_40_18_733(65).czi: 5653.62 MB\n",
      "20250814_gfapgfp_tp1mch_2dpf_40x_zls7_2025_08_14__20_40_18_733(66).czi: 5653.62 MB\n",
      "20250814_gfapgfp_tp1mch_2dpf_40x_zls7_2025_08_14__20_40_18_733(67).czi: 5653.62 MB\n",
      "20250814_gfapgfp_tp1mch_2dpf_40x_zls7_2025_08_14__20_40_18_733(68).czi: 5653.62 MB\n",
      "20250814_gfapgfp_tp1mch_2dpf_40x_zls7_2025_08_14__20_40_18_733(69).czi: 5653.62 MB\n",
      "20250814_gfapgfp_tp1mch_2dpf_40x_zls7_2025_08_14__20_40_18_733(7).czi: 5653.62 MB\n",
      "20250814_gfapgfp_tp1mch_2dpf_40x_zls7_2025_08_14__20_40_18_733(70).czi: 5653.62 MB\n",
      "20250814_gfapgfp_tp1mch_2dpf_40x_zls7_2025_08_14__20_40_18_733(71).czi: 5653.62 MB\n",
      "20250814_gfapgfp_tp1mch_2dpf_40x_zls7_2025_08_14__20_40_18_733(72).czi: 5653.62 MB\n",
      "20250814_gfapgfp_tp1mch_2dpf_40x_zls7_2025_08_14__20_40_18_733(73).czi: 5653.62 MB\n",
      "20250814_gfapgfp_tp1mch_2dpf_40x_zls7_2025_08_14__20_40_18_733(74).czi: 5653.62 MB\n",
      "20250814_gfapgfp_tp1mch_2dpf_40x_zls7_2025_08_14__20_40_18_733(75).czi: 5653.62 MB\n",
      "20250814_gfapgfp_tp1mch_2dpf_40x_zls7_2025_08_14__20_40_18_733(76).czi: 5653.62 MB\n",
      "20250814_gfapgfp_tp1mch_2dpf_40x_zls7_2025_08_14__20_40_18_733(77).czi: 5653.62 MB\n",
      "20250814_gfapgfp_tp1mch_2dpf_40x_zls7_2025_08_14__20_40_18_733(78).czi: 5653.62 MB\n",
      "20250814_gfapgfp_tp1mch_2dpf_40x_zls7_2025_08_14__20_40_18_733(79).czi: 5653.62 MB\n",
      "20250814_gfapgfp_tp1mch_2dpf_40x_zls7_2025_08_14__20_40_18_733(8).czi: 5653.62 MB\n",
      "20250814_gfapgfp_tp1mch_2dpf_40x_zls7_2025_08_14__20_40_18_733(80).czi: 5653.62 MB\n",
      "20250814_gfapgfp_tp1mch_2dpf_40x_zls7_2025_08_14__20_40_18_733(81).czi: 5653.62 MB\n",
      "20250814_gfapgfp_tp1mch_2dpf_40x_zls7_2025_08_14__20_40_18_733(82).czi: 5653.62 MB\n",
      "20250814_gfapgfp_tp1mch_2dpf_40x_zls7_2025_08_14__20_40_18_733(83).czi: 5653.62 MB\n",
      "20250814_gfapgfp_tp1mch_2dpf_40x_zls7_2025_08_14__20_40_18_733(84).czi: 5653.62 MB\n",
      "20250814_gfapgfp_tp1mch_2dpf_40x_zls7_2025_08_14__20_40_18_733(85).czi: 5653.62 MB\n",
      "20250814_gfapgfp_tp1mch_2dpf_40x_zls7_2025_08_14__20_40_18_733(86).czi: 5653.62 MB\n",
      "20250814_gfapgfp_tp1mch_2dpf_40x_zls7_2025_08_14__20_40_18_733(87).czi: 5653.62 MB\n",
      "20250814_gfapgfp_tp1mch_2dpf_40x_zls7_2025_08_14__20_40_18_733(88).czi: 5653.62 MB\n",
      "20250814_gfapgfp_tp1mch_2dpf_40x_zls7_2025_08_14__20_40_18_733(89).czi: 5653.62 MB\n",
      "20250814_gfapgfp_tp1mch_2dpf_40x_zls7_2025_08_14__20_40_18_733(9).czi: 5653.62 MB\n",
      "20250814_gfapgfp_tp1mch_2dpf_40x_zls7_2025_08_14__20_40_18_733(90).czi: 5653.62 MB\n",
      "20250814_gfapgfp_tp1mch_2dpf_40x_zls7_2025_08_14__20_40_18_733(91).czi: 5653.62 MB\n",
      "20250814_gfapgfp_tp1mch_2dpf_40x_zls7_2025_08_14__20_40_18_733(92).czi: 5653.62 MB\n",
      "20250814_gfapgfp_tp1mch_2dpf_40x_zls7_2025_08_14__20_40_18_733(93).czi: 5653.62 MB\n",
      "20250814_gfapgfp_tp1mch_2dpf_40x_zls7_2025_08_14__20_40_18_733(94).czi: 5653.62 MB\n",
      "20250814_gfapgfp_tp1mch_2dpf_40x_zls7_2025_08_14__20_40_18_733(95).czi: 5653.62 MB\n",
      "20250814_gfapgfp_tp1mch_2dpf_40x_zls7_2025_08_14__20_40_18_733(96).czi: 5653.62 MB\n",
      "20250814_gfapgfp_tp1mch_2dpf_40x_zls7_2025_08_14__20_40_18_733(97).czi: 5653.62 MB\n",
      "20250814_gfapgfp_tp1mch_2dpf_40x_zls7_2025_08_14__20_40_18_733(98).czi: 5653.62 MB\n",
      "20250814_gfapgfp_tp1mch_2dpf_40x_zls7_2025_08_14__20_40_18_733(99).czi: 5653.62 MB\n",
      "20250814_gfapgfp_tp1mch_2dpf_40x_zls7_2025_08_14__20_40_18_733.czi: 5653.68 MB\n",
      "\n",
      "Number of files: 153\n",
      "Total stacked size: 844.73 GB\n"
     ]
    }
   ],
   "source": [
    "\n",
    "# Path to your files\n",
    "files_dir = Path(r'Z:\\Zeiss\\Rebecca\\zeisslightsheet7\\20250814')\n",
    "\n",
    "# Use string when passing to glob\n",
    "files = glob.glob(str(files_dir / '*.czi'))\n",
    "\n",
    "# Get file sizes in bytes\n",
    "file_sizes = [os.path.getsize(f) for f in files]\n",
    "\n",
    "# Convert sizes\n",
    "file_sizes_mb = [s / (1024**2) for s in file_sizes]\n",
    "total_size_gb = sum(file_sizes) / (1024**3)\n",
    "\n",
    "# Print summary\n",
    "for f, s in zip(files, file_sizes_mb):\n",
    "    print(f\"{Path(f).name}: {s:.2f} MB\")\n",
    "\n",
    "print(f\"\\nNumber of files: {len(files)}\")\n",
    "print(f\"Total stacked size: {total_size_gb:.2f} GB\")"
   ]
  },
  {
   "cell_type": "code",
   "execution_count": 8,
   "id": "e7b835ff-4231-48fe-a978-12750e5dd772",
   "metadata": {
    "tags": []
   },
   "outputs": [],
   "source": [
    "test_fn = Path(files_dir, '20250814_gfapgfp_tp1mch_2dpf_40x_zls7_2025_08_14__20_40_18_733(152).czi')"
   ]
  },
  {
   "cell_type": "code",
   "execution_count": 9,
   "id": "54030484-c2b1-4ca0-adad-1e7840efea36",
   "metadata": {
    "tags": []
   },
   "outputs": [
    {
     "name": "stdout",
     "output_type": "stream",
     "text": [
      "CPU times: total: 11.3 s\n",
      "Wall time: 18.1 s\n"
     ]
    }
   ],
   "source": [
    "%%time\n",
    "\n",
    "image = np.squeeze(czifile.imread(test_fn))"
   ]
  },
  {
   "cell_type": "code",
   "execution_count": 10,
   "id": "e7b3b088-6b5d-4c48-af2d-7cb123f6c8e0",
   "metadata": {
    "tags": []
   },
   "outputs": [
    {
     "data": {
      "text/plain": [
       "(2, 402, 1920, 1920)"
      ]
     },
     "execution_count": 10,
     "metadata": {},
     "output_type": "execute_result"
    }
   ],
   "source": [
    "image.shape"
   ]
  },
  {
   "cell_type": "code",
   "execution_count": 15,
   "id": "6ced0e96-ae35-409e-bacf-64246fa82c76",
   "metadata": {
    "tags": []
   },
   "outputs": [
    {
     "ename": "ImportError",
     "evalue": "DLL load failed while importing _imaging: The operating system cannot run %1.",
     "output_type": "error",
     "traceback": [
      "\u001b[1;31m---------------------------------------------------------------------------\u001b[0m",
      "\u001b[1;31mImportError\u001b[0m                               Traceback (most recent call last)",
      "Cell \u001b[1;32mIn[15], line 1\u001b[0m\n\u001b[1;32m----> 1\u001b[0m \u001b[38;5;28;01mfrom\u001b[39;00m\u001b[38;5;250m \u001b[39m\u001b[38;5;21;01mcellpose\u001b[39;00m\u001b[38;5;250m \u001b[39m\u001b[38;5;28;01mimport\u001b[39;00m models\n",
      "File \u001b[1;32m~\\miniforge3\\envs\\cellpose\\lib\\site-packages\\cellpose\\models.py:19\u001b[0m\n\u001b[0;32m     16\u001b[0m models_logger \u001b[38;5;241m=\u001b[39m logging\u001b[38;5;241m.\u001b[39mgetLogger(\u001b[38;5;18m__name__\u001b[39m)\n\u001b[0;32m     18\u001b[0m \u001b[38;5;28;01mfrom\u001b[39;00m\u001b[38;5;250m \u001b[39m\u001b[38;5;21;01m.\u001b[39;00m\u001b[38;5;250m \u001b[39m\u001b[38;5;28;01mimport\u001b[39;00m transforms, dynamics, utils, plot\n\u001b[1;32m---> 19\u001b[0m \u001b[38;5;28;01mfrom\u001b[39;00m\u001b[38;5;250m \u001b[39m\u001b[38;5;21;01m.\u001b[39;00m\u001b[38;5;21;01mvit_sam\u001b[39;00m\u001b[38;5;250m \u001b[39m\u001b[38;5;28;01mimport\u001b[39;00m Transformer\n\u001b[0;32m     20\u001b[0m \u001b[38;5;28;01mfrom\u001b[39;00m\u001b[38;5;250m \u001b[39m\u001b[38;5;21;01m.\u001b[39;00m\u001b[38;5;21;01mcore\u001b[39;00m\u001b[38;5;250m \u001b[39m\u001b[38;5;28;01mimport\u001b[39;00m assign_device, run_net, run_3D\n\u001b[0;32m     22\u001b[0m _CPSAM_MODEL_URL \u001b[38;5;241m=\u001b[39m \u001b[38;5;124m\"\u001b[39m\u001b[38;5;124mhttps://huggingface.co/mouseland/cellpose-sam/resolve/main/cpsam\u001b[39m\u001b[38;5;124m\"\u001b[39m\n",
      "File \u001b[1;32m~\\miniforge3\\envs\\cellpose\\lib\\site-packages\\cellpose\\vit_sam.py:6\u001b[0m\n\u001b[0;32m      1\u001b[0m \u001b[38;5;124;03m\"\"\"\u001b[39;00m\n\u001b[0;32m      2\u001b[0m \u001b[38;5;124;03mCopyright © 2025 Howard Hughes Medical Institute, Authored by Carsen Stringer and Marius Pachitariu.\u001b[39;00m\n\u001b[0;32m      3\u001b[0m \u001b[38;5;124;03m\"\"\"\u001b[39;00m\n\u001b[0;32m      5\u001b[0m \u001b[38;5;28;01mimport\u001b[39;00m\u001b[38;5;250m \u001b[39m\u001b[38;5;21;01mtorch\u001b[39;00m\n\u001b[1;32m----> 6\u001b[0m \u001b[38;5;28;01mfrom\u001b[39;00m\u001b[38;5;250m \u001b[39m\u001b[38;5;21;01msegment_anything\u001b[39;00m\u001b[38;5;250m \u001b[39m\u001b[38;5;28;01mimport\u001b[39;00m sam_model_registry\n\u001b[0;32m      7\u001b[0m torch\u001b[38;5;241m.\u001b[39mbackends\u001b[38;5;241m.\u001b[39mcuda\u001b[38;5;241m.\u001b[39mmatmul\u001b[38;5;241m.\u001b[39mallow_tf32 \u001b[38;5;241m=\u001b[39m \u001b[38;5;28;01mTrue\u001b[39;00m\n\u001b[0;32m      8\u001b[0m \u001b[38;5;28;01mfrom\u001b[39;00m\u001b[38;5;250m \u001b[39m\u001b[38;5;21;01mtorch\u001b[39;00m\u001b[38;5;250m \u001b[39m\u001b[38;5;28;01mimport\u001b[39;00m nn \n",
      "File \u001b[1;32m~\\miniforge3\\envs\\cellpose\\lib\\site-packages\\segment_anything\\__init__.py:14\u001b[0m\n\u001b[0;32m      1\u001b[0m \u001b[38;5;66;03m# Copyright (c) Meta Platforms, Inc. and affiliates.\u001b[39;00m\n\u001b[0;32m      2\u001b[0m \u001b[38;5;66;03m# All rights reserved.\u001b[39;00m\n\u001b[0;32m      3\u001b[0m \n\u001b[0;32m      4\u001b[0m \u001b[38;5;66;03m# This source code is licensed under the license found in the\u001b[39;00m\n\u001b[0;32m      5\u001b[0m \u001b[38;5;66;03m# LICENSE file in the root directory of this source tree.\u001b[39;00m\n\u001b[0;32m      7\u001b[0m \u001b[38;5;28;01mfrom\u001b[39;00m\u001b[38;5;250m \u001b[39m\u001b[38;5;21;01m.\u001b[39;00m\u001b[38;5;21;01mbuild_sam\u001b[39;00m\u001b[38;5;250m \u001b[39m\u001b[38;5;28;01mimport\u001b[39;00m (\n\u001b[0;32m      8\u001b[0m     build_sam,\n\u001b[0;32m      9\u001b[0m     build_sam_vit_h,\n\u001b[1;32m   (...)\u001b[0m\n\u001b[0;32m     12\u001b[0m     sam_model_registry,\n\u001b[0;32m     13\u001b[0m )\n\u001b[1;32m---> 14\u001b[0m \u001b[38;5;28;01mfrom\u001b[39;00m\u001b[38;5;250m \u001b[39m\u001b[38;5;21;01m.\u001b[39;00m\u001b[38;5;21;01mpredictor\u001b[39;00m\u001b[38;5;250m \u001b[39m\u001b[38;5;28;01mimport\u001b[39;00m SamPredictor\n\u001b[0;32m     15\u001b[0m \u001b[38;5;28;01mfrom\u001b[39;00m\u001b[38;5;250m \u001b[39m\u001b[38;5;21;01m.\u001b[39;00m\u001b[38;5;21;01mautomatic_mask_generator\u001b[39;00m\u001b[38;5;250m \u001b[39m\u001b[38;5;28;01mimport\u001b[39;00m SamAutomaticMaskGenerator\n",
      "File \u001b[1;32m~\\miniforge3\\envs\\cellpose\\lib\\site-packages\\segment_anything\\predictor.py:14\u001b[0m\n\u001b[0;32m     10\u001b[0m \u001b[38;5;28;01mfrom\u001b[39;00m\u001b[38;5;250m \u001b[39m\u001b[38;5;21;01msegment_anything\u001b[39;00m\u001b[38;5;21;01m.\u001b[39;00m\u001b[38;5;21;01mmodeling\u001b[39;00m\u001b[38;5;250m \u001b[39m\u001b[38;5;28;01mimport\u001b[39;00m Sam\n\u001b[0;32m     12\u001b[0m \u001b[38;5;28;01mfrom\u001b[39;00m\u001b[38;5;250m \u001b[39m\u001b[38;5;21;01mtyping\u001b[39;00m\u001b[38;5;250m \u001b[39m\u001b[38;5;28;01mimport\u001b[39;00m Optional, Tuple\n\u001b[1;32m---> 14\u001b[0m \u001b[38;5;28;01mfrom\u001b[39;00m\u001b[38;5;250m \u001b[39m\u001b[38;5;21;01m.\u001b[39;00m\u001b[38;5;21;01mutils\u001b[39;00m\u001b[38;5;21;01m.\u001b[39;00m\u001b[38;5;21;01mtransforms\u001b[39;00m\u001b[38;5;250m \u001b[39m\u001b[38;5;28;01mimport\u001b[39;00m ResizeLongestSide\n\u001b[0;32m     17\u001b[0m \u001b[38;5;28;01mclass\u001b[39;00m\u001b[38;5;250m \u001b[39m\u001b[38;5;21;01mSamPredictor\u001b[39;00m:\n\u001b[0;32m     18\u001b[0m     \u001b[38;5;28;01mdef\u001b[39;00m\u001b[38;5;250m \u001b[39m\u001b[38;5;21m__init__\u001b[39m(\n\u001b[0;32m     19\u001b[0m         \u001b[38;5;28mself\u001b[39m,\n\u001b[0;32m     20\u001b[0m         sam_model: Sam,\n\u001b[0;32m     21\u001b[0m     ) \u001b[38;5;241m-\u001b[39m\u001b[38;5;241m>\u001b[39m \u001b[38;5;28;01mNone\u001b[39;00m:\n",
      "File \u001b[1;32m~\\miniforge3\\envs\\cellpose\\lib\\site-packages\\segment_anything\\utils\\transforms.py:10\u001b[0m\n\u001b[0;32m      8\u001b[0m \u001b[38;5;28;01mimport\u001b[39;00m\u001b[38;5;250m \u001b[39m\u001b[38;5;21;01mtorch\u001b[39;00m\n\u001b[0;32m      9\u001b[0m \u001b[38;5;28;01mfrom\u001b[39;00m\u001b[38;5;250m \u001b[39m\u001b[38;5;21;01mtorch\u001b[39;00m\u001b[38;5;21;01m.\u001b[39;00m\u001b[38;5;21;01mnn\u001b[39;00m\u001b[38;5;250m \u001b[39m\u001b[38;5;28;01mimport\u001b[39;00m functional \u001b[38;5;28;01mas\u001b[39;00m F\n\u001b[1;32m---> 10\u001b[0m \u001b[38;5;28;01mfrom\u001b[39;00m\u001b[38;5;250m \u001b[39m\u001b[38;5;21;01mtorchvision\u001b[39;00m\u001b[38;5;21;01m.\u001b[39;00m\u001b[38;5;21;01mtransforms\u001b[39;00m\u001b[38;5;21;01m.\u001b[39;00m\u001b[38;5;21;01mfunctional\u001b[39;00m\u001b[38;5;250m \u001b[39m\u001b[38;5;28;01mimport\u001b[39;00m resize, to_pil_image  \u001b[38;5;66;03m# type: ignore\u001b[39;00m\n\u001b[0;32m     12\u001b[0m \u001b[38;5;28;01mfrom\u001b[39;00m\u001b[38;5;250m \u001b[39m\u001b[38;5;21;01mcopy\u001b[39;00m\u001b[38;5;250m \u001b[39m\u001b[38;5;28;01mimport\u001b[39;00m deepcopy\n\u001b[0;32m     13\u001b[0m \u001b[38;5;28;01mfrom\u001b[39;00m\u001b[38;5;250m \u001b[39m\u001b[38;5;21;01mtyping\u001b[39;00m\u001b[38;5;250m \u001b[39m\u001b[38;5;28;01mimport\u001b[39;00m Tuple\n",
      "File \u001b[1;32m~\\miniforge3\\envs\\cellpose\\lib\\site-packages\\torchvision\\__init__.py:10\u001b[0m\n\u001b[0;32m      7\u001b[0m \u001b[38;5;66;03m# Don't re-order these, we need to load the _C extension (done when importing\u001b[39;00m\n\u001b[0;32m      8\u001b[0m \u001b[38;5;66;03m# .extensions) before entering _meta_registrations.\u001b[39;00m\n\u001b[0;32m      9\u001b[0m \u001b[38;5;28;01mfrom\u001b[39;00m\u001b[38;5;250m \u001b[39m\u001b[38;5;21;01m.\u001b[39;00m\u001b[38;5;21;01mextension\u001b[39;00m\u001b[38;5;250m \u001b[39m\u001b[38;5;28;01mimport\u001b[39;00m _HAS_OPS  \u001b[38;5;66;03m# usort:skip\u001b[39;00m\n\u001b[1;32m---> 10\u001b[0m \u001b[38;5;28;01mfrom\u001b[39;00m\u001b[38;5;250m \u001b[39m\u001b[38;5;21;01mtorchvision\u001b[39;00m\u001b[38;5;250m \u001b[39m\u001b[38;5;28;01mimport\u001b[39;00m _meta_registrations, datasets, io, models, ops, transforms, utils  \u001b[38;5;66;03m# usort:skip\u001b[39;00m\n\u001b[0;32m     12\u001b[0m \u001b[38;5;28;01mtry\u001b[39;00m:\n\u001b[0;32m     13\u001b[0m     \u001b[38;5;28;01mfrom\u001b[39;00m\u001b[38;5;250m \u001b[39m\u001b[38;5;21;01m.\u001b[39;00m\u001b[38;5;21;01mversion\u001b[39;00m\u001b[38;5;250m \u001b[39m\u001b[38;5;28;01mimport\u001b[39;00m __version__  \u001b[38;5;66;03m# noqa: F401\u001b[39;00m\n",
      "File \u001b[1;32m~\\miniforge3\\envs\\cellpose\\lib\\site-packages\\torchvision\\datasets\\__init__.py:1\u001b[0m\n\u001b[1;32m----> 1\u001b[0m \u001b[38;5;28;01mfrom\u001b[39;00m\u001b[38;5;250m \u001b[39m\u001b[38;5;21;01m.\u001b[39;00m\u001b[38;5;21;01m_optical_flow\u001b[39;00m\u001b[38;5;250m \u001b[39m\u001b[38;5;28;01mimport\u001b[39;00m FlyingChairs, FlyingThings3D, HD1K, KittiFlow, Sintel\n\u001b[0;32m      2\u001b[0m \u001b[38;5;28;01mfrom\u001b[39;00m\u001b[38;5;250m \u001b[39m\u001b[38;5;21;01m.\u001b[39;00m\u001b[38;5;21;01m_stereo_matching\u001b[39;00m\u001b[38;5;250m \u001b[39m\u001b[38;5;28;01mimport\u001b[39;00m (\n\u001b[0;32m      3\u001b[0m     CarlaStereo,\n\u001b[0;32m      4\u001b[0m     CREStereo,\n\u001b[1;32m   (...)\u001b[0m\n\u001b[0;32m     12\u001b[0m     SintelStereo,\n\u001b[0;32m     13\u001b[0m )\n\u001b[0;32m     14\u001b[0m \u001b[38;5;28;01mfrom\u001b[39;00m\u001b[38;5;250m \u001b[39m\u001b[38;5;21;01m.\u001b[39;00m\u001b[38;5;21;01mcaltech\u001b[39;00m\u001b[38;5;250m \u001b[39m\u001b[38;5;28;01mimport\u001b[39;00m Caltech101, Caltech256\n",
      "File \u001b[1;32m~\\miniforge3\\envs\\cellpose\\lib\\site-packages\\torchvision\\datasets\\_optical_flow.py:10\u001b[0m\n\u001b[0;32m      8\u001b[0m \u001b[38;5;28;01mimport\u001b[39;00m\u001b[38;5;250m \u001b[39m\u001b[38;5;21;01mnumpy\u001b[39;00m\u001b[38;5;250m \u001b[39m\u001b[38;5;28;01mas\u001b[39;00m\u001b[38;5;250m \u001b[39m\u001b[38;5;21;01mnp\u001b[39;00m\n\u001b[0;32m      9\u001b[0m \u001b[38;5;28;01mimport\u001b[39;00m\u001b[38;5;250m \u001b[39m\u001b[38;5;21;01mtorch\u001b[39;00m\n\u001b[1;32m---> 10\u001b[0m \u001b[38;5;28;01mfrom\u001b[39;00m\u001b[38;5;250m \u001b[39m\u001b[38;5;21;01mPIL\u001b[39;00m\u001b[38;5;250m \u001b[39m\u001b[38;5;28;01mimport\u001b[39;00m Image\n\u001b[0;32m     12\u001b[0m \u001b[38;5;28;01mfrom\u001b[39;00m\u001b[38;5;250m \u001b[39m\u001b[38;5;21;01m.\u001b[39;00m\u001b[38;5;21;01m.\u001b[39;00m\u001b[38;5;21;01mio\u001b[39;00m\u001b[38;5;21;01m.\u001b[39;00m\u001b[38;5;21;01mimage\u001b[39;00m\u001b[38;5;250m \u001b[39m\u001b[38;5;28;01mimport\u001b[39;00m decode_png, read_file\n\u001b[0;32m     13\u001b[0m \u001b[38;5;28;01mfrom\u001b[39;00m\u001b[38;5;250m \u001b[39m\u001b[38;5;21;01m.\u001b[39;00m\u001b[38;5;21;01mfolder\u001b[39;00m\u001b[38;5;250m \u001b[39m\u001b[38;5;28;01mimport\u001b[39;00m default_loader\n",
      "File \u001b[1;32m~\\miniforge3\\envs\\cellpose\\lib\\site-packages\\PIL\\Image.py:90\u001b[0m\n\u001b[0;32m     81\u001b[0m MAX_IMAGE_PIXELS: \u001b[38;5;28mint\u001b[39m \u001b[38;5;241m|\u001b[39m \u001b[38;5;28;01mNone\u001b[39;00m \u001b[38;5;241m=\u001b[39m \u001b[38;5;28mint\u001b[39m(\u001b[38;5;241m1024\u001b[39m \u001b[38;5;241m*\u001b[39m \u001b[38;5;241m1024\u001b[39m \u001b[38;5;241m*\u001b[39m \u001b[38;5;241m1024\u001b[39m \u001b[38;5;241m/\u001b[39m\u001b[38;5;241m/\u001b[39m \u001b[38;5;241m4\u001b[39m \u001b[38;5;241m/\u001b[39m\u001b[38;5;241m/\u001b[39m \u001b[38;5;241m3\u001b[39m)\n\u001b[0;32m     84\u001b[0m \u001b[38;5;28;01mtry\u001b[39;00m:\n\u001b[0;32m     85\u001b[0m     \u001b[38;5;66;03m# If the _imaging C module is not present, Pillow will not load.\u001b[39;00m\n\u001b[0;32m     86\u001b[0m     \u001b[38;5;66;03m# Note that other modules should not refer to _imaging directly;\u001b[39;00m\n\u001b[0;32m     87\u001b[0m     \u001b[38;5;66;03m# import Image and use the Image.core variable instead.\u001b[39;00m\n\u001b[0;32m     88\u001b[0m     \u001b[38;5;66;03m# Also note that Image.core is not a publicly documented interface,\u001b[39;00m\n\u001b[0;32m     89\u001b[0m     \u001b[38;5;66;03m# and should be considered private and subject to change.\u001b[39;00m\n\u001b[1;32m---> 90\u001b[0m     \u001b[38;5;28;01mfrom\u001b[39;00m\u001b[38;5;250m \u001b[39m\u001b[38;5;21;01m.\u001b[39;00m\u001b[38;5;250m \u001b[39m\u001b[38;5;28;01mimport\u001b[39;00m _imaging \u001b[38;5;28;01mas\u001b[39;00m core\n\u001b[0;32m     92\u001b[0m     \u001b[38;5;28;01mif\u001b[39;00m __version__ \u001b[38;5;241m!=\u001b[39m \u001b[38;5;28mgetattr\u001b[39m(core, \u001b[38;5;124m\"\u001b[39m\u001b[38;5;124mPILLOW_VERSION\u001b[39m\u001b[38;5;124m\"\u001b[39m, \u001b[38;5;28;01mNone\u001b[39;00m):\n\u001b[0;32m     93\u001b[0m         msg \u001b[38;5;241m=\u001b[39m (\n\u001b[0;32m     94\u001b[0m             \u001b[38;5;124m\"\u001b[39m\u001b[38;5;124mThe _imaging extension was built for another version of Pillow or PIL:\u001b[39m\u001b[38;5;130;01m\\n\u001b[39;00m\u001b[38;5;124m\"\u001b[39m\n\u001b[0;32m     95\u001b[0m             \u001b[38;5;124mf\u001b[39m\u001b[38;5;124m\"\u001b[39m\u001b[38;5;124mCore version: \u001b[39m\u001b[38;5;132;01m{\u001b[39;00m\u001b[38;5;28mgetattr\u001b[39m(core,\u001b[38;5;250m \u001b[39m\u001b[38;5;124m'\u001b[39m\u001b[38;5;124mPILLOW_VERSION\u001b[39m\u001b[38;5;124m'\u001b[39m,\u001b[38;5;250m \u001b[39m\u001b[38;5;28;01mNone\u001b[39;00m)\u001b[38;5;132;01m}\u001b[39;00m\u001b[38;5;130;01m\\n\u001b[39;00m\u001b[38;5;124m\"\u001b[39m\n\u001b[0;32m     96\u001b[0m             \u001b[38;5;124mf\u001b[39m\u001b[38;5;124m\"\u001b[39m\u001b[38;5;124mPillow version: \u001b[39m\u001b[38;5;132;01m{\u001b[39;00m__version__\u001b[38;5;132;01m}\u001b[39;00m\u001b[38;5;124m\"\u001b[39m\n\u001b[0;32m     97\u001b[0m         )\n",
      "\u001b[1;31mImportError\u001b[0m: DLL load failed while importing _imaging: The operating system cannot run %1."
     ]
    }
   ],
   "source": [
    "from cellpose import models\n"
   ]
  },
  {
   "cell_type": "code",
   "execution_count": null,
   "id": "a16eb034-ae4c-48cb-b803-d0e2c8e4fabf",
   "metadata": {
    "tags": []
   },
   "outputs": [],
   "source": [
    "model = models.Cellpose(model_type=\"cyto2\", gpu=True)"
   ]
  },
  {
   "cell_type": "code",
   "execution_count": null,
   "id": "5c266ad1-8837-4838-8269-3c37143867ba",
   "metadata": {},
   "outputs": [],
   "source": [
    "\n",
    "# --- robust per-channel normalization to [0,1] ---\n",
    "img = image.astype(np.float32)\n",
    "for c in range(img.shape[0]):\n",
    "    p1, p99 = np.percentile(img[c], (1, 99))\n",
    "    img[c] = np.clip((img[c] - p1) / max(p99 - p1, 1e-6), 0, 1)\n",
    "\n",
    "# --- pseudo max-projection across channels for each Z ---\n",
    "# result: (Z, Y, X)\n",
    "combo = np.max(img, axis=0)\n",
    "\n",
    "# --- Cellpose 2D over Z ---\n",
    "\n",
    "masks = []\n",
    "for z in tqdm(range(combo.shape[0]), desc=\"Cellpose on pseudo-max Z\"):\n",
    "    mask, _, _, _ = model.eval(combo[z], channels=[0, 0], diameter=None)\n",
    "    masks.append(mask)\n",
    "masks = np.stack(masks)  # (Z, Y, X)\n"
   ]
  },
  {
   "cell_type": "code",
   "execution_count": null,
   "id": "8cef06ee-0c5f-4d68-97fe-1f2d2a4a68f8",
   "metadata": {},
   "outputs": [],
   "source": [
    "\n",
    "# --- visualize in napari ---\n",
    "viewer = napari.Viewer(title=\"Pseudo-max segmentation\")\n",
    "viewer.add_image(combo, name=\"combo(ZYX)\")\n",
    "viewer.add_labels(masks, name=\"masks\")\n",
    "print(\"combo:\", combo.shape, \"masks:\", masks.shape)"
   ]
  }
 ],
 "metadata": {
  "kernelspec": {
   "display_name": "cellpose",
   "language": "python",
   "name": "cellpose"
  },
  "language_info": {
   "codemirror_mode": {
    "name": "ipython",
    "version": 3
   },
   "file_extension": ".py",
   "mimetype": "text/x-python",
   "name": "python",
   "nbconvert_exporter": "python",
   "pygments_lexer": "ipython3",
   "version": "3.10.18"
  }
 },
 "nbformat": 4,
 "nbformat_minor": 5
}
