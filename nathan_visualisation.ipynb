{
 "cells": [
  {
   "cell_type": "code",
   "execution_count": 1,
   "id": "25720bd3-01a6-4e6c-9a23-90a389879525",
   "metadata": {
    "tags": []
   },
   "outputs": [
    {
     "name": "stderr",
     "output_type": "stream",
     "text": [
      "C:\\Users\\Nathan\\miniforge3\\envs\\napari\\Lib\\site-packages\\tqdm\\auto.py:21: TqdmWarning: IProgress not found. Please update jupyter and ipywidgets. See https://ipywidgets.readthedocs.io/en/stable/user_install.html\n",
      "  from .autonotebook import tqdm as notebook_tqdm\n"
     ]
    }
   ],
   "source": [
    "import napari\n",
    "from pathlib import Path\n",
    "from skimage import io\n",
    "import os\n",
    "import czifile\n",
    "import math\n",
    "import numpy as np\n",
    "from tqdm.auto import tqdm"
   ]
  },
  {
   "cell_type": "markdown",
   "id": "c688f700-7993-47a5-94ab-6679cad3b9e8",
   "metadata": {},
   "source": [
    "### Zeiss lattice lightsheet"
   ]
  },
  {
   "cell_type": "code",
   "execution_count": 2,
   "id": "0d01ccba-ffe3-41bd-a5d9-10c181cb3e84",
   "metadata": {
    "tags": []
   },
   "outputs": [
    {
     "data": {
      "text/plain": [
       "['middle-01.czi',\n",
       " 'middle-01_MIP.czi',\n",
       " 'middle-01_processed.czi',\n",
       " 'middle-01_processed.ome.tiff',\n",
       " 'middle-02.czi',\n",
       " 'middle-02_DCVSettingsTest.czi',\n",
       " 'middle-02_DCVSettingsTest.czt',\n",
       " 'middle-02_MIP.czi',\n",
       " 'middle-02_processed.czi',\n",
       " 'middle-03.czi',\n",
       " 'middle-03_DCVSettingsTest.czi',\n",
       " 'middle-03_DCVSettingsTest.czt',\n",
       " 'middle-03_MIP.czi',\n",
       " 'middle-03_processed.czi',\n",
       " 'middle-04.czi',\n",
       " 'middle-04_MIP.czi',\n",
       " 'middle-04_processed.czi',\n",
       " 'middle-05.czi',\n",
       " 'middle-05_MIP.czi',\n",
       " 'middle-05_processed.czi',\n",
       " 'middle-06.czi',\n",
       " 'middle-06_MIP.czi',\n",
       " 'middle-06_processed.czi',\n",
       " 'middle-11-Lattice Lightsheet-01.czi',\n",
       " 'middle-11.czi',\n",
       " 'middle-11_MIP.czi',\n",
       " 'middle-15-Lattice Lightsheet-02.czi',\n",
       " 'middle-15.czi',\n",
       " 'middle-15_MIP.czi',\n",
       " 'wildtype-01-deskewed-deconv.czi',\n",
       " 'wildtype-01-deskewed.czi',\n",
       " 'wildtype-01.czi',\n",
       " 'wildtype-01.ome.tiff',\n",
       " 'wildtype-01_MIP.czi',\n",
       " 'wildtype-01_MIP.ome.tiff',\n",
       " 'wildtype-01_processed-01.czi',\n",
       " 'wildtype-01_processed.czi']"
      ]
     },
     "execution_count": 2,
     "metadata": {},
     "output_type": "execute_result"
    }
   ],
   "source": [
    "os.listdir(Path(r'Z:\\The_Holy_de_Broglies\\2025-08-13 Lattice Lightsheet\\Macrophages\\2025-08-13\\mouse'))"
   ]
  },
  {
   "cell_type": "code",
   "execution_count": 3,
   "id": "4c06d7f9-221b-4b01-9748-63c93fc482cd",
   "metadata": {
    "tags": []
   },
   "outputs": [],
   "source": [
    "viewer = napari.Viewer(title = 'blender io')"
   ]
  },
  {
   "cell_type": "markdown",
   "id": "30d7423a-3d7e-4f0e-9c1c-eaebbff53dd3",
   "metadata": {},
   "source": [
    "### Mouse macrophages"
   ]
  },
  {
   "cell_type": "code",
   "execution_count": 4,
   "id": "e40150f8-133d-4775-90b1-35ba80cc7132",
   "metadata": {
    "tags": []
   },
   "outputs": [],
   "source": [
    "image_path = Path(r'Z:\\The_Holy_de_Broglies\\2025-08-13 Lattice Lightsheet\\Macrophages\\2025-08-13\\mouse\\wildtype-01-deskewed-deconv.czi')"
   ]
  },
  {
   "cell_type": "code",
   "execution_count": 5,
   "id": "ed990338-792c-4eaf-baaf-169ef5bcfca9",
   "metadata": {
    "tags": []
   },
   "outputs": [
    {
     "name": "stdout",
     "output_type": "stream",
     "text": [
      "CPU times: total: 1min 46s\n",
      "Wall time: 2min 4s\n"
     ]
    }
   ],
   "source": [
    "%%time \n",
    "\n",
    "image = np.squeeze(czifile.imread(image_path))"
   ]
  },
  {
   "cell_type": "code",
   "execution_count": 6,
   "id": "24c3eb14-2bcc-4f5b-acb4-32f80bc04e14",
   "metadata": {
    "tags": []
   },
   "outputs": [
    {
     "data": {
      "text/plain": [
       "(2, 114, 7576, 6407)"
      ]
     },
     "execution_count": 6,
     "metadata": {},
     "output_type": "execute_result"
    }
   ],
   "source": [
    "image.shape"
   ]
  },
  {
   "cell_type": "markdown",
   "id": "7778498d-4d47-4f83-b18f-e985ea11fa51",
   "metadata": {
    "jp-MarkdownHeadingCollapsed": true,
    "tags": []
   },
   "source": [
    "### Deskew (no longer necessary)"
   ]
  },
  {
   "cell_type": "code",
   "execution_count": 49,
   "id": "70f2025a-b00d-4331-856d-04af545b3d37",
   "metadata": {
    "tags": []
   },
   "outputs": [],
   "source": [
    "from scipy.ndimage import shift\n",
    "from tqdm.auto import tqdm\n",
    "import numpy as np"
   ]
  },
  {
   "cell_type": "code",
   "execution_count": 56,
   "id": "61e366ed-a513-47b0-81c5-15d790f1dfd8",
   "metadata": {
    "tags": []
   },
   "outputs": [
    {
     "data": {
      "application/vnd.jupyter.widget-view+json": {
       "model_id": "",
       "version_major": 2,
       "version_minor": 0
      },
      "text/plain": [
       "Deskew C0:   0%|          | 0/2251 [00:00<?, ?it/s]"
      ]
     },
     "metadata": {},
     "output_type": "display_data"
    },
    {
     "data": {
      "application/vnd.jupyter.widget-view+json": {
       "model_id": "",
       "version_major": 2,
       "version_minor": 0
      },
      "text/plain": [
       "Deskew C1:   0%|          | 0/2251 [00:00<?, ?it/s]"
      ]
     },
     "metadata": {},
     "output_type": "display_data"
    }
   ],
   "source": [
    "C, Z, Y, X = image.shape\n",
    "\n",
    "angle_deg = 31.8\n",
    "xy_um = 0.145\n",
    "z_um  = 0.400\n",
    "px_shift_per_z = (z_um / xy_um) * np.tan(np.deg2rad(angle_deg))\n",
    "\n",
    "max_shift = int(np.ceil(abs((Z - 1) * px_shift_per_z)))\n",
    "X_expanded = X + max_shift\n",
    "deskewed = np.zeros((C, Z, Y, X_expanded), dtype=image.dtype)\n",
    "\n",
    "x0 = max_shift // 2\n",
    "sign = +1.0  # positive sign as requested\n",
    "\n",
    "for c in range(C):\n",
    "    for z in tqdm(range(Z), leave=False, desc=f\"Deskew C{c}\"):\n",
    "        x_pos = x0 + sign * z * px_shift_per_z\n",
    "        x_int = int(np.floor(x_pos))\n",
    "        frac  = x_pos - x_int\n",
    "\n",
    "        x_start = max(0, min(X_expanded - X, x_int))\n",
    "        canvas = np.zeros((Y, X_expanded), dtype=image.dtype)\n",
    "        canvas[:, x_start : x_start + X] = image[c, z]\n",
    "\n",
    "        if abs(frac) > 1e-6:\n",
    "            canvas = shift(canvas, shift=(0, frac), order=1, mode=\"nearest\", prefilter=False)\n",
    "\n",
    "        deskewed[c, z] = canvas"
   ]
  },
  {
   "cell_type": "markdown",
   "id": "c393a19f-8a81-453c-bc31-41574f5d7bf1",
   "metadata": {},
   "source": [
    "## Visualise"
   ]
  },
  {
   "cell_type": "code",
   "execution_count": 10,
   "id": "ded45b00-4110-4a64-8051-391402eeef3e",
   "metadata": {
    "tags": []
   },
   "outputs": [
    {
     "data": {
      "text/plain": [
       "[<Image layer 'wildtype deskewed' at 0x20da3e80ad0>,\n",
       " <Image layer 'wildtype deskewed [1]' at 0x20da3d65b10>]"
      ]
     },
     "execution_count": 10,
     "metadata": {},
     "output_type": "execute_result"
    }
   ],
   "source": [
    "viewer.add_image(image, channel_axis=0, name = 'wildtype deskewed')"
   ]
  },
  {
   "cell_type": "code",
   "execution_count": 12,
   "id": "35ae547c-6f59-4535-9866-78b68de530bc",
   "metadata": {
    "tags": []
   },
   "outputs": [
    {
     "data": {
      "text/plain": [
       "[<Image layer 'wildtype deskewed reshaped' at 0x1de861225d0>, <Image layer 'wildtype deskewed reshaped [1]' at 0x1def787f150>]"
      ]
     },
     "execution_count": 12,
     "metadata": {},
     "output_type": "execute_result"
    }
   ],
   "source": [
    "viewer.layers"
   ]
  },
  {
   "cell_type": "code",
   "execution_count": 14,
   "id": "e986b4e4-3254-4891-a292-7725bffd9fd7",
   "metadata": {
    "tags": []
   },
   "outputs": [],
   "source": [
    "viewer.scale_bar.visible = True\n",
    "viewer.scale_bar.unit = 'μm'"
   ]
  },
  {
   "cell_type": "code",
   "execution_count": 15,
   "id": "f3a57583-5bd9-4216-98a3-370eb19f6583",
   "metadata": {
    "tags": []
   },
   "outputs": [
    {
     "name": "stdout",
     "output_type": "stream",
     "text": [
      "[154.66696914700543, 857.9282084521649]\n",
      "[300.0, 800.0]\n",
      "Rendering frames...\n"
     ]
    },
    {
     "name": "stderr",
     "output_type": "stream",
     "text": [
      "  0%|                                                               | 0/91 [00:00<?, ?it/s]IMAGEIO FFMPEG_WRITER WARNING: input image is not divisible by macro_block_size=16, resizing from (822, 833) to (832, 848) to ensure video compatibility with most codecs and players. To prevent resizing, make your input image divisible by the macro_block_size or set the macro_block_size to 1 (risking incompatibility).\n",
      "100%|██████████████████████████████████████████████████████| 91/91 [00:04<00:00, 19.08it/s]\n"
     ]
    },
    {
     "name": "stdout",
     "output_type": "stream",
     "text": [
      "Rendering frames...\n"
     ]
    },
    {
     "name": "stderr",
     "output_type": "stream",
     "text": [
      "  0%|                                                               | 0/91 [00:00<?, ?it/s]IMAGEIO FFMPEG_WRITER WARNING: input image is not divisible by macro_block_size=16, resizing from (822, 833) to (832, 848) to ensure video compatibility with most codecs and players. To prevent resizing, make your input image divisible by the macro_block_size or set the macro_block_size to 1 (risking incompatibility).\n",
      "  2%|█▏                                                     | 2/91 [00:00<00:07, 11.97it/s]\n"
     ]
    }
   ],
   "source": [
    "for i in [0,1]:\n",
    "    print(viewer.layers[i].contrast_limits)"
   ]
  },
  {
   "cell_type": "code",
   "execution_count": 16,
   "id": "4ea0bdc8-16ca-4825-afab-49b8d3ffbf62",
   "metadata": {
    "tags": []
   },
   "outputs": [
    {
     "name": "stdout",
     "output_type": "stream",
     "text": [
      "\n",
      "Rendering frames...\n"
     ]
    },
    {
     "name": "stderr",
     "output_type": "stream",
     "text": [
      "  0%|                                                              | 0/601 [00:00<?, ?it/s]IMAGEIO FFMPEG_WRITER WARNING: input image is not divisible by macro_block_size=16, resizing from (822, 833) to (832, 848) to ensure video compatibility with most codecs and players. To prevent resizing, make your input image divisible by the macro_block_size or set the macro_block_size to 1 (risking incompatibility).\n",
      "  0%|                                                      | 1/601 [00:00<01:30,  6.65it/s]\n"
     ]
    }
   ],
   "source": [
    "print()"
   ]
  },
  {
   "cell_type": "code",
   "execution_count": 17,
   "id": "6158a2c7-5f51-4242-a6de-948973ec9104",
   "metadata": {
    "tags": []
   },
   "outputs": [
    {
     "name": "stdout",
     "output_type": "stream",
     "text": [
      "\n",
      "Rendering frames...\n"
     ]
    },
    {
     "name": "stderr",
     "output_type": "stream",
     "text": [
      "  0%|                                                              | 0/601 [00:00<?, ?it/s]IMAGEIO FFMPEG_WRITER WARNING: input image is not divisible by macro_block_size=16, resizing from (822, 833) to (832, 848) to ensure video compatibility with most codecs and players. To prevent resizing, make your input image divisible by the macro_block_size or set the macro_block_size to 1 (risking incompatibility).\n",
      "100%|████████████████████████████████████████████████████| 601/601 [00:29<00:00, 20.60it/s]\n"
     ]
    },
    {
     "name": "stdout",
     "output_type": "stream",
     "text": [
      "Rendering frames...\n"
     ]
    },
    {
     "name": "stderr",
     "output_type": "stream",
     "text": [
      "  0%|                                                              | 0/601 [00:00<?, ?it/s]IMAGEIO FFMPEG_WRITER WARNING: input image is not divisible by macro_block_size=16, resizing from (822, 833) to (832, 848) to ensure video compatibility with most codecs and players. To prevent resizing, make your input image divisible by the macro_block_size or set the macro_block_size to 1 (risking incompatibility).\n",
      "100%|████████████████████████████████████████████████████| 601/601 [00:28<00:00, 20.87it/s]\n"
     ]
    }
   ],
   "source": [
    "print()"
   ]
  },
  {
   "cell_type": "code",
   "execution_count": 13,
   "id": "9555d0c4-0e64-405c-a77a-07334a53dfc1",
   "metadata": {
    "tags": []
   },
   "outputs": [],
   "source": [
    "for i in [0,1]:\n",
    "    viewer.layers[i].scale = [0.4,0.145,0.145]"
   ]
  },
  {
   "cell_type": "markdown",
   "id": "1cb4ec87-d4f5-4de2-ba79-fb7f4a9862d7",
   "metadata": {},
   "source": [
    "### Scape"
   ]
  },
  {
   "cell_type": "code",
   "execution_count": 5,
   "id": "c0361548-490f-4443-bf2e-a0a09f17b9fd",
   "metadata": {
    "tags": []
   },
   "outputs": [
    {
     "data": {
      "text/plain": [
       "['20250813_macrophages_GLA3488_multiPos_lowerLaserP_MMStack_Pos0.ome.deskewed_TRUE_Pos00_CH00_T000.tif',\n",
       " 'MAX20250813_macrophages_GLA3488_multiPos_lowerLaserP_MMStack_Pos0.ome_deskewed_TRUE_Pos00_CH00_T000.tif',\n",
       " 'Thumbs.db']"
      ]
     },
     "execution_count": 5,
     "metadata": {},
     "output_type": "execute_result"
    }
   ],
   "source": [
    "os.listdir(Path(r'Y:\\The_Holy_de_Broglies\\ASI SCAPE\\20250813\\Processed'))"
   ]
  },
  {
   "cell_type": "code",
   "execution_count": 6,
   "id": "15afd7c9-4ec0-4484-99c3-1267eb7f01e0",
   "metadata": {
    "tags": []
   },
   "outputs": [],
   "source": [
    "viewer = napari.Viewer(title = 'scape')"
   ]
  },
  {
   "cell_type": "markdown",
   "id": "8cfe8d17-d673-4003-a90c-4513cee72eb6",
   "metadata": {},
   "source": [
    "### Mouse macrophages"
   ]
  },
  {
   "cell_type": "code",
   "execution_count": 7,
   "id": "6b3c63ad-ea09-49cd-a69b-4f6b4d5a1128",
   "metadata": {
    "tags": []
   },
   "outputs": [],
   "source": [
    "image_path = Path(r'Y:\\The_Holy_de_Broglies\\ASI SCAPE\\20250813\\Processed\\20250813_macrophages_GLA3488_multiPos_lowerLaserP_MMStack_Pos0.ome.deskewed_TRUE_Pos00_CH00_T000.tif')"
   ]
  },
  {
   "cell_type": "code",
   "execution_count": 9,
   "id": "feec0f43-066a-41d2-91a4-c680afda8ce6",
   "metadata": {
    "tags": []
   },
   "outputs": [
    {
     "name": "stdout",
     "output_type": "stream",
     "text": [
      "CPU times: total: 7.48 s\n",
      "Wall time: 25.5 s\n"
     ]
    }
   ],
   "source": [
    "%%time \n",
    "\n",
    "image = io.imread(image_path)"
   ]
  },
  {
   "cell_type": "code",
   "execution_count": 10,
   "id": "981f5e2b-e272-46f6-b2e1-22477033ba64",
   "metadata": {
    "tags": []
   },
   "outputs": [
    {
     "data": {
      "text/plain": [
       "(3, 81, 15, 1321, 1005)"
      ]
     },
     "execution_count": 10,
     "metadata": {},
     "output_type": "execute_result"
    }
   ],
   "source": [
    "image.shape"
   ]
  },
  {
   "cell_type": "markdown",
   "id": "60e39a8b-463b-4936-85eb-35c83abfbdc9",
   "metadata": {},
   "source": [
    "### Separate positions and tile into pseudo config"
   ]
  },
  {
   "cell_type": "code",
   "execution_count": 16,
   "id": "4193fcd4-2b87-47f1-bff0-eb527b68136c",
   "metadata": {
    "tags": []
   },
   "outputs": [
    {
     "data": {
      "application/vnd.jupyter.widget-view+json": {
       "model_id": "cdeaa73d46294d6cabc3872179577d77",
       "version_major": 2,
       "version_minor": 0
      },
      "text/plain": [
       "  0%|          | 0/4 [00:00<?, ?it/s]"
      ]
     },
     "metadata": {},
     "output_type": "display_data"
    },
    {
     "data": {
      "application/vnd.jupyter.widget-view+json": {
       "model_id": "992b15a23943456faaaf33d5d2a00820",
       "version_major": 2,
       "version_minor": 0
      },
      "text/plain": [
       "  0%|          | 0/4 [00:00<?, ?it/s]"
      ]
     },
     "metadata": {},
     "output_type": "display_data"
    },
    {
     "data": {
      "application/vnd.jupyter.widget-view+json": {
       "model_id": "e751f3481c1448a39dccf16a54aa015c",
       "version_major": 2,
       "version_minor": 0
      },
      "text/plain": [
       "  0%|          | 0/4 [00:00<?, ?it/s]"
      ]
     },
     "metadata": {},
     "output_type": "display_data"
    },
    {
     "data": {
      "application/vnd.jupyter.widget-view+json": {
       "model_id": "628ab1a43e134a22bd987218510f0091",
       "version_major": 2,
       "version_minor": 0
      },
      "text/plain": [
       "  0%|          | 0/4 [00:00<?, ?it/s]"
      ]
     },
     "metadata": {},
     "output_type": "display_data"
    },
    {
     "data": {
      "application/vnd.jupyter.widget-view+json": {
       "model_id": "5dbe06a9e19b49508656987d5ef17356",
       "version_major": 2,
       "version_minor": 0
      },
      "text/plain": [
       "  0%|          | 0/4 [00:00<?, ?it/s]"
      ]
     },
     "metadata": {},
     "output_type": "display_data"
    }
   ],
   "source": [
    "# Input: image shaped (C, Z, P, Y, X) e.g. (3, 81, 15, 1321, 1005)\n",
    "C, Z, P, Y, X = image.shape\n",
    "\n",
    "# Choose a compact grid to tile the P=15 positions (row-major, arbitrary order)\n",
    "cols = math.ceil(math.sqrt(P))\n",
    "rows = math.ceil(P / cols)\n",
    "\n",
    "# Allocate output mosaic: (C, Z, Y_total, X_total)\n",
    "mosaic = np.zeros((C, Z, rows * Y, cols * X), dtype=image.dtype)\n",
    "\n",
    "# Tile positions into the mosaic\n",
    "p = 0\n",
    "for r in tqdm(range(rows)):\n",
    "    for c in tqdm(range(cols)):\n",
    "        if p >= P:\n",
    "            break\n",
    "        ys, ye = r * Y, (r + 1) * Y\n",
    "        xs, xe = c * X, (c + 1) * X\n",
    "        mosaic[:, :, ys:ye, xs:xe] = image[:, :, p, :, :]\n",
    "        p += 1\n",
    "\n",
    "# Result: 'mosaic' is (C, Z, Y_total, X_total)"
   ]
  },
  {
   "cell_type": "code",
   "execution_count": 49,
   "id": "5eeaf526-180f-4bb7-8e77-6fafd3bf434a",
   "metadata": {
    "tags": []
   },
   "outputs": [],
   "source": [
    "from scipy.ndimage import shift\n",
    "from tqdm.auto import tqdm\n",
    "import numpy as np"
   ]
  },
  {
   "cell_type": "code",
   "execution_count": 56,
   "id": "25358577-2130-4d28-a3a7-567d156e496d",
   "metadata": {
    "tags": []
   },
   "outputs": [
    {
     "data": {
      "application/vnd.jupyter.widget-view+json": {
       "model_id": "",
       "version_major": 2,
       "version_minor": 0
      },
      "text/plain": [
       "Deskew C0:   0%|          | 0/2251 [00:00<?, ?it/s]"
      ]
     },
     "metadata": {},
     "output_type": "display_data"
    },
    {
     "data": {
      "application/vnd.jupyter.widget-view+json": {
       "model_id": "",
       "version_major": 2,
       "version_minor": 0
      },
      "text/plain": [
       "Deskew C1:   0%|          | 0/2251 [00:00<?, ?it/s]"
      ]
     },
     "metadata": {},
     "output_type": "display_data"
    }
   ],
   "source": [
    "C, Z, Y, X = image.shape\n",
    "\n",
    "angle_deg = 31.8\n",
    "xy_um = 0.145\n",
    "z_um  = 0.400\n",
    "px_shift_per_z = (z_um / xy_um) * np.tan(np.deg2rad(angle_deg))\n",
    "\n",
    "max_shift = int(np.ceil(abs((Z - 1) * px_shift_per_z)))\n",
    "X_expanded = X + max_shift\n",
    "deskewed = np.zeros((C, Z, Y, X_expanded), dtype=image.dtype)\n",
    "\n",
    "x0 = max_shift // 2\n",
    "sign = +1.0  # positive sign as requested\n",
    "\n",
    "for c in range(C):\n",
    "    for z in tqdm(range(Z), leave=False, desc=f\"Deskew C{c}\"):\n",
    "        x_pos = x0 + sign * z * px_shift_per_z\n",
    "        x_int = int(np.floor(x_pos))\n",
    "        frac  = x_pos - x_int\n",
    "\n",
    "        x_start = max(0, min(X_expanded - X, x_int))\n",
    "        canvas = np.zeros((Y, X_expanded), dtype=image.dtype)\n",
    "        canvas[:, x_start : x_start + X] = image[c, z]\n",
    "\n",
    "        if abs(frac) > 1e-6:\n",
    "            canvas = shift(canvas, shift=(0, frac), order=1, mode=\"nearest\", prefilter=False)\n",
    "\n",
    "        deskewed[c, z] = canvas"
   ]
  },
  {
   "cell_type": "code",
   "execution_count": 17,
   "id": "ce0c1da3-21cf-46bd-9d7a-27f9d9bd0d3e",
   "metadata": {
    "tags": []
   },
   "outputs": [
    {
     "data": {
      "text/plain": [
       "(3, 81, 5284, 4020)"
      ]
     },
     "execution_count": 17,
     "metadata": {},
     "output_type": "execute_result"
    }
   ],
   "source": [
    "mosaic.shape"
   ]
  },
  {
   "cell_type": "code",
   "execution_count": 23,
   "id": "429a7ffd-c2fa-4d9b-aee9-d319f171a6ac",
   "metadata": {
    "tags": []
   },
   "outputs": [],
   "source": [
    "mosaic = np.max(mosaic, axis=0)"
   ]
  },
  {
   "cell_type": "markdown",
   "id": "1e299d13-62f6-4310-94c7-4476c208ed5a",
   "metadata": {},
   "source": [
    "## Visualise"
   ]
  },
  {
   "cell_type": "code",
   "execution_count": 24,
   "id": "0f456e62-07ff-4800-8235-c7f5aa7d66a4",
   "metadata": {
    "tags": []
   },
   "outputs": [
    {
     "data": {
      "text/plain": [
       "<Image layer 'mosaic' at 0x1be06a59b90>"
      ]
     },
     "execution_count": 24,
     "metadata": {},
     "output_type": "execute_result"
    }
   ],
   "source": [
    "viewer.add_image(mosaic, name = 'mosaic')"
   ]
  },
  {
   "cell_type": "code",
   "execution_count": 25,
   "id": "419d4c26-db23-400c-9e89-48b7c348b2b8",
   "metadata": {
    "tags": []
   },
   "outputs": [
    {
     "data": {
      "text/plain": [
       "[<Image layer 'mosaic' at 0x1be06a59b90>]"
      ]
     },
     "execution_count": 25,
     "metadata": {},
     "output_type": "execute_result"
    }
   ],
   "source": [
    "viewer.layers"
   ]
  },
  {
   "cell_type": "code",
   "execution_count": 27,
   "id": "bcf6d7a5-7cf0-4825-ba83-b48c0bb54dc6",
   "metadata": {
    "tags": []
   },
   "outputs": [],
   "source": [
    "for i in viewer.layers:\n",
    "    i.scale = [0.5, 0.391, 0.391]"
   ]
  },
  {
   "cell_type": "code",
   "execution_count": 28,
   "id": "bb8d59de-f83a-454a-b75f-4965b06a2827",
   "metadata": {
    "tags": []
   },
   "outputs": [],
   "source": [
    "viewer.scale_bar.visible = True\n",
    "viewer.scale_bar.unit = 'μm'"
   ]
  },
  {
   "cell_type": "code",
   "execution_count": 31,
   "id": "945ee82d-e51d-4b97-a4ea-b19890202a87",
   "metadata": {
    "tags": []
   },
   "outputs": [
    {
     "name": "stdout",
     "output_type": "stream",
     "text": [
      "Rendering frames...\n"
     ]
    },
    {
     "name": "stderr",
     "output_type": "stream",
     "text": [
      "  0%|                                                  | 0/151 [00:00<?, ?it/s]IMAGEIO FFMPEG_WRITER WARNING: input image is not divisible by macro_block_size=16, resizing from (709, 825) to (720, 832) to ensure video compatibility with most codecs and players. To prevent resizing, make your input image divisible by the macro_block_size or set the macro_block_size to 1 (risking incompatibility).\n",
      "100%|████████████████████████████████████████| 151/151 [00:05<00:00, 26.56it/s]\n"
     ]
    },
    {
     "name": "stdout",
     "output_type": "stream",
     "text": [
      "Rendering frames...\n"
     ]
    },
    {
     "name": "stderr",
     "output_type": "stream",
     "text": [
      "  0%|                                                  | 0/151 [00:00<?, ?it/s]IMAGEIO FFMPEG_WRITER WARNING: input image is not divisible by macro_block_size=16, resizing from (709, 825) to (720, 832) to ensure video compatibility with most codecs and players. To prevent resizing, make your input image divisible by the macro_block_size or set the macro_block_size to 1 (risking incompatibility).\n",
      "100%|████████████████████████████████████████| 151/151 [00:05<00:00, 26.98it/s]\n"
     ]
    }
   ],
   "source": [
    "viewer.scale_bar.font_size = 20\n",
    "viewer.scale_bar.ticks = False"
   ]
  },
  {
   "cell_type": "code",
   "execution_count": 29,
   "id": "bdc79e06-37ac-45eb-81b8-a3a160601874",
   "metadata": {
    "tags": []
   },
   "outputs": [
    {
     "name": "stdout",
     "output_type": "stream",
     "text": [
      "[0.0, 117.0]\n"
     ]
    },
    {
     "ename": "IndexError",
     "evalue": "list index out of range",
     "output_type": "error",
     "traceback": [
      "\u001b[1;31m---------------------------------------------------------------------------\u001b[0m",
      "\u001b[1;31mIndexError\u001b[0m                                Traceback (most recent call last)",
      "Cell \u001b[1;32mIn[29], line 2\u001b[0m\n\u001b[0;32m      1\u001b[0m \u001b[38;5;28;01mfor\u001b[39;00m i \u001b[38;5;129;01min\u001b[39;00m [\u001b[38;5;241m0\u001b[39m,\u001b[38;5;241m1\u001b[39m]:\n\u001b[1;32m----> 2\u001b[0m     \u001b[38;5;28mprint\u001b[39m(\u001b[43mviewer\u001b[49m\u001b[38;5;241;43m.\u001b[39;49m\u001b[43mlayers\u001b[49m\u001b[43m[\u001b[49m\u001b[43mi\u001b[49m\u001b[43m]\u001b[49m\u001b[38;5;241m.\u001b[39mcontrast_limits)\n",
      "File \u001b[1;32m~\\miniforge3\\envs\\embo25\\Lib\\site-packages\\napari\\components\\layerlist.py:170\u001b[0m, in \u001b[0;36mLayerList.__getitem__\u001b[1;34m(self, item)\u001b[0m\n\u001b[0;32m    169\u001b[0m \u001b[38;5;28;01mdef\u001b[39;00m\u001b[38;5;250m \u001b[39m\u001b[38;5;21m__getitem__\u001b[39m(\u001b[38;5;28mself\u001b[39m, item):\n\u001b[1;32m--> 170\u001b[0m     \u001b[38;5;28;01mreturn\u001b[39;00m \u001b[38;5;28;43msuper\u001b[39;49m\u001b[43m(\u001b[49m\u001b[43m)\u001b[49m\u001b[38;5;241;43m.\u001b[39;49m\u001b[38;5;21;43m__getitem__\u001b[39;49m\u001b[43m(\u001b[49m\u001b[43mitem\u001b[49m\u001b[43m)\u001b[49m\n",
      "File \u001b[1;32m~\\miniforge3\\envs\\embo25\\Lib\\site-packages\\napari\\utils\\events\\containers\\_typed.py:148\u001b[0m, in \u001b[0;36mTypedMutableSequence.__getitem__\u001b[1;34m(self, key)\u001b[0m\n\u001b[0;32m    145\u001b[0m     \u001b[38;5;28;01mexcept\u001b[39;00m \u001b[38;5;167;01mValueError\u001b[39;00m \u001b[38;5;28;01mas\u001b[39;00m e:\n\u001b[0;32m    146\u001b[0m         \u001b[38;5;28;01mraise\u001b[39;00m \u001b[38;5;167;01mKeyError\u001b[39;00m(\u001b[38;5;28mstr\u001b[39m(e)) \u001b[38;5;28;01mfrom\u001b[39;00m\u001b[38;5;250m \u001b[39m\u001b[38;5;21;01me\u001b[39;00m\n\u001b[1;32m--> 148\u001b[0m result \u001b[38;5;241m=\u001b[39m \u001b[38;5;28;43mself\u001b[39;49m\u001b[38;5;241;43m.\u001b[39;49m\u001b[43m_list\u001b[49m\u001b[43m[\u001b[49m\u001b[43mkey\u001b[49m\u001b[43m]\u001b[49m\n\u001b[0;32m    149\u001b[0m \u001b[38;5;28;01mreturn\u001b[39;00m \u001b[38;5;28mself\u001b[39m\u001b[38;5;241m.\u001b[39m__newlike__(result) \u001b[38;5;28;01mif\u001b[39;00m \u001b[38;5;28misinstance\u001b[39m(result, \u001b[38;5;28mlist\u001b[39m) \u001b[38;5;28;01melse\u001b[39;00m result\n",
      "\u001b[1;31mIndexError\u001b[0m: list index out of range"
     ]
    }
   ],
   "source": [
    "for i in [0,1]:\n",
    "    print(viewer.layers[i].contrast_limits)"
   ]
  },
  {
   "cell_type": "markdown",
   "id": "6dff6450-a771-4435-9c4f-59b1e665e239",
   "metadata": {},
   "source": [
    "### Save out Zeiss mouse image as stack of planes"
   ]
  },
  {
   "cell_type": "code",
   "execution_count": 3,
   "id": "878f4be6-f26e-4649-9865-cf075b4050b9",
   "metadata": {},
   "outputs": [
    {
     "name": "stderr",
     "output_type": "stream",
     "text": [
      "C:\\Users\\Nathan\\miniforge3\\envs\\napari\\Lib\\site-packages\\tqdm\\auto.py:21: TqdmWarning: IProgress not found. Please update jupyter and ipywidgets. See https://ipywidgets.readthedocs.io/en/stable/user_install.html\n",
      "  from .autonotebook import tqdm as notebook_tqdm\n"
     ]
    }
   ],
   "source": [
    "from pathlib import Path\n",
    "import numpy as np\n",
    "from tqdm.auto import tqdm\n",
    "import imageio.v3 as iio\n",
    "import czifile  # or tifffile if you’ve exported to TIFF already\n",
    "\n",
    "# ---------- CONFIG ----------\n",
    "out_root = Path(r\"C:\\Users\\Nathan\\Desktop\\data\\LLS7_acq_as_planes\")    # output base folder\n",
    "robust_percentiles = (1.0, 99.8)                               # intensity scaling per channel\n",
    "overwrite = True                                              # guard against accidental reruns\n",
    "# ----------------------------\n",
    "image_path = Path(r'Z:\\The_Holy_de_Broglies\\2025-08-13 Lattice Lightsheet\\Macrophages\\2025-08-13\\mouse\\wildtype-01-deskewed-deconv.czi')\n",
    "out_root.mkdir(parents=True, exist_ok=True)"
   ]
  },
  {
   "cell_type": "code",
   "execution_count": 4,
   "id": "e51cbaef-b4b4-498b-aa60-b72e2287462a",
   "metadata": {},
   "outputs": [
    {
     "name": "stdout",
     "output_type": "stream",
     "text": [
      "Loaded volume: C=2 Z=114 Y=7576 X=6407\n"
     ]
    }
   ],
   "source": [
    "\n",
    "# Load and squeeze to (C, Z, Y, X). Your example was (2, 114, 7576, 6407).\n",
    "vol = np.squeeze(czifile.imread(image_path))\n",
    "if vol.ndim != 4:\n",
    "    raise ValueError(f\"Expected (C, Z, Y, X); got {vol.shape}\")\n",
    "\n",
    "C, Z, Y, X = vol.shape\n",
    "print(f\"Loaded volume: C={C} Z={Z} Y={Y} X={X}\")\n"
   ]
  },
  {
   "cell_type": "code",
   "execution_count": 5,
   "id": "8c54b6be-5357-49e4-a020-33b7997c3d26",
   "metadata": {},
   "outputs": [
    {
     "data": {
      "text/plain": [
       "dtype('uint16')"
      ]
     },
     "execution_count": 5,
     "metadata": {},
     "output_type": "execute_result"
    }
   ],
   "source": [
    "vol.dtype"
   ]
  },
  {
   "cell_type": "code",
   "execution_count": 6,
   "id": "0e2e8bf2-2591-40da-b2d8-893ca4bfcc45",
   "metadata": {},
   "outputs": [
    {
     "name": "stdout",
     "output_type": "stream",
     "text": [
      "Volume size: 20.61 GB\n"
     ]
    }
   ],
   "source": [
    "size_gb = vol.nbytes / (1024**3)\n",
    "print(f\"Volume size: {size_gb:.2f} GB\")"
   ]
  },
  {
   "cell_type": "code",
   "execution_count": 7,
   "id": "bf48b584-9e37-49e0-84be-3963ed939c00",
   "metadata": {
    "scrolled": true,
    "tags": []
   },
   "outputs": [
    {
     "name": "stdout",
     "output_type": "stream",
     "text": [
      "maxv determined, outputting beginning\n"
     ]
    },
    {
     "name": "stderr",
     "output_type": "stream",
     "text": [
      "iterating over channels:   0%|                                                                   | 0/2 [00:00<?, ?it/s]\n",
      "Channel 0: writing:   0%|                                                                      | 0/114 [00:00<?, ?it/s]\u001b[A\n",
      "Channel 0: writing:   1%|▌                                                             | 1/114 [00:03<07:21,  3.91s/it]\u001b[A\n",
      "Channel 0: writing:   2%|█                                                             | 2/114 [00:10<10:43,  5.75s/it]\u001b[A\n",
      "Channel 0: writing:   3%|█▋                                                            | 3/114 [00:17<11:39,  6.30s/it]\u001b[A\n",
      "Channel 0: writing:   4%|██▏                                                           | 4/114 [00:24<11:54,  6.49s/it]\u001b[A\n",
      "Channel 0: writing:   4%|██▋                                                           | 5/114 [00:31<11:56,  6.58s/it]\u001b[A\n",
      "Channel 0: writing:   5%|███▎                                                          | 6/114 [00:38<12:00,  6.67s/it]\u001b[A\n",
      "Channel 0: writing:   6%|███▊                                                          | 7/114 [00:45<12:02,  6.75s/it]\u001b[A\n",
      "Channel 0: writing:   7%|████▎                                                         | 8/114 [00:51<11:53,  6.74s/it]\u001b[A\n",
      "Channel 0: writing:   8%|████▉                                                         | 9/114 [00:58<11:42,  6.69s/it]\u001b[A\n",
      "Channel 0: writing:   9%|█████▎                                                       | 10/114 [01:05<11:38,  6.72s/it]\u001b[A\n",
      "Channel 0: writing:  10%|█████▉                                                       | 11/114 [01:12<11:41,  6.81s/it]\u001b[A\n",
      "Channel 0: writing:  11%|██████▍                                                      | 12/114 [01:18<11:28,  6.75s/it]\u001b[A\n",
      "Channel 0: writing:  11%|██████▉                                                      | 13/114 [01:25<11:23,  6.77s/it]\u001b[A\n",
      "Channel 0: writing:  12%|███████▍                                                     | 14/114 [01:32<11:25,  6.86s/it]\u001b[A\n",
      "Channel 0: writing:  13%|████████                                                     | 15/114 [01:39<11:17,  6.85s/it]\u001b[A\n",
      "Channel 0: writing:  14%|████████▌                                                    | 16/114 [01:46<11:04,  6.78s/it]\u001b[A\n",
      "Channel 0: writing:  15%|█████████                                                    | 17/114 [01:52<10:48,  6.69s/it]\u001b[A\n",
      "Channel 0: writing:  16%|█████████▋                                                   | 18/114 [01:59<10:40,  6.67s/it]\u001b[A\n",
      "Channel 0: writing:  17%|██████████▏                                                  | 19/114 [02:06<10:42,  6.76s/it]\u001b[A\n",
      "Channel 0: writing:  18%|██████████▋                                                  | 20/114 [02:13<10:51,  6.93s/it]\u001b[A\n",
      "Channel 0: writing:  18%|███████████▏                                                 | 21/114 [02:21<11:09,  7.20s/it]\u001b[A\n",
      "Channel 0: writing:  19%|███████████▊                                                 | 22/114 [02:28<11:10,  7.28s/it]\u001b[A\n",
      "Channel 0: writing:  20%|████████████▎                                                | 23/114 [02:36<11:04,  7.30s/it]\u001b[A\n",
      "Channel 0: writing:  21%|████████████▊                                                | 24/114 [02:43<10:57,  7.30s/it]\u001b[A\n",
      "Channel 0: writing:  22%|█████████████▍                                               | 25/114 [02:50<10:53,  7.34s/it]\u001b[A\n",
      "Channel 0: writing:  23%|█████████████▉                                               | 26/114 [02:58<10:45,  7.34s/it]\u001b[A\n",
      "Channel 0: writing:  24%|██████████████▍                                              | 27/114 [03:05<10:41,  7.38s/it]\u001b[A\n",
      "Channel 0: writing:  25%|██████████████▉                                              | 28/114 [03:13<10:39,  7.43s/it]\u001b[A\n",
      "Channel 0: writing:  25%|███████████████▌                                             | 29/114 [03:21<10:38,  7.51s/it]\u001b[A\n",
      "Channel 0: writing:  26%|████████████████                                             | 30/114 [03:28<10:32,  7.53s/it]\u001b[A\n",
      "Channel 0: writing:  27%|████████████████▌                                            | 31/114 [03:36<10:27,  7.56s/it]\u001b[A\n",
      "Channel 0: writing:  28%|█████████████████                                            | 32/114 [03:44<10:30,  7.69s/it]\u001b[A\n",
      "Channel 0: writing:  29%|█████████████████▋                                           | 33/114 [03:52<10:28,  7.76s/it]\u001b[A\n",
      "Channel 0: writing:  30%|██████████████████▏                                          | 34/114 [04:00<10:29,  7.87s/it]\u001b[A\n",
      "Channel 0: writing:  31%|██████████████████▋                                          | 35/114 [04:08<10:35,  8.04s/it]\u001b[A\n",
      "Channel 0: writing:  32%|███████████████████▎                                         | 36/114 [04:17<10:38,  8.18s/it]\u001b[A\n",
      "Channel 0: writing:  32%|███████████████████▊                                         | 37/114 [04:26<10:50,  8.44s/it]\u001b[A\n",
      "Channel 0: writing:  33%|████████████████████▎                                        | 38/114 [04:35<10:59,  8.68s/it]\u001b[A\n",
      "Channel 0: writing:  34%|████████████████████▊                                        | 39/114 [04:44<11:07,  8.91s/it]\u001b[A\n",
      "Channel 0: writing:  35%|█████████████████████▍                                       | 40/114 [04:54<11:16,  9.14s/it]\u001b[A\n",
      "Channel 0: writing:  36%|█████████████████████▉                                       | 41/114 [05:04<11:26,  9.40s/it]\u001b[A\n",
      "Channel 0: writing:  37%|██████████████████████▍                                      | 42/114 [05:14<11:36,  9.68s/it]\u001b[A\n",
      "Channel 0: writing:  38%|███████████████████████                                      | 43/114 [05:25<11:43,  9.91s/it]\u001b[A\n",
      "Channel 0: writing:  39%|███████████████████████▌                                     | 44/114 [05:35<11:45, 10.08s/it]\u001b[A\n",
      "Channel 0: writing:  39%|████████████████████████                                     | 45/114 [05:46<11:45, 10.22s/it]\u001b[A\n",
      "Channel 0: writing:  40%|████████████████████████▌                                    | 46/114 [05:57<11:43, 10.34s/it]\u001b[A\n",
      "Channel 0: writing:  41%|█████████████████████████▏                                   | 47/114 [06:07<11:35, 10.38s/it]\u001b[A\n",
      "Channel 0: writing:  42%|█████████████████████████▋                                   | 48/114 [06:17<11:23, 10.36s/it]\u001b[A\n",
      "Channel 0: writing:  43%|██████████████████████████▏                                  | 49/114 [06:27<11:06, 10.25s/it]\u001b[A\n",
      "Channel 0: writing:  44%|██████████████████████████▊                                  | 50/114 [06:37<10:52, 10.20s/it]\u001b[A\n",
      "Channel 0: writing:  45%|███████████████████████████▎                                 | 51/114 [06:47<10:38, 10.13s/it]\u001b[A\n",
      "Channel 0: writing:  46%|███████████████████████████▊                                 | 52/114 [06:57<10:19, 10.00s/it]\u001b[A\n",
      "Channel 0: writing:  46%|████████████████████████████▎                                | 53/114 [07:07<10:02,  9.87s/it]\u001b[A\n",
      "Channel 0: writing:  47%|████████████████████████████▉                                | 54/114 [07:16<09:43,  9.72s/it]\u001b[A\n",
      "Channel 0: writing:  48%|█████████████████████████████▍                               | 55/114 [07:26<09:31,  9.69s/it]\u001b[A\n",
      "Channel 0: writing:  49%|█████████████████████████████▉                               | 56/114 [07:35<09:15,  9.57s/it]\u001b[A\n",
      "Channel 0: writing:  50%|██████████████████████████████▌                              | 57/114 [07:44<08:57,  9.44s/it]\u001b[A\n",
      "Channel 0: writing:  51%|███████████████████████████████                              | 58/114 [07:53<08:37,  9.24s/it]\u001b[A\n",
      "Channel 0: writing:  52%|███████████████████████████████▌                             | 59/114 [08:02<08:20,  9.09s/it]\u001b[A\n",
      "Channel 0: writing:  53%|████████████████████████████████                             | 60/114 [08:10<08:01,  8.92s/it]\u001b[A\n",
      "Channel 0: writing:  54%|████████████████████████████████▋                            | 61/114 [08:18<07:41,  8.70s/it]\u001b[A\n",
      "Channel 0: writing:  54%|█████████████████████████████████▏                           | 62/114 [08:26<07:22,  8.50s/it]\u001b[A\n",
      "Channel 0: writing:  55%|█████████████████████████████████▋                           | 63/114 [08:34<07:06,  8.36s/it]\u001b[A\n",
      "Channel 0: writing:  56%|██████████████████████████████████▏                          | 64/114 [08:42<06:50,  8.22s/it]\u001b[A\n",
      "Channel 0: writing:  57%|██████████████████████████████████▊                          | 65/114 [08:50<06:38,  8.13s/it]\u001b[A\n",
      "Channel 0: writing:  58%|███████████████████████████████████▎                         | 66/114 [08:58<06:23,  7.99s/it]\u001b[A\n",
      "Channel 0: writing:  59%|███████████████████████████████████▊                         | 67/114 [09:06<06:10,  7.89s/it]\u001b[A\n",
      "Channel 0: writing:  60%|████████████████████████████████████▍                        | 68/114 [09:13<06:02,  7.88s/it]\u001b[A\n",
      "Channel 0: writing:  61%|████████████████████████████████████▉                        | 69/114 [09:21<05:51,  7.81s/it]\u001b[A\n",
      "Channel 0: writing:  61%|█████████████████████████████████████▍                       | 70/114 [09:29<05:47,  7.89s/it]\u001b[A\n",
      "Channel 0: writing:  62%|█████████████████████████████████████▉                       | 71/114 [09:37<05:34,  7.78s/it]\u001b[A\n",
      "Channel 0: writing:  63%|██████████████████████████████████████▌                      | 72/114 [09:44<05:23,  7.70s/it]\u001b[A\n",
      "Channel 0: writing:  64%|███████████████████████████████████████                      | 73/114 [09:52<05:13,  7.65s/it]\u001b[A\n",
      "Channel 0: writing:  65%|███████████████████████████████████████▌                     | 74/114 [09:59<05:02,  7.55s/it]\u001b[A\n",
      "Channel 0: writing:  66%|████████████████████████████████████████▏                    | 75/114 [10:06<04:52,  7.50s/it]\u001b[A\n",
      "Channel 0: writing:  67%|████████████████████████████████████████▋                    | 76/114 [10:14<04:42,  7.44s/it]\u001b[A\n",
      "Channel 0: writing:  68%|█████████████████████████████████████████▏                   | 77/114 [10:21<04:34,  7.41s/it]\u001b[A\n",
      "Channel 0: writing:  68%|█████████████████████████████████████████▋                   | 78/114 [10:28<04:26,  7.40s/it]\u001b[A\n",
      "Channel 0: writing:  69%|██████████████████████████████████████████▎                  | 79/114 [10:36<04:17,  7.36s/it]\u001b[A\n",
      "Channel 0: writing:  70%|██████████████████████████████████████████▊                  | 80/114 [10:43<04:09,  7.35s/it]\u001b[A\n",
      "Channel 0: writing:  71%|███████████████████████████████████████████▎                 | 81/114 [10:51<04:05,  7.44s/it]\u001b[A\n",
      "Channel 0: writing:  72%|███████████████████████████████████████████▉                 | 82/114 [10:58<03:57,  7.43s/it]\u001b[A\n",
      "Channel 0: writing:  73%|████████████████████████████████████████████▍                | 83/114 [11:06<03:50,  7.44s/it]\u001b[A\n",
      "Channel 0: writing:  74%|████████████████████████████████████████████▉                | 84/114 [11:13<03:43,  7.46s/it]\u001b[A\n",
      "Channel 0: writing:  75%|█████████████████████████████████████████████▍               | 85/114 [11:20<03:34,  7.41s/it]\u001b[A\n",
      "Channel 0: writing:  75%|██████████████████████████████████████████████               | 86/114 [11:28<03:28,  7.45s/it]\u001b[A\n",
      "Channel 0: writing:  76%|██████████████████████████████████████████████▌              | 87/114 [11:35<03:21,  7.45s/it]\u001b[A\n",
      "Channel 0: writing:  77%|███████████████████████████████████████████████              | 88/114 [11:43<03:13,  7.45s/it]\u001b[A\n",
      "Channel 0: writing:  78%|███████████████████████████████████████████████▌             | 89/114 [11:50<03:07,  7.49s/it]\u001b[A\n",
      "Channel 0: writing:  79%|████████████████████████████████████████████████▏            | 90/114 [11:58<02:58,  7.44s/it]\u001b[A\n",
      "Channel 0: writing:  80%|████████████████████████████████████████████████▋            | 91/114 [12:05<02:50,  7.41s/it]\u001b[A\n",
      "Channel 0: writing:  81%|█████████████████████████████████████████████████▏           | 92/114 [12:13<02:46,  7.55s/it]\u001b[A\n",
      "Channel 0: writing:  82%|█████████████████████████████████████████████████▊           | 93/114 [12:20<02:38,  7.53s/it]\u001b[A\n",
      "Channel 0: writing:  82%|██████████████████████████████████████████████████▎          | 94/114 [12:28<02:30,  7.54s/it]\u001b[A\n",
      "Channel 0: writing:  83%|██████████████████████████████████████████████████▊          | 95/114 [12:35<02:22,  7.50s/it]\u001b[A\n",
      "Channel 0: writing:  84%|███████████████████████████████████████████████████▎         | 96/114 [12:43<02:13,  7.44s/it]\u001b[A\n",
      "Channel 0: writing:  85%|███████████████████████████████████████████████████▉         | 97/114 [12:50<02:06,  7.42s/it]\u001b[A\n",
      "Channel 0: writing:  86%|████████████████████████████████████████████████████▍        | 98/114 [12:57<01:58,  7.38s/it]\u001b[A\n",
      "Channel 0: writing:  87%|████████████████████████████████████████████████████▉        | 99/114 [13:05<01:51,  7.45s/it]\u001b[A\n",
      "Channel 0: writing:  88%|████████████████████████████████████████████████████▋       | 100/114 [13:12<01:44,  7.45s/it]\u001b[A\n",
      "Channel 0: writing:  89%|█████████████████████████████████████████████████████▏      | 101/114 [13:20<01:35,  7.37s/it]\u001b[A\n",
      "Channel 0: writing:  89%|█████████████████████████████████████████████████████▋      | 102/114 [13:27<01:27,  7.29s/it]\u001b[A\n",
      "Channel 0: writing:  90%|██████████████████████████████████████████████████████▏     | 103/114 [13:34<01:20,  7.31s/it]\u001b[A\n",
      "Channel 0: writing:  91%|██████████████████████████████████████████████████████▋     | 104/114 [13:42<01:13,  7.37s/it]\u001b[A\n",
      "Channel 0: writing:  92%|███████████████████████████████████████████████████████▎    | 105/114 [13:49<01:05,  7.28s/it]\u001b[A\n",
      "Channel 0: writing:  93%|███████████████████████████████████████████████████████▊    | 106/114 [13:56<00:58,  7.27s/it]\u001b[A\n",
      "Channel 0: writing:  94%|████████████████████████████████████████████████████████▎   | 107/114 [14:03<00:50,  7.25s/it]\u001b[A\n",
      "Channel 0: writing:  95%|████████████████████████████████████████████████████████▊   | 108/114 [14:10<00:43,  7.28s/it]\u001b[A\n",
      "Channel 0: writing:  96%|█████████████████████████████████████████████████████████▎  | 109/114 [14:18<00:36,  7.36s/it]\u001b[A\n",
      "Channel 0: writing:  96%|█████████████████████████████████████████████████████████▉  | 110/114 [14:25<00:29,  7.33s/it]\u001b[A\n",
      "Channel 0: writing:  97%|██████████████████████████████████████████████████████████▍ | 111/114 [14:32<00:21,  7.32s/it]\u001b[A\n",
      "Channel 0: writing:  98%|██████████████████████████████████████████████████████████▉ | 112/114 [14:40<00:14,  7.33s/it]\u001b[A\n",
      "Channel 0: writing:  99%|███████████████████████████████████████████████████████████▍| 113/114 [14:47<00:07,  7.33s/it]\u001b[A\n",
      "Channel 0: writing: 100%|████████████████████████████████████████████████████████████| 114/114 [14:55<00:00,  7.85s/it]\u001b[A\n",
      "iterating over channels:  50%|█████████████████████████████                             | 1/2 [14:59<14:59, 899.11s/it]\n",
      "Channel 1: writing:   0%|                                                                      | 0/114 [00:00<?, ?it/s]\u001b[A\n",
      "Channel 1: writing:   1%|▌                                                             | 1/114 [00:03<07:28,  3.97s/it]\u001b[A\n",
      "Channel 1: writing:   2%|█                                                             | 2/114 [00:10<10:32,  5.65s/it]\u001b[A\n",
      "Channel 1: writing:   3%|█▋                                                            | 3/114 [00:17<11:28,  6.20s/it]\u001b[A\n",
      "Channel 1: writing:   4%|██▏                                                           | 4/114 [00:24<11:54,  6.49s/it]\u001b[A\n",
      "Channel 1: writing:   4%|██▋                                                           | 5/114 [00:31<12:09,  6.69s/it]\u001b[A\n",
      "Channel 1: writing:   5%|███▎                                                          | 6/114 [00:38<12:11,  6.77s/it]\u001b[A\n",
      "Channel 1: writing:   6%|███▊                                                          | 7/114 [00:45<12:09,  6.82s/it]\u001b[A\n",
      "Channel 1: writing:   7%|████▎                                                         | 8/114 [00:52<12:08,  6.87s/it]\u001b[A\n",
      "Channel 1: writing:   8%|████▉                                                         | 9/114 [00:59<12:06,  6.92s/it]\u001b[A\n",
      "Channel 1: writing:   9%|█████▎                                                       | 10/114 [01:06<11:55,  6.88s/it]\u001b[A\n",
      "Channel 1: writing:  10%|█████▉                                                       | 11/114 [01:13<11:49,  6.89s/it]\u001b[A\n",
      "Channel 1: writing:  11%|██████▍                                                      | 12/114 [01:20<11:40,  6.87s/it]\u001b[A\n",
      "Channel 1: writing:  11%|██████▉                                                      | 13/114 [01:26<11:33,  6.87s/it]\u001b[A\n",
      "Channel 1: writing:  12%|███████▍                                                     | 14/114 [01:33<11:25,  6.85s/it]\u001b[A\n",
      "Channel 1: writing:  13%|████████                                                     | 15/114 [01:40<11:17,  6.85s/it]\u001b[A\n",
      "Channel 1: writing:  14%|████████▌                                                    | 16/114 [01:47<11:12,  6.86s/it]\u001b[A\n",
      "Channel 1: writing:  15%|█████████                                                    | 17/114 [01:54<11:15,  6.96s/it]\u001b[A\n",
      "Channel 1: writing:  16%|█████████▋                                                   | 18/114 [02:01<11:16,  7.05s/it]\u001b[A\n",
      "Channel 1: writing:  17%|██████████▏                                                  | 19/114 [02:09<11:12,  7.08s/it]\u001b[A\n",
      "Channel 1: writing:  18%|██████████▋                                                  | 20/114 [02:15<10:59,  7.02s/it]\u001b[A\n",
      "Channel 1: writing:  18%|███████████▏                                                 | 21/114 [02:22<10:47,  6.96s/it]\u001b[A\n",
      "Channel 1: writing:  19%|███████████▊                                                 | 22/114 [02:29<10:48,  7.05s/it]\u001b[A\n",
      "Channel 1: writing:  20%|████████████▎                                                | 23/114 [02:36<10:37,  7.01s/it]\u001b[A\n",
      "Channel 1: writing:  21%|████████████▊                                                | 24/114 [02:43<10:29,  6.99s/it]\u001b[A\n",
      "Channel 1: writing:  22%|█████████████▍                                               | 25/114 [02:50<10:22,  6.99s/it]\u001b[A\n",
      "Channel 1: writing:  23%|█████████████▉                                               | 26/114 [02:57<10:13,  6.97s/it]\u001b[A\n",
      "Channel 1: writing:  24%|██████████████▍                                              | 27/114 [03:04<10:06,  6.98s/it]\u001b[A\n",
      "Channel 1: writing:  25%|██████████████▉                                              | 28/114 [03:11<10:02,  7.00s/it]\u001b[A\n",
      "Channel 1: writing:  25%|███████████████▌                                             | 29/114 [03:18<09:57,  7.03s/it]\u001b[A\n",
      "Channel 1: writing:  26%|████████████████                                             | 30/114 [03:26<09:54,  7.08s/it]\u001b[A\n",
      "Channel 1: writing:  27%|████████████████▌                                            | 31/114 [03:33<09:55,  7.17s/it]\u001b[A\n",
      "Channel 1: writing:  28%|█████████████████                                            | 32/114 [03:41<10:00,  7.32s/it]\u001b[A\n",
      "Channel 1: writing:  29%|█████████████████▋                                           | 33/114 [03:49<10:10,  7.54s/it]\u001b[A\n",
      "Channel 1: writing:  30%|██████████████████▏                                          | 34/114 [03:57<10:12,  7.65s/it]\u001b[A\n",
      "Channel 1: writing:  31%|██████████████████▋                                          | 35/114 [04:04<10:08,  7.70s/it]\u001b[A\n",
      "Channel 1: writing:  32%|███████████████████▎                                         | 36/114 [04:13<10:28,  8.06s/it]\u001b[A\n",
      "Channel 1: writing:  32%|███████████████████▊                                         | 37/114 [04:22<10:33,  8.23s/it]\u001b[A\n",
      "Channel 1: writing:  33%|████████████████████▎                                        | 38/114 [04:31<10:33,  8.34s/it]\u001b[A\n",
      "Channel 1: writing:  34%|████████████████████▊                                        | 39/114 [04:40<10:52,  8.69s/it]\u001b[A\n",
      "Channel 1: writing:  35%|█████████████████████▍                                       | 40/114 [04:48<10:19,  8.37s/it]\u001b[A\n",
      "Channel 1: writing:  36%|█████████████████████▉                                       | 41/114 [04:54<09:33,  7.86s/it]\u001b[A\n",
      "Channel 1: writing:  37%|██████████████████████▍                                      | 42/114 [05:03<09:40,  8.06s/it]\u001b[A\n",
      "Channel 1: writing:  38%|███████████████████████                                      | 43/114 [05:12<09:51,  8.33s/it]\u001b[A\n",
      "Channel 1: writing:  39%|███████████████████████▌                                     | 44/114 [05:22<10:18,  8.83s/it]\u001b[A\n",
      "Channel 1: writing:  39%|████████████████████████                                     | 45/114 [05:32<10:36,  9.22s/it]\u001b[A\n",
      "Channel 1: writing:  40%|████████████████████████▌                                    | 46/114 [05:42<10:36,  9.36s/it]\u001b[A\n",
      "Channel 1: writing:  41%|█████████████████████████▏                                   | 47/114 [05:51<10:19,  9.25s/it]\u001b[A\n",
      "Channel 1: writing:  42%|█████████████████████████▋                                   | 48/114 [06:01<10:24,  9.46s/it]\u001b[A\n",
      "Channel 1: writing:  43%|██████████████████████████▏                                  | 49/114 [06:08<09:37,  8.89s/it]\u001b[A\n",
      "Channel 1: writing:  44%|██████████████████████████▊                                  | 50/114 [06:18<09:47,  9.18s/it]\u001b[A\n",
      "Channel 1: writing:  45%|███████████████████████████▎                                 | 51/114 [06:28<09:55,  9.45s/it]\u001b[A\n",
      "Channel 1: writing:  46%|███████████████████████████▊                                 | 52/114 [06:38<09:52,  9.56s/it]\u001b[A\n",
      "Channel 1: writing:  46%|████████████████████████████▎                                | 53/114 [06:48<09:48,  9.64s/it]\u001b[A\n",
      "Channel 1: writing:  47%|████████████████████████████▉                                | 54/114 [06:57<09:31,  9.53s/it]\u001b[A\n",
      "Channel 1: writing:  48%|█████████████████████████████▍                               | 55/114 [07:06<09:18,  9.46s/it]\u001b[A\n",
      "Channel 1: writing:  49%|█████████████████████████████▉                               | 56/114 [07:16<09:16,  9.60s/it]\u001b[A\n",
      "Channel 1: writing:  50%|██████████████████████████████▌                              | 57/114 [07:26<09:07,  9.60s/it]\u001b[A\n",
      "Channel 1: writing:  51%|███████████████████████████████                              | 58/114 [07:35<08:55,  9.56s/it]\u001b[A\n",
      "Channel 1: writing:  52%|███████████████████████████████▌                             | 59/114 [07:44<08:25,  9.20s/it]\u001b[A\n",
      "Channel 1: writing:  53%|████████████████████████████████                             | 60/114 [07:52<08:02,  8.94s/it]\u001b[A\n",
      "Channel 1: writing:  54%|████████████████████████████████▋                            | 61/114 [08:00<07:42,  8.73s/it]\u001b[A\n",
      "Channel 1: writing:  54%|█████████████████████████████████▏                           | 62/114 [08:08<07:17,  8.41s/it]\u001b[A\n",
      "Channel 1: writing:  55%|█████████████████████████████████▋                           | 63/114 [08:16<07:12,  8.48s/it]\u001b[A\n",
      "Channel 1: writing:  56%|██████████████████████████████████▏                          | 64/114 [08:25<06:57,  8.36s/it]\u001b[A\n",
      "Channel 1: writing:  57%|██████████████████████████████████▊                          | 65/114 [08:33<06:49,  8.36s/it]\u001b[A\n",
      "Channel 1: writing:  58%|███████████████████████████████████▎                         | 66/114 [08:40<06:27,  8.08s/it]\u001b[A\n",
      "Channel 1: writing:  59%|███████████████████████████████████▊                         | 67/114 [08:49<06:26,  8.23s/it]\u001b[A\n",
      "Channel 1: writing:  60%|████████████████████████████████████▍                        | 68/114 [08:57<06:16,  8.20s/it]\u001b[A\n",
      "Channel 1: writing:  61%|████████████████████████████████████▉                        | 69/114 [09:05<06:05,  8.12s/it]\u001b[A\n",
      "Channel 1: writing:  61%|█████████████████████████████████████▍                       | 70/114 [09:13<05:55,  8.07s/it]\u001b[A\n",
      "Channel 1: writing:  62%|█████████████████████████████████████▉                       | 71/114 [09:21<05:48,  8.10s/it]\u001b[A\n",
      "Channel 1: writing:  63%|██████████████████████████████████████▌                      | 72/114 [09:29<05:39,  8.09s/it]\u001b[A\n",
      "Channel 1: writing:  64%|███████████████████████████████████████                      | 73/114 [09:37<05:31,  8.09s/it]\u001b[A\n",
      "Channel 1: writing:  65%|███████████████████████████████████████▌                     | 74/114 [09:45<05:22,  8.06s/it]\u001b[A\n",
      "Channel 1: writing:  66%|████████████████████████████████████████▏                    | 75/114 [09:54<05:24,  8.32s/it]\u001b[A\n",
      "Channel 1: writing:  67%|████████████████████████████████████████▋                    | 76/114 [10:02<05:10,  8.16s/it]\u001b[A\n",
      "Channel 1: writing:  68%|█████████████████████████████████████████▏                   | 77/114 [10:10<04:58,  8.08s/it]\u001b[A\n",
      "Channel 1: writing:  68%|█████████████████████████████████████████▋                   | 78/114 [10:17<04:44,  7.91s/it]\u001b[A\n",
      "Channel 1: writing:  69%|██████████████████████████████████████████▎                  | 79/114 [10:25<04:34,  7.84s/it]\u001b[A\n",
      "Channel 1: writing:  70%|██████████████████████████████████████████▊                  | 80/114 [10:33<04:23,  7.76s/it]\u001b[A\n",
      "Channel 1: writing:  71%|███████████████████████████████████████████▎                 | 81/114 [10:40<04:16,  7.79s/it]\u001b[A\n",
      "Channel 1: writing:  72%|███████████████████████████████████████████▉                 | 82/114 [10:48<04:08,  7.76s/it]\u001b[A\n",
      "Channel 1: writing:  73%|████████████████████████████████████████████▍                | 83/114 [10:56<03:58,  7.71s/it]\u001b[A\n",
      "Channel 1: writing:  74%|████████████████████████████████████████████▉                | 84/114 [11:04<03:55,  7.85s/it]\u001b[A\n",
      "Channel 1: writing:  75%|█████████████████████████████████████████████▍               | 85/114 [11:10<03:33,  7.36s/it]\u001b[A\n",
      "Channel 1: writing:  75%|██████████████████████████████████████████████               | 86/114 [11:17<03:20,  7.17s/it]\u001b[A\n",
      "Channel 1: writing:  76%|██████████████████████████████████████████████▌              | 87/114 [11:24<03:10,  7.07s/it]\u001b[A\n",
      "Channel 1: writing:  77%|███████████████████████████████████████████████              | 88/114 [11:34<03:31,  8.12s/it]\u001b[A\n",
      "Channel 1: writing:  78%|███████████████████████████████████████████████▌             | 89/114 [11:44<03:36,  8.68s/it]\u001b[A\n",
      "Channel 1: writing:  79%|████████████████████████████████████████████████▏            | 90/114 [11:51<03:14,  8.12s/it]\u001b[A\n",
      "Channel 1: writing:  80%|████████████████████████████████████████████████▋            | 91/114 [11:59<03:04,  8.01s/it]\u001b[A\n",
      "Channel 1: writing:  81%|█████████████████████████████████████████████████▏           | 92/114 [12:08<03:03,  8.36s/it]\u001b[A\n",
      "Channel 1: writing:  82%|█████████████████████████████████████████████████▊           | 93/114 [12:16<02:55,  8.37s/it]\u001b[A\n",
      "Channel 1: writing:  82%|██████████████████████████████████████████████████▎          | 94/114 [12:22<02:32,  7.62s/it]\u001b[A\n",
      "Channel 1: writing:  83%|██████████████████████████████████████████████████▊          | 95/114 [12:32<02:37,  8.31s/it]\u001b[A\n",
      "Channel 1: writing:  84%|███████████████████████████████████████████████████▎         | 96/114 [12:40<02:24,  8.04s/it]\u001b[A\n",
      "Channel 1: writing:  85%|███████████████████████████████████████████████████▉         | 97/114 [12:46<02:09,  7.61s/it]\u001b[A\n",
      "Channel 1: writing:  86%|████████████████████████████████████████████████████▍        | 98/114 [12:54<02:02,  7.68s/it]\u001b[A\n",
      "Channel 1: writing:  87%|████████████████████████████████████████████████████▉        | 99/114 [13:02<01:55,  7.71s/it]\u001b[A\n",
      "Channel 1: writing:  88%|████████████████████████████████████████████████████▋       | 100/114 [13:09<01:44,  7.47s/it]\u001b[A\n",
      "Channel 1: writing:  89%|█████████████████████████████████████████████████████▏      | 101/114 [13:18<01:43,  7.95s/it]\u001b[A\n",
      "Channel 1: writing:  89%|█████████████████████████████████████████████████████▋      | 102/114 [13:25<01:34,  7.84s/it]\u001b[A\n",
      "Channel 1: writing:  90%|██████████████████████████████████████████████████████▏     | 103/114 [13:33<01:24,  7.64s/it]\u001b[A\n",
      "Channel 1: writing:  91%|██████████████████████████████████████████████████████▋     | 104/114 [13:40<01:15,  7.57s/it]\u001b[A\n",
      "Channel 1: writing:  92%|███████████████████████████████████████████████████████▎    | 105/114 [13:47<01:07,  7.51s/it]\u001b[A\n",
      "Channel 1: writing:  93%|███████████████████████████████████████████████████████▊    | 106/114 [13:55<00:59,  7.43s/it]\u001b[A\n",
      "Channel 1: writing:  94%|████████████████████████████████████████████████████████▎   | 107/114 [14:02<00:51,  7.37s/it]\u001b[A\n",
      "Channel 1: writing:  95%|████████████████████████████████████████████████████████▊   | 108/114 [14:09<00:44,  7.38s/it]\u001b[A\n",
      "Channel 1: writing:  96%|█████████████████████████████████████████████████████████▎  | 109/114 [14:16<00:35,  7.10s/it]\u001b[A\n",
      "Channel 1: writing:  96%|█████████████████████████████████████████████████████████▉  | 110/114 [14:22<00:27,  6.97s/it]\u001b[A\n",
      "Channel 1: writing:  97%|██████████████████████████████████████████████████████████▍ | 111/114 [14:28<00:19,  6.61s/it]\u001b[A\n",
      "Channel 1: writing:  98%|██████████████████████████████████████████████████████████▉ | 112/114 [14:35<00:13,  6.82s/it]\u001b[A\n",
      "Channel 1: writing:  99%|███████████████████████████████████████████████████████████▍| 113/114 [14:43<00:06,  6.98s/it]\u001b[A\n",
      "Channel 1: writing: 100%|████████████████████████████████████████████████████████████| 114/114 [14:51<00:00,  7.82s/it]\u001b[A\n",
      "iterating over channels: 100%|██████████████████████████████████████████████████████████| 2/2 [29:54<00:00, 897.17s/it]"
     ]
    },
    {
     "name": "stdout",
     "output_type": "stream",
     "text": [
      "Done. Import in Blender via: File → Import → Images as Planes.\n",
      "Import one channel folder at a time; enable 'Animate Image Sequence' if desired.\n"
     ]
    },
    {
     "name": "stderr",
     "output_type": "stream",
     "text": [
      "\n"
     ]
    }
   ],
   "source": [
    "overwrite = False\n",
    "percentile_subsample = 4               # >=1. Use 1 for full-res percentiles; >1 strides for speed\n",
    "# ----------------------------------------\n",
    "\n",
    "bitdepth = 16\n",
    "\n",
    "# Choose dtype conversion\n",
    "if bitdepth == 16:\n",
    "    out_dtype = np.uint16\n",
    "    maxv = np.iinfo(out_dtype).max\n",
    "elif bitdepth == 8:\n",
    "    out_dtype = np.uint8\n",
    "    maxv = np.iinfo(out_dtype).max\n",
    "else:\n",
    "    raise ValueError(\"bitdepth must be 8 or 16\")\n",
    "\n",
    "print('maxv determined, outputting beginning')\n",
    "\n",
    "\n",
    "for c in tqdm(range(C), desc = 'iterating over channels'):\n",
    "    ch_dir = out_root / f\"channel_{c:02d}\"\n",
    "    if ch_dir.exists() and not overwrite:\n",
    "        print(f\"Skipping existing channel dir: {ch_dir} (set overwrite=True to replace)\")\n",
    "        continue\n",
    "    ch_dir.mkdir(parents=True, exist_ok=True)\n",
    "\n",
    "    # ---- LOW-MEM PERCENTILES (channel stays uint16) ----\n",
    "    # Compute robust window on a strided subsample to save time/RAM.\n",
    "    ch_u16 = vol[c]  # (Z,Y,X), dtype likely uint16\n",
    "    if percentile_subsample > 1:\n",
    "        s = percentile_subsample\n",
    "        sample = ch_u16[::max(1, Z // min(Z, Z)), ::s, ::s]  # stride in YX only\n",
    "        p_low, p_high = np.percentile(sample, robust_percentiles)\n",
    "    else:\n",
    "        p_low, p_high = np.percentile(ch_u16, robust_percentiles)\n",
    "\n",
    "    scale_den = float(max(p_high - p_low, 1e-6))\n",
    "\n",
    "    # ---- SLICE-BY-SLICE NORMALIZE & WRITE (no big float array) ----\n",
    "    for z in tqdm(range(Z), desc=f\"Channel {c}: writing\"):\n",
    "        # Promote *just this slice* to float32 for math, then drop it.\n",
    "        sl = ch_u16[z].astype(np.float32, copy=False)\n",
    "        sl = (sl - p_low) / scale_den\n",
    "        sl = np.clip(sl, 0.0, 1.0)\n",
    "\n",
    "        # Quantize to output bitdepth\n",
    "        plane = (sl * maxv + 0.5).astype(out_dtype, copy=False)\n",
    "        iio.imwrite(ch_dir / f\"z_{z:04d}.png\", plane, extension=\".png\")\n",
    "\n",
    "print(f\"Done. Import in Blender via: File → Import → Images as Planes.\")\n",
    "print(f\"Import one channel folder at a time; enable 'Animate Image Sequence' if desired.\")"
   ]
  },
  {
   "cell_type": "code",
   "execution_count": 24,
   "id": "cc5f609f-d849-41d7-8330-8a923929df8e",
   "metadata": {},
   "outputs": [
    {
     "data": {
      "text/plain": [
       "[<Image layer 'Image' at 0x1d0229b6590>,\n",
       " <Image layer 'Image [1]' at 0x1d048429e90>]"
      ]
     },
     "execution_count": 24,
     "metadata": {},
     "output_type": "execute_result"
    }
   ],
   "source": [
    "import napari\n",
    "viewer = napari.Viewer(title = 'testing blender output')\n",
    "viewer.add_image(vol, channel_axis = 0)"
   ]
  },
  {
   "cell_type": "code",
   "execution_count": 20,
   "id": "5f399d5c-78e2-40f4-87b5-dd64e3d5dd32",
   "metadata": {},
   "outputs": [
    {
     "data": {
      "text/plain": [
       "[[901.3891891891893, 1134.7585585585584], [0.0, 757.9670818505338]]"
      ]
     },
     "execution_count": 20,
     "metadata": {},
     "output_type": "execute_result"
    }
   ],
   "source": [
    "[viewer.layers[i.name].contrast_limits for i in viewer.layers]"
   ]
  },
  {
   "cell_type": "code",
   "execution_count": 25,
   "id": "85d127c8-63f3-4489-8435-e12f047db223",
   "metadata": {},
   "outputs": [],
   "source": [
    "for i,j in zip(viewer.layers, [[901.3891891891893, 1134.7585585585584], [0.0, 757.9670818505338]]):\n",
    "    i.contrast_limits = j"
   ]
  },
  {
   "cell_type": "code",
   "execution_count": 26,
   "id": "9569c701-ed70-4752-b9ff-210ebb8b5355",
   "metadata": {},
   "outputs": [
    {
     "name": "stderr",
     "output_type": "stream",
     "text": [
      "Saving screenshots: 100%|███████████████████████████████████████████████████████████| 114/114 [00:01<00:00, 101.97it/s]"
     ]
    },
    {
     "name": "stdout",
     "output_type": "stream",
     "text": [
      "Saved 114 screenshots to C:\\Users\\Nathan\\Desktop\\data\\LLS7_acq_as_planes\\napari_screenshots\n"
     ]
    },
    {
     "name": "stderr",
     "output_type": "stream",
     "text": [
      "\n"
     ]
    }
   ],
   "source": [
    "# ---------------- CONFIG ----------------\n",
    "out_dir = Path(r\"C:\\Users\\Nathan\\Desktop\\data\\LLS7_acq_as_planes\\napari_screenshots\")\n",
    "overwrite = False\n",
    "viewer_title = \"testing blender output\"\n",
    "# ----------------------------------------\n",
    "\n",
    "out_dir.mkdir(parents=True, exist_ok=True)\n",
    "\n",
    "# # Assume `vol` is already loaded: shape (C,Z,Y,X) or (Z,Y,X)\n",
    "# if vol.ndim == 4:\n",
    "#     viewer = napari.Viewer(title=viewer_title)\n",
    "#     layer = viewer.add_image(vol, channel_axis=0, name=[f\"ch{i}\" for i in range(vol.shape[0])])\n",
    "# elif vol.ndim == 3:\n",
    "#     viewer = napari.Viewer(title=viewer_title)\n",
    "#     layer = viewer.add_image(vol, name=\"image\")\n",
    "# else:\n",
    "#     raise ValueError(f\"Unexpected shape {vol.shape}\")\n",
    "\n",
    "Z = vol.shape[-3]  # third dimension from the end (Z axis)\n",
    "\n",
    "for z in tqdm(range(Z), desc=\"Saving screenshots\"):\n",
    "    viewer.dims.set_point(0, z)  # step through Z\n",
    "    fname = out_dir / f\"z_{z:04d}.png\"\n",
    "    if fname.exists() and not overwrite:\n",
    "        continue\n",
    "    screenshot = viewer.screenshot(canvas_only=True)\n",
    "    # screenshot is a numpy array (Y,X,RGBA) uint8\n",
    "    from imageio.v3 import imwrite\n",
    "    imwrite(fname, screenshot)\n",
    "\n",
    "print(f\"Saved {Z} screenshots to {out_dir}\")"
   ]
  },
  {
   "cell_type": "code",
   "execution_count": 28,
   "id": "7dc33452-46cb-431a-a839-cb5ed3e401d2",
   "metadata": {},
   "outputs": [
    {
     "data": {
      "text/plain": [
       "range(30, 60)"
      ]
     },
     "execution_count": 28,
     "metadata": {},
     "output_type": "execute_result"
    },
    {
     "name": "stdout",
     "output_type": "stream",
     "text": [
      "ERROR! Session/line number was not unique in database. History logging moved to new session 42\n"
     ]
    }
   ],
   "source": [
    "viewer.sc"
   ]
  },
  {
   "cell_type": "code",
   "execution_count": 29,
   "id": "84ff946c-bbad-4111-9758-1d30169b61a0",
   "metadata": {},
   "outputs": [
    {
     "name": "stderr",
     "output_type": "stream",
     "text": [
      "Export full-res: 100%|█████████████████████████████████████████████████████████████████| 30/30 [06:17<00:00, 12.57s/it]\n"
     ]
    }
   ],
   "source": [
    "from pathlib import Path\n",
    "import numpy as np\n",
    "from tqdm.auto import tqdm\n",
    "import imageio.v3 as iio\n",
    "\n",
    "# ---------------- CONFIG ----------------\n",
    "# vol: numpy array shaped (C, Z, Y, X) or (Z, Y, X) already in memory\n",
    "# Example assumes (C, Z, Y, X)\n",
    "assert vol.ndim in (3, 4), f\"Unexpected shape {vol.shape}\"\n",
    "\n",
    "out_dir = Path(r\"C:\\Users\\Nathan\\Desktop\\data\\LLS7_acq_as_planes\\3rdtimesacharm\")\n",
    "out_dir.mkdir(parents=True, exist_ok=True)\n",
    "\n",
    "# Contrast definition per channel:\n",
    "# - If you know Napari's contrast_limits for each channel, put them here (list of (low, high)).\n",
    "# - Otherwise, set to None and we'll compute robust percentiles.\n",
    "napari_clims = [(901.3891891891893, 1134.7585585585584), (0.0, 757.9670818505338)]                  # e.g. [(120, 2500), (80, 1800)]\n",
    "robust_percentiles = (1.0, 99.8)      # used if napari_clims is None\n",
    "percentile_stride = 4                 # speedup for percentile calc (stride in YX)\n",
    "\n",
    "gamma_per_channel = [1,1]              # e.g. [1.0, 0.8] (optional)\n",
    "# Color per channel for composite export (RGB in 0–1). Common LSFM: green & magenta.\n",
    "rgb_per_channel = [(0.0, 1.0, 0.0), (1.0, 0.0, 1.0)]  # adjust to your dyes\n",
    "# Export modes:\n",
    "export_composite_rgb = True           # 1 PNG per z, channels blended into RGB\n",
    "export_per_channel_gray = False       # also save per-channel 8-bit contrasted planes\n",
    "bitdepth_gray = 16                    # if per-channel, choose 8 or 16\n",
    "overwrite = False\n",
    "# ----------------------------------------\n",
    "\n",
    "# ---- normalize helpers ----\n",
    "def get_clims(ch_u16, idx):\n",
    "    if napari_clims is not None:\n",
    "        lo, hi = napari_clims[idx]\n",
    "        return float(lo), float(hi)\n",
    "    # robust percentiles on a strided sample (low-mem)\n",
    "    s = percentile_stride\n",
    "    sample = ch_u16[::max(1, ch_u16.shape[0] // ch_u16.shape[0]), ::s, ::s]\n",
    "    p_low, p_high = np.percentile(sample, robust_percentiles)\n",
    "    if p_high <= p_low:               # safety\n",
    "        p_high = p_low + 1.0\n",
    "    return float(p_low), float(p_high)\n",
    "\n",
    "def normalize_slice(sl_u16, lo, hi, gamma=1.0):\n",
    "    x = (sl_u16.astype(np.float32) - lo) / max(hi - lo, 1e-6)\n",
    "    x = np.clip(x, 0.0, 1.0)\n",
    "    if gamma != 1.0:\n",
    "        x = x ** (1.0 / gamma)        # display-style gamma\n",
    "    return x\n",
    "\n",
    "# ---- arrange input ----\n",
    "if vol.ndim == 3:\n",
    "    vol = vol[None, ...]              # treat as single-channel (1, Z, Y, X)\n",
    "\n",
    "C, Z, Y, X = vol.shape\n",
    "if gamma_per_channel is None:\n",
    "    gamma_per_channel = [1.0] * C\n",
    "if len(rgb_per_channel) < C:\n",
    "    # repeat last color if fewer specified\n",
    "    rgb_per_channel += [rgb_per_channel[-1]] * (C - len(rgb_per_channel))\n",
    "\n",
    "# ---- precompute clims per channel ----\n",
    "clims = [get_clims(vol[c], c) for c in range(C)]\n",
    "\n",
    "# ---- export ----\n",
    "if export_per_channel_gray:\n",
    "    if bitdepth_gray == 16:\n",
    "        gray_dtype, gray_max = np.uint16, np.iinfo(np.uint16).max\n",
    "    elif bitdepth_gray == 8:\n",
    "        gray_dtype, gray_max = np.uint8, np.iinfo(np.uint8).max\n",
    "    else:\n",
    "        raise ValueError(\"bitdepth_gray must be 8 or 16\")\n",
    "\n",
    "for z in tqdm(range(30,60), desc=\"Export full-res\"):\n",
    "    # composite buffer (float32 0–1)\n",
    "    if export_composite_rgb:\n",
    "        comp = np.zeros((Y, X, 3), dtype=np.float32)\n",
    "\n",
    "    for c in range(C):\n",
    "        sl = vol[c, z]                       # uint16 slice (Y, X)\n",
    "        lo, hi = clims[c]\n",
    "        g = gamma_per_channel[c]\n",
    "        nrm = normalize_slice(sl, lo, hi, gamma=g)  # float32 0–1\n",
    "\n",
    "        if export_per_channel_gray:\n",
    "            plane = (nrm * gray_max + 0.5).astype(gray_dtype, copy=False)\n",
    "            (out_dir / f\"ch{c:02d}\").mkdir(exist_ok=True)\n",
    "            iio.imwrite(out_dir / f\"ch{c:02d}\" / f\"z_{z:04d}.png\", plane, extension=\".png\")\n",
    "\n",
    "        if export_composite_rgb:\n",
    "            r, g_, b = rgb_per_channel[c]\n",
    "            # additive blend (clipped); suitable for fluorescence overlays\n",
    "            comp[..., 0] += nrm * r\n",
    "            comp[..., 1] += nrm * g_\n",
    "            comp[..., 2] += nrm * b\n",
    "\n",
    "    if export_composite_rgb:\n",
    "        comp = np.clip(comp, 0.0, 1.0)\n",
    "        comp8 = (comp * 255.0 + 0.5).astype(np.uint8)\n",
    "        iio.imwrite(out_dir / f\"rgb_{z:04d}.png\", comp8, extension=\".png\")"
   ]
  }
 ],
 "metadata": {
  "kernelspec": {
   "display_name": "Python (napari)",
   "language": "python",
   "name": "napari"
  },
  "language_info": {
   "codemirror_mode": {
    "name": "ipython",
    "version": 3
   },
   "file_extension": ".py",
   "mimetype": "text/x-python",
   "name": "python",
   "nbconvert_exporter": "python",
   "pygments_lexer": "ipython3",
   "version": "3.11.13"
  }
 },
 "nbformat": 4,
 "nbformat_minor": 5
}
