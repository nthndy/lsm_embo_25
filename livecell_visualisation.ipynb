{
 "cells": [
  {
   "cell_type": "code",
   "execution_count": 1,
   "id": "416e5463-6804-4203-be8b-22a7fd193995",
   "metadata": {
    "tags": []
   },
   "outputs": [],
   "source": [
    "import napari\n",
    "from pathlib import Path\n",
    "from skimage import io\n",
    "import os, glob\n",
    "import czifile\n",
    "import numpy as np"
   ]
  },
  {
   "cell_type": "code",
   "execution_count": 12,
   "id": "d5bc088b-3c61-46e2-aaa3-c0c83db70326",
   "metadata": {},
   "outputs": [
    {
     "data": {
      "text/plain": [
       "['20250814_gfapgfp_tp1mch_2dpf_40x_zls7_2025_08_14__20_40_18_733(1)_3d_T2_Z5.npy',\n",
       " '20250814_gfapgfp_tp1mch_2dpf_40x_zls7_2025_08_14__20_40_18_733(101)_3d_T2_Z5.npy',\n",
       " '20250814_gfapgfp_tp1mch_2dpf_40x_zls7_2025_08_14__20_40_18_733(11)_3d_T2_Z5.npy',\n",
       " '20250814_gfapgfp_tp1mch_2dpf_40x_zls7_2025_08_14__20_40_18_733(13)_3d_T2_Z5.npy',\n",
       " '20250814_gfapgfp_tp1mch_2dpf_40x_zls7_2025_08_14__20_40_18_733(15)_3d_T2_Z5.npy',\n",
       " '20250814_gfapgfp_tp1mch_2dpf_40x_zls7_2025_08_14__20_40_18_733(152).npy',\n",
       " '20250814_gfapgfp_tp1mch_2dpf_40x_zls7_2025_08_14__20_40_18_733(152)_3d_masks.npy',\n",
       " '20250814_gfapgfp_tp1mch_2dpf_40x_zls7_2025_08_14__20_40_18_733(17)_3d_T2_Z5.npy',\n",
       " '20250814_gfapgfp_tp1mch_2dpf_40x_zls7_2025_08_14__20_40_18_733(19)_3d_T2_Z5.npy',\n",
       " '20250814_gfapgfp_tp1mch_2dpf_40x_zls7_2025_08_14__20_40_18_733(21)_3d_T2_Z5.npy',\n",
       " '20250814_gfapgfp_tp1mch_2dpf_40x_zls7_2025_08_14__20_40_18_733(23)_3d_T2_Z5.npy',\n",
       " '20250814_gfapgfp_tp1mch_2dpf_40x_zls7_2025_08_14__20_40_18_733(25)_3d_T2_Z5.npy',\n",
       " '20250814_gfapgfp_tp1mch_2dpf_40x_zls7_2025_08_14__20_40_18_733(27)_3d_T2_Z5.npy',\n",
       " '20250814_gfapgfp_tp1mch_2dpf_40x_zls7_2025_08_14__20_40_18_733(29)_3d_T2_Z5.npy',\n",
       " '20250814_gfapgfp_tp1mch_2dpf_40x_zls7_2025_08_14__20_40_18_733(3)_3d_T2_Z5.npy',\n",
       " '20250814_gfapgfp_tp1mch_2dpf_40x_zls7_2025_08_14__20_40_18_733(31)_3d_T2_Z5.npy',\n",
       " '20250814_gfapgfp_tp1mch_2dpf_40x_zls7_2025_08_14__20_40_18_733(33)_3d_T2_Z5.npy',\n",
       " '20250814_gfapgfp_tp1mch_2dpf_40x_zls7_2025_08_14__20_40_18_733(35)_3d_T2_Z5.npy',\n",
       " '20250814_gfapgfp_tp1mch_2dpf_40x_zls7_2025_08_14__20_40_18_733(37)_3d_T2_Z5.npy',\n",
       " '20250814_gfapgfp_tp1mch_2dpf_40x_zls7_2025_08_14__20_40_18_733(39)_3d_T2_Z5.npy',\n",
       " '20250814_gfapgfp_tp1mch_2dpf_40x_zls7_2025_08_14__20_40_18_733(41)_3d_T2_Z5.npy',\n",
       " '20250814_gfapgfp_tp1mch_2dpf_40x_zls7_2025_08_14__20_40_18_733(43)_3d_T2_Z5.npy',\n",
       " '20250814_gfapgfp_tp1mch_2dpf_40x_zls7_2025_08_14__20_40_18_733(45)_3d_T2_Z5.npy',\n",
       " '20250814_gfapgfp_tp1mch_2dpf_40x_zls7_2025_08_14__20_40_18_733(47)_3d_T2_Z5.npy',\n",
       " '20250814_gfapgfp_tp1mch_2dpf_40x_zls7_2025_08_14__20_40_18_733(49)_3d_T2_Z5.npy',\n",
       " '20250814_gfapgfp_tp1mch_2dpf_40x_zls7_2025_08_14__20_40_18_733(5)_3d_T2_Z5.npy',\n",
       " '20250814_gfapgfp_tp1mch_2dpf_40x_zls7_2025_08_14__20_40_18_733(51)_3d_T2_Z5.npy',\n",
       " '20250814_gfapgfp_tp1mch_2dpf_40x_zls7_2025_08_14__20_40_18_733(53)_3d_T2_Z5.npy',\n",
       " '20250814_gfapgfp_tp1mch_2dpf_40x_zls7_2025_08_14__20_40_18_733(55)_3d_T2_Z5.npy',\n",
       " '20250814_gfapgfp_tp1mch_2dpf_40x_zls7_2025_08_14__20_40_18_733(57)_3d_T2_Z5.npy',\n",
       " '20250814_gfapgfp_tp1mch_2dpf_40x_zls7_2025_08_14__20_40_18_733(59)_3d_T2_Z5.npy',\n",
       " '20250814_gfapgfp_tp1mch_2dpf_40x_zls7_2025_08_14__20_40_18_733(61)_3d_T2_Z5.npy',\n",
       " '20250814_gfapgfp_tp1mch_2dpf_40x_zls7_2025_08_14__20_40_18_733(63)_3d_T2_Z5.npy',\n",
       " '20250814_gfapgfp_tp1mch_2dpf_40x_zls7_2025_08_14__20_40_18_733(65)_3d_T2_Z5.npy',\n",
       " '20250814_gfapgfp_tp1mch_2dpf_40x_zls7_2025_08_14__20_40_18_733(67)_3d_T2_Z5.npy',\n",
       " '20250814_gfapgfp_tp1mch_2dpf_40x_zls7_2025_08_14__20_40_18_733(69)_3d_T2_Z5.npy',\n",
       " '20250814_gfapgfp_tp1mch_2dpf_40x_zls7_2025_08_14__20_40_18_733(7)_3d_T2_Z5.npy',\n",
       " '20250814_gfapgfp_tp1mch_2dpf_40x_zls7_2025_08_14__20_40_18_733(71)_3d_T2_Z5.npy',\n",
       " '20250814_gfapgfp_tp1mch_2dpf_40x_zls7_2025_08_14__20_40_18_733(73)_3d_T2_Z5.npy',\n",
       " '20250814_gfapgfp_tp1mch_2dpf_40x_zls7_2025_08_14__20_40_18_733(75)_3d_T2_Z5.npy',\n",
       " '20250814_gfapgfp_tp1mch_2dpf_40x_zls7_2025_08_14__20_40_18_733(77)_3d_T2_Z5.npy',\n",
       " '20250814_gfapgfp_tp1mch_2dpf_40x_zls7_2025_08_14__20_40_18_733(79)_3d_T2_Z5.npy',\n",
       " '20250814_gfapgfp_tp1mch_2dpf_40x_zls7_2025_08_14__20_40_18_733(81)_3d_T2_Z5.npy',\n",
       " '20250814_gfapgfp_tp1mch_2dpf_40x_zls7_2025_08_14__20_40_18_733(83)_3d_T2_Z5.npy',\n",
       " '20250814_gfapgfp_tp1mch_2dpf_40x_zls7_2025_08_14__20_40_18_733(85)_3d_T2_Z5.npy',\n",
       " '20250814_gfapgfp_tp1mch_2dpf_40x_zls7_2025_08_14__20_40_18_733(87)_3d_T2_Z5.npy',\n",
       " '20250814_gfapgfp_tp1mch_2dpf_40x_zls7_2025_08_14__20_40_18_733(89)_3d_T2_Z5.npy',\n",
       " '20250814_gfapgfp_tp1mch_2dpf_40x_zls7_2025_08_14__20_40_18_733(9)_3d_T2_Z5.npy',\n",
       " '20250814_gfapgfp_tp1mch_2dpf_40x_zls7_2025_08_14__20_40_18_733(91)_3d_T2_Z5.npy',\n",
       " '20250814_gfapgfp_tp1mch_2dpf_40x_zls7_2025_08_14__20_40_18_733(93)_3d_T2_Z5.npy',\n",
       " '20250814_gfapgfp_tp1mch_2dpf_40x_zls7_2025_08_14__20_40_18_733(95)_3d_T2_Z5.npy',\n",
       " '20250814_gfapgfp_tp1mch_2dpf_40x_zls7_2025_08_14__20_40_18_733(97)_3d_T2_Z5.npy',\n",
       " '20250814_gfapgfp_tp1mch_2dpf_40x_zls7_2025_08_14__20_40_18_733(99)_3d_T2_Z5.npy']"
      ]
     },
     "execution_count": 12,
     "metadata": {},
     "output_type": "execute_result"
    }
   ],
   "source": [
    "os.listdir(Path(files_dir, 'labels'))"
   ]
  },
  {
   "cell_type": "code",
   "execution_count": null,
   "id": "a7bd48b7-f22c-4a5b-ae9a-116d89d1a247",
   "metadata": {},
   "outputs": [],
   "source": []
  },
  {
   "cell_type": "code",
   "execution_count": 4,
   "id": "6037255c-d5a0-43e8-a80d-2b1243ae26c9",
   "metadata": {
    "tags": []
   },
   "outputs": [
    {
     "name": "stdout",
     "output_type": "stream",
     "text": [
      "20250814_gfapgfp_tp1mch_2dpf_40x_zls7_2025_08_14__20_40_18_733(1).czi: 5653.62 MB\n",
      "20250814_gfapgfp_tp1mch_2dpf_40x_zls7_2025_08_14__20_40_18_733(10).czi: 5653.62 MB\n",
      "20250814_gfapgfp_tp1mch_2dpf_40x_zls7_2025_08_14__20_40_18_733(100).czi: 5653.62 MB\n",
      "20250814_gfapgfp_tp1mch_2dpf_40x_zls7_2025_08_14__20_40_18_733(101).czi: 5653.62 MB\n",
      "20250814_gfapgfp_tp1mch_2dpf_40x_zls7_2025_08_14__20_40_18_733(102).czi: 5653.62 MB\n",
      "20250814_gfapgfp_tp1mch_2dpf_40x_zls7_2025_08_14__20_40_18_733(103).czi: 5653.62 MB\n",
      "20250814_gfapgfp_tp1mch_2dpf_40x_zls7_2025_08_14__20_40_18_733(104).czi: 5653.62 MB\n",
      "20250814_gfapgfp_tp1mch_2dpf_40x_zls7_2025_08_14__20_40_18_733(105).czi: 5653.62 MB\n",
      "20250814_gfapgfp_tp1mch_2dpf_40x_zls7_2025_08_14__20_40_18_733(106).czi: 5653.62 MB\n",
      "20250814_gfapgfp_tp1mch_2dpf_40x_zls7_2025_08_14__20_40_18_733(107).czi: 5653.62 MB\n",
      "20250814_gfapgfp_tp1mch_2dpf_40x_zls7_2025_08_14__20_40_18_733(108).czi: 5653.62 MB\n",
      "20250814_gfapgfp_tp1mch_2dpf_40x_zls7_2025_08_14__20_40_18_733(109).czi: 5653.62 MB\n",
      "20250814_gfapgfp_tp1mch_2dpf_40x_zls7_2025_08_14__20_40_18_733(11).czi: 5653.62 MB\n",
      "20250814_gfapgfp_tp1mch_2dpf_40x_zls7_2025_08_14__20_40_18_733(110).czi: 5653.62 MB\n",
      "20250814_gfapgfp_tp1mch_2dpf_40x_zls7_2025_08_14__20_40_18_733(111).czi: 5653.62 MB\n",
      "20250814_gfapgfp_tp1mch_2dpf_40x_zls7_2025_08_14__20_40_18_733(112).czi: 5653.62 MB\n",
      "20250814_gfapgfp_tp1mch_2dpf_40x_zls7_2025_08_14__20_40_18_733(113).czi: 5653.62 MB\n",
      "20250814_gfapgfp_tp1mch_2dpf_40x_zls7_2025_08_14__20_40_18_733(114).czi: 5653.62 MB\n",
      "20250814_gfapgfp_tp1mch_2dpf_40x_zls7_2025_08_14__20_40_18_733(115).czi: 5653.62 MB\n",
      "20250814_gfapgfp_tp1mch_2dpf_40x_zls7_2025_08_14__20_40_18_733(116).czi: 5653.62 MB\n",
      "20250814_gfapgfp_tp1mch_2dpf_40x_zls7_2025_08_14__20_40_18_733(117).czi: 5653.62 MB\n",
      "20250814_gfapgfp_tp1mch_2dpf_40x_zls7_2025_08_14__20_40_18_733(118).czi: 5653.62 MB\n",
      "20250814_gfapgfp_tp1mch_2dpf_40x_zls7_2025_08_14__20_40_18_733(119).czi: 5653.62 MB\n",
      "20250814_gfapgfp_tp1mch_2dpf_40x_zls7_2025_08_14__20_40_18_733(12).czi: 5653.62 MB\n",
      "20250814_gfapgfp_tp1mch_2dpf_40x_zls7_2025_08_14__20_40_18_733(120).czi: 5653.62 MB\n",
      "20250814_gfapgfp_tp1mch_2dpf_40x_zls7_2025_08_14__20_40_18_733(121).czi: 5653.62 MB\n",
      "20250814_gfapgfp_tp1mch_2dpf_40x_zls7_2025_08_14__20_40_18_733(122).czi: 5653.62 MB\n",
      "20250814_gfapgfp_tp1mch_2dpf_40x_zls7_2025_08_14__20_40_18_733(123).czi: 5653.62 MB\n",
      "20250814_gfapgfp_tp1mch_2dpf_40x_zls7_2025_08_14__20_40_18_733(124).czi: 5653.62 MB\n",
      "20250814_gfapgfp_tp1mch_2dpf_40x_zls7_2025_08_14__20_40_18_733(125).czi: 5653.62 MB\n",
      "20250814_gfapgfp_tp1mch_2dpf_40x_zls7_2025_08_14__20_40_18_733(126).czi: 5653.62 MB\n",
      "20250814_gfapgfp_tp1mch_2dpf_40x_zls7_2025_08_14__20_40_18_733(127).czi: 5653.62 MB\n",
      "20250814_gfapgfp_tp1mch_2dpf_40x_zls7_2025_08_14__20_40_18_733(128).czi: 5653.62 MB\n",
      "20250814_gfapgfp_tp1mch_2dpf_40x_zls7_2025_08_14__20_40_18_733(129).czi: 5653.62 MB\n",
      "20250814_gfapgfp_tp1mch_2dpf_40x_zls7_2025_08_14__20_40_18_733(13).czi: 5653.62 MB\n",
      "20250814_gfapgfp_tp1mch_2dpf_40x_zls7_2025_08_14__20_40_18_733(130).czi: 5653.62 MB\n",
      "20250814_gfapgfp_tp1mch_2dpf_40x_zls7_2025_08_14__20_40_18_733(131).czi: 5653.62 MB\n",
      "20250814_gfapgfp_tp1mch_2dpf_40x_zls7_2025_08_14__20_40_18_733(132).czi: 5653.62 MB\n",
      "20250814_gfapgfp_tp1mch_2dpf_40x_zls7_2025_08_14__20_40_18_733(133).czi: 5653.62 MB\n",
      "20250814_gfapgfp_tp1mch_2dpf_40x_zls7_2025_08_14__20_40_18_733(134).czi: 5653.62 MB\n",
      "20250814_gfapgfp_tp1mch_2dpf_40x_zls7_2025_08_14__20_40_18_733(135).czi: 5653.62 MB\n",
      "20250814_gfapgfp_tp1mch_2dpf_40x_zls7_2025_08_14__20_40_18_733(136).czi: 5653.62 MB\n",
      "20250814_gfapgfp_tp1mch_2dpf_40x_zls7_2025_08_14__20_40_18_733(137).czi: 5653.62 MB\n",
      "20250814_gfapgfp_tp1mch_2dpf_40x_zls7_2025_08_14__20_40_18_733(138).czi: 5653.62 MB\n",
      "20250814_gfapgfp_tp1mch_2dpf_40x_zls7_2025_08_14__20_40_18_733(139).czi: 5653.62 MB\n",
      "20250814_gfapgfp_tp1mch_2dpf_40x_zls7_2025_08_14__20_40_18_733(14).czi: 5653.62 MB\n",
      "20250814_gfapgfp_tp1mch_2dpf_40x_zls7_2025_08_14__20_40_18_733(140).czi: 5653.62 MB\n",
      "20250814_gfapgfp_tp1mch_2dpf_40x_zls7_2025_08_14__20_40_18_733(141).czi: 5653.62 MB\n",
      "20250814_gfapgfp_tp1mch_2dpf_40x_zls7_2025_08_14__20_40_18_733(142).czi: 5653.62 MB\n",
      "20250814_gfapgfp_tp1mch_2dpf_40x_zls7_2025_08_14__20_40_18_733(143).czi: 5653.62 MB\n",
      "20250814_gfapgfp_tp1mch_2dpf_40x_zls7_2025_08_14__20_40_18_733(144).czi: 5653.62 MB\n",
      "20250814_gfapgfp_tp1mch_2dpf_40x_zls7_2025_08_14__20_40_18_733(145).czi: 5653.62 MB\n",
      "20250814_gfapgfp_tp1mch_2dpf_40x_zls7_2025_08_14__20_40_18_733(146).czi: 5653.62 MB\n",
      "20250814_gfapgfp_tp1mch_2dpf_40x_zls7_2025_08_14__20_40_18_733(147).czi: 5653.62 MB\n",
      "20250814_gfapgfp_tp1mch_2dpf_40x_zls7_2025_08_14__20_40_18_733(148).czi: 5653.62 MB\n",
      "20250814_gfapgfp_tp1mch_2dpf_40x_zls7_2025_08_14__20_40_18_733(149).czi: 5653.62 MB\n",
      "20250814_gfapgfp_tp1mch_2dpf_40x_zls7_2025_08_14__20_40_18_733(15).czi: 5653.62 MB\n",
      "20250814_gfapgfp_tp1mch_2dpf_40x_zls7_2025_08_14__20_40_18_733(150).czi: 5653.62 MB\n",
      "20250814_gfapgfp_tp1mch_2dpf_40x_zls7_2025_08_14__20_40_18_733(151).czi: 5653.62 MB\n",
      "20250814_gfapgfp_tp1mch_2dpf_40x_zls7_2025_08_14__20_40_18_733(152).czi: 5653.62 MB\n",
      "20250814_gfapgfp_tp1mch_2dpf_40x_zls7_2025_08_14__20_40_18_733(16).czi: 5653.62 MB\n",
      "20250814_gfapgfp_tp1mch_2dpf_40x_zls7_2025_08_14__20_40_18_733(17).czi: 5653.62 MB\n",
      "20250814_gfapgfp_tp1mch_2dpf_40x_zls7_2025_08_14__20_40_18_733(18).czi: 5653.62 MB\n",
      "20250814_gfapgfp_tp1mch_2dpf_40x_zls7_2025_08_14__20_40_18_733(19).czi: 5653.62 MB\n",
      "20250814_gfapgfp_tp1mch_2dpf_40x_zls7_2025_08_14__20_40_18_733(2).czi: 5653.62 MB\n",
      "20250814_gfapgfp_tp1mch_2dpf_40x_zls7_2025_08_14__20_40_18_733(20).czi: 5653.62 MB\n",
      "20250814_gfapgfp_tp1mch_2dpf_40x_zls7_2025_08_14__20_40_18_733(21).czi: 5653.62 MB\n",
      "20250814_gfapgfp_tp1mch_2dpf_40x_zls7_2025_08_14__20_40_18_733(22).czi: 5653.62 MB\n",
      "20250814_gfapgfp_tp1mch_2dpf_40x_zls7_2025_08_14__20_40_18_733(23).czi: 5653.62 MB\n",
      "20250814_gfapgfp_tp1mch_2dpf_40x_zls7_2025_08_14__20_40_18_733(24).czi: 5653.62 MB\n",
      "20250814_gfapgfp_tp1mch_2dpf_40x_zls7_2025_08_14__20_40_18_733(25).czi: 5653.62 MB\n",
      "20250814_gfapgfp_tp1mch_2dpf_40x_zls7_2025_08_14__20_40_18_733(26).czi: 5653.62 MB\n",
      "20250814_gfapgfp_tp1mch_2dpf_40x_zls7_2025_08_14__20_40_18_733(27).czi: 5653.62 MB\n",
      "20250814_gfapgfp_tp1mch_2dpf_40x_zls7_2025_08_14__20_40_18_733(28).czi: 5653.62 MB\n",
      "20250814_gfapgfp_tp1mch_2dpf_40x_zls7_2025_08_14__20_40_18_733(29).czi: 5653.62 MB\n",
      "20250814_gfapgfp_tp1mch_2dpf_40x_zls7_2025_08_14__20_40_18_733(3).czi: 5653.62 MB\n",
      "20250814_gfapgfp_tp1mch_2dpf_40x_zls7_2025_08_14__20_40_18_733(30).czi: 5653.62 MB\n",
      "20250814_gfapgfp_tp1mch_2dpf_40x_zls7_2025_08_14__20_40_18_733(31).czi: 5653.62 MB\n",
      "20250814_gfapgfp_tp1mch_2dpf_40x_zls7_2025_08_14__20_40_18_733(32).czi: 5653.62 MB\n",
      "20250814_gfapgfp_tp1mch_2dpf_40x_zls7_2025_08_14__20_40_18_733(33).czi: 5653.62 MB\n",
      "20250814_gfapgfp_tp1mch_2dpf_40x_zls7_2025_08_14__20_40_18_733(34).czi: 5653.62 MB\n",
      "20250814_gfapgfp_tp1mch_2dpf_40x_zls7_2025_08_14__20_40_18_733(35).czi: 5653.62 MB\n",
      "20250814_gfapgfp_tp1mch_2dpf_40x_zls7_2025_08_14__20_40_18_733(36).czi: 5653.62 MB\n",
      "20250814_gfapgfp_tp1mch_2dpf_40x_zls7_2025_08_14__20_40_18_733(37).czi: 5653.62 MB\n",
      "20250814_gfapgfp_tp1mch_2dpf_40x_zls7_2025_08_14__20_40_18_733(38).czi: 5653.62 MB\n",
      "20250814_gfapgfp_tp1mch_2dpf_40x_zls7_2025_08_14__20_40_18_733(39).czi: 5653.62 MB\n",
      "20250814_gfapgfp_tp1mch_2dpf_40x_zls7_2025_08_14__20_40_18_733(4).czi: 5653.62 MB\n",
      "20250814_gfapgfp_tp1mch_2dpf_40x_zls7_2025_08_14__20_40_18_733(40).czi: 5653.62 MB\n",
      "20250814_gfapgfp_tp1mch_2dpf_40x_zls7_2025_08_14__20_40_18_733(41).czi: 5653.62 MB\n",
      "20250814_gfapgfp_tp1mch_2dpf_40x_zls7_2025_08_14__20_40_18_733(42).czi: 5653.62 MB\n",
      "20250814_gfapgfp_tp1mch_2dpf_40x_zls7_2025_08_14__20_40_18_733(43).czi: 5653.62 MB\n",
      "20250814_gfapgfp_tp1mch_2dpf_40x_zls7_2025_08_14__20_40_18_733(44).czi: 5653.62 MB\n",
      "20250814_gfapgfp_tp1mch_2dpf_40x_zls7_2025_08_14__20_40_18_733(45).czi: 5653.62 MB\n",
      "20250814_gfapgfp_tp1mch_2dpf_40x_zls7_2025_08_14__20_40_18_733(46).czi: 5653.62 MB\n",
      "20250814_gfapgfp_tp1mch_2dpf_40x_zls7_2025_08_14__20_40_18_733(47).czi: 5653.62 MB\n",
      "20250814_gfapgfp_tp1mch_2dpf_40x_zls7_2025_08_14__20_40_18_733(48).czi: 5653.62 MB\n",
      "20250814_gfapgfp_tp1mch_2dpf_40x_zls7_2025_08_14__20_40_18_733(49).czi: 5653.62 MB\n",
      "20250814_gfapgfp_tp1mch_2dpf_40x_zls7_2025_08_14__20_40_18_733(5).czi: 5653.62 MB\n",
      "20250814_gfapgfp_tp1mch_2dpf_40x_zls7_2025_08_14__20_40_18_733(50).czi: 5653.62 MB\n",
      "20250814_gfapgfp_tp1mch_2dpf_40x_zls7_2025_08_14__20_40_18_733(51).czi: 5653.62 MB\n",
      "20250814_gfapgfp_tp1mch_2dpf_40x_zls7_2025_08_14__20_40_18_733(52).czi: 5653.62 MB\n",
      "20250814_gfapgfp_tp1mch_2dpf_40x_zls7_2025_08_14__20_40_18_733(53).czi: 5653.62 MB\n",
      "20250814_gfapgfp_tp1mch_2dpf_40x_zls7_2025_08_14__20_40_18_733(54).czi: 5653.62 MB\n",
      "20250814_gfapgfp_tp1mch_2dpf_40x_zls7_2025_08_14__20_40_18_733(55).czi: 5653.62 MB\n",
      "20250814_gfapgfp_tp1mch_2dpf_40x_zls7_2025_08_14__20_40_18_733(56).czi: 5653.62 MB\n",
      "20250814_gfapgfp_tp1mch_2dpf_40x_zls7_2025_08_14__20_40_18_733(57).czi: 5653.62 MB\n",
      "20250814_gfapgfp_tp1mch_2dpf_40x_zls7_2025_08_14__20_40_18_733(58).czi: 5653.62 MB\n",
      "20250814_gfapgfp_tp1mch_2dpf_40x_zls7_2025_08_14__20_40_18_733(59).czi: 5653.62 MB\n",
      "20250814_gfapgfp_tp1mch_2dpf_40x_zls7_2025_08_14__20_40_18_733(6).czi: 5653.62 MB\n",
      "20250814_gfapgfp_tp1mch_2dpf_40x_zls7_2025_08_14__20_40_18_733(60).czi: 5653.62 MB\n",
      "20250814_gfapgfp_tp1mch_2dpf_40x_zls7_2025_08_14__20_40_18_733(61).czi: 5653.62 MB\n",
      "20250814_gfapgfp_tp1mch_2dpf_40x_zls7_2025_08_14__20_40_18_733(62).czi: 5653.62 MB\n",
      "20250814_gfapgfp_tp1mch_2dpf_40x_zls7_2025_08_14__20_40_18_733(63).czi: 5653.62 MB\n",
      "20250814_gfapgfp_tp1mch_2dpf_40x_zls7_2025_08_14__20_40_18_733(64).czi: 5653.62 MB\n",
      "20250814_gfapgfp_tp1mch_2dpf_40x_zls7_2025_08_14__20_40_18_733(65).czi: 5653.62 MB\n",
      "20250814_gfapgfp_tp1mch_2dpf_40x_zls7_2025_08_14__20_40_18_733(66).czi: 5653.62 MB\n",
      "20250814_gfapgfp_tp1mch_2dpf_40x_zls7_2025_08_14__20_40_18_733(67).czi: 5653.62 MB\n",
      "20250814_gfapgfp_tp1mch_2dpf_40x_zls7_2025_08_14__20_40_18_733(68).czi: 5653.62 MB\n",
      "20250814_gfapgfp_tp1mch_2dpf_40x_zls7_2025_08_14__20_40_18_733(69).czi: 5653.62 MB\n",
      "20250814_gfapgfp_tp1mch_2dpf_40x_zls7_2025_08_14__20_40_18_733(7).czi: 5653.62 MB\n",
      "20250814_gfapgfp_tp1mch_2dpf_40x_zls7_2025_08_14__20_40_18_733(70).czi: 5653.62 MB\n",
      "20250814_gfapgfp_tp1mch_2dpf_40x_zls7_2025_08_14__20_40_18_733(71).czi: 5653.62 MB\n",
      "20250814_gfapgfp_tp1mch_2dpf_40x_zls7_2025_08_14__20_40_18_733(72).czi: 5653.62 MB\n",
      "20250814_gfapgfp_tp1mch_2dpf_40x_zls7_2025_08_14__20_40_18_733(73).czi: 5653.62 MB\n",
      "20250814_gfapgfp_tp1mch_2dpf_40x_zls7_2025_08_14__20_40_18_733(74).czi: 5653.62 MB\n",
      "20250814_gfapgfp_tp1mch_2dpf_40x_zls7_2025_08_14__20_40_18_733(75).czi: 5653.62 MB\n",
      "20250814_gfapgfp_tp1mch_2dpf_40x_zls7_2025_08_14__20_40_18_733(76).czi: 5653.62 MB\n",
      "20250814_gfapgfp_tp1mch_2dpf_40x_zls7_2025_08_14__20_40_18_733(77).czi: 5653.62 MB\n",
      "20250814_gfapgfp_tp1mch_2dpf_40x_zls7_2025_08_14__20_40_18_733(78).czi: 5653.62 MB\n",
      "20250814_gfapgfp_tp1mch_2dpf_40x_zls7_2025_08_14__20_40_18_733(79).czi: 5653.62 MB\n",
      "20250814_gfapgfp_tp1mch_2dpf_40x_zls7_2025_08_14__20_40_18_733(8).czi: 5653.62 MB\n",
      "20250814_gfapgfp_tp1mch_2dpf_40x_zls7_2025_08_14__20_40_18_733(80).czi: 5653.62 MB\n",
      "20250814_gfapgfp_tp1mch_2dpf_40x_zls7_2025_08_14__20_40_18_733(81).czi: 5653.62 MB\n",
      "20250814_gfapgfp_tp1mch_2dpf_40x_zls7_2025_08_14__20_40_18_733(82).czi: 5653.62 MB\n",
      "20250814_gfapgfp_tp1mch_2dpf_40x_zls7_2025_08_14__20_40_18_733(83).czi: 5653.62 MB\n",
      "20250814_gfapgfp_tp1mch_2dpf_40x_zls7_2025_08_14__20_40_18_733(84).czi: 5653.62 MB\n",
      "20250814_gfapgfp_tp1mch_2dpf_40x_zls7_2025_08_14__20_40_18_733(85).czi: 5653.62 MB\n",
      "20250814_gfapgfp_tp1mch_2dpf_40x_zls7_2025_08_14__20_40_18_733(86).czi: 5653.62 MB\n",
      "20250814_gfapgfp_tp1mch_2dpf_40x_zls7_2025_08_14__20_40_18_733(87).czi: 5653.62 MB\n",
      "20250814_gfapgfp_tp1mch_2dpf_40x_zls7_2025_08_14__20_40_18_733(88).czi: 5653.62 MB\n",
      "20250814_gfapgfp_tp1mch_2dpf_40x_zls7_2025_08_14__20_40_18_733(89).czi: 5653.62 MB\n",
      "20250814_gfapgfp_tp1mch_2dpf_40x_zls7_2025_08_14__20_40_18_733(9).czi: 5653.62 MB\n",
      "20250814_gfapgfp_tp1mch_2dpf_40x_zls7_2025_08_14__20_40_18_733(90).czi: 5653.62 MB\n",
      "20250814_gfapgfp_tp1mch_2dpf_40x_zls7_2025_08_14__20_40_18_733(91).czi: 5653.62 MB\n",
      "20250814_gfapgfp_tp1mch_2dpf_40x_zls7_2025_08_14__20_40_18_733(92).czi: 5653.62 MB\n",
      "20250814_gfapgfp_tp1mch_2dpf_40x_zls7_2025_08_14__20_40_18_733(93).czi: 5653.62 MB\n",
      "20250814_gfapgfp_tp1mch_2dpf_40x_zls7_2025_08_14__20_40_18_733(94).czi: 5653.62 MB\n",
      "20250814_gfapgfp_tp1mch_2dpf_40x_zls7_2025_08_14__20_40_18_733(95).czi: 5653.62 MB\n",
      "20250814_gfapgfp_tp1mch_2dpf_40x_zls7_2025_08_14__20_40_18_733(96).czi: 5653.62 MB\n",
      "20250814_gfapgfp_tp1mch_2dpf_40x_zls7_2025_08_14__20_40_18_733(97).czi: 5653.62 MB\n",
      "20250814_gfapgfp_tp1mch_2dpf_40x_zls7_2025_08_14__20_40_18_733(98).czi: 5653.62 MB\n",
      "20250814_gfapgfp_tp1mch_2dpf_40x_zls7_2025_08_14__20_40_18_733(99).czi: 5653.62 MB\n",
      "20250814_gfapgfp_tp1mch_2dpf_40x_zls7_2025_08_14__20_40_18_733.czi: 5653.68 MB\n",
      "\n",
      "Number of files: 153\n",
      "Total stacked size: 844.73 GB\n"
     ]
    }
   ],
   "source": [
    "\n",
    "# Path to your files\n",
    "files_dir = Path(r'Z:\\The_Holy_de_Broglies\\Becca\\zeisslightsheet7\\20250814')\n",
    "\n",
    "# Use string when passing to glob\n",
    "files = glob.glob(str(files_dir / '*.czi'))\n",
    "\n",
    "# Get file sizes in bytes\n",
    "file_sizes = [os.path.getsize(f) for f in files]\n",
    "\n",
    "# Convert sizes\n",
    "file_sizes_mb = [s / (1024**2) for s in file_sizes]\n",
    "total_size_gb = sum(file_sizes) / (1024**3)\n",
    "\n",
    "# Print summary\n",
    "for f, s in zip(files, file_sizes_mb):\n",
    "    print(f\"{Path(f).name}: {s:.2f} MB\")\n",
    "\n",
    "print(f\"\\nNumber of files: {len(files)}\")\n",
    "print(f\"Total stacked size: {total_size_gb:.2f} GB\")"
   ]
  },
  {
   "cell_type": "code",
   "execution_count": 6,
   "id": "7c49f1a6-28cc-4fab-be6a-8ef2a1457432",
   "metadata": {
    "tags": []
   },
   "outputs": [],
   "source": [
    "test_fn = Path(files_dir, '20250814_gfapgfp_tp1mch_2dpf_40x_zls7_2025_08_14__20_40_18_733(152).czi')"
   ]
  },
  {
   "cell_type": "code",
   "execution_count": 7,
   "id": "b275c945-a570-4aaa-88c9-ba97136cfdfc",
   "metadata": {
    "tags": []
   },
   "outputs": [
    {
     "name": "stdout",
     "output_type": "stream",
     "text": [
      "CPU times: total: 5.91 s\n",
      "Wall time: 30.6 s\n"
     ]
    }
   ],
   "source": [
    "%%time\n",
    "\n",
    "image = np.squeeze(czifile.imread(test_fn))"
   ]
  },
  {
   "cell_type": "code",
   "execution_count": 8,
   "id": "47eb2e9c-e757-4b83-8f67-200126c42a3d",
   "metadata": {
    "tags": []
   },
   "outputs": [
    {
     "data": {
      "text/plain": [
       "(2, 402, 1920, 1920)"
      ]
     },
     "execution_count": 8,
     "metadata": {},
     "output_type": "execute_result"
    }
   ],
   "source": [
    "image.shape"
   ]
  },
  {
   "cell_type": "markdown",
   "id": "3ff9f8d6-cdb1-442b-95e7-55a8c29fd7c6",
   "metadata": {},
   "source": [
    "### Load segmentation"
   ]
  },
  {
   "cell_type": "code",
   "execution_count": 32,
   "id": "8d2dff50-edbc-4e73-b332-7444bbe15566",
   "metadata": {
    "tags": []
   },
   "outputs": [],
   "source": [
    "masks_fn = Path(files_dir, 'labels', str(os.path.basename(test_fn)).replace('czi','npy'))\n",
    "masks = np.load(masks_fn)"
   ]
  },
  {
   "cell_type": "markdown",
   "id": "101dbcd3-6138-4e37-9c79-b693b016f459",
   "metadata": {},
   "source": [
    "#### Load 3d masks"
   ]
  },
  {
   "cell_type": "code",
   "execution_count": 27,
   "id": "8ff91e2c-5ff6-4597-97c6-9e87c5a5a6f0",
   "metadata": {
    "tags": []
   },
   "outputs": [
    {
     "name": "stdout",
     "output_type": "stream",
     "text": [
      "Y:\\The_Holy_de_Broglies\\Becca\\zeisslightsheet7\\20250814\\labels\\20250814_gfapgfp_tp1mch_2dpf_40x_zls7_2025_08_14__20_40_18_733(152)_3d_masks.npy\n"
     ]
    }
   ],
   "source": [
    "for i in Path(files_dir).glob(\"labels\\*3d*\"):\n",
    "    print(i)"
   ]
  },
  {
   "cell_type": "code",
   "execution_count": 28,
   "id": "ae424a7b-052b-4797-b51b-83b85fe1ac39",
   "metadata": {
    "tags": []
   },
   "outputs": [],
   "source": [
    "masks_fn = r'Y:\\The_Holy_de_Broglies\\Becca\\zeisslightsheet7\\20250814\\labels\\20250814_gfapgfp_tp1mch_2dpf_40x_zls7_2025_08_14__20_40_18_733(152)_3d_masks.npy'\n",
    "masks = np.load(masks_fn)"
   ]
  },
  {
   "cell_type": "code",
   "execution_count": 11,
   "id": "cd5d2749-f43b-4d0b-aa81-55876a2918bd",
   "metadata": {
    "tags": []
   },
   "outputs": [
    {
     "data": {
      "text/plain": [
       "[<Image layer 'Image' at 0x1fb80192950>,\n",
       " <Image layer 'Image [1]' at 0x1fb9bbb0d90>]"
      ]
     },
     "execution_count": 11,
     "metadata": {},
     "output_type": "execute_result"
    }
   ],
   "source": [
    "viewer = napari.Viewer(title = 'beccas images')\n",
    "\n",
    "viewer.add_image(image, channel_axis=0)"
   ]
  },
  {
   "cell_type": "code",
   "execution_count": 33,
   "id": "019638e5-5d75-43e9-a445-f7a4be7fedb8",
   "metadata": {
    "tags": []
   },
   "outputs": [
    {
     "data": {
      "text/plain": [
       "<Labels layer 'masks [1]' at 0x1fb8da3f690>"
      ]
     },
     "execution_count": 33,
     "metadata": {},
     "output_type": "execute_result"
    },
    {
     "name": "stdout",
     "output_type": "stream",
     "text": [
      "Rendering frames...\n"
     ]
    },
    {
     "name": "stderr",
     "output_type": "stream",
     "text": [
      "  0%|                                                  | 0/136 [00:00<?, ?it/s]\n"
     ]
    }
   ],
   "source": [
    "viewer.add_labels(masks)"
   ]
  },
  {
   "cell_type": "code",
   "execution_count": 29,
   "id": "99060f09-aa44-402b-9d64-380373f863f0",
   "metadata": {
    "tags": []
   },
   "outputs": [
    {
     "data": {
      "text/plain": [
       "<Labels layer '3d masks' at 0x1fdc339f290>"
      ]
     },
     "execution_count": 29,
     "metadata": {},
     "output_type": "execute_result"
    }
   ],
   "source": [
    "viewer.add_labels(masks, name = '3d masks')"
   ]
  },
  {
   "cell_type": "code",
   "execution_count": 30,
   "id": "eeb04a75-2981-4668-aedc-c23dcfe93125",
   "metadata": {
    "tags": []
   },
   "outputs": [],
   "source": [
    "scale = (0.457, 0.12, 0.12)"
   ]
  },
  {
   "cell_type": "code",
   "execution_count": 34,
   "id": "7ece5b72-41ee-4c8a-b904-2661750008aa",
   "metadata": {
    "tags": []
   },
   "outputs": [
    {
     "name": "stdout",
     "output_type": "stream",
     "text": [
      "Rendering frames...\n"
     ]
    },
    {
     "name": "stderr",
     "output_type": "stream",
     "text": [
      "  0%|                                                  | 0/136 [00:00<?, ?it/s]\n"
     ]
    }
   ],
   "source": [
    "for layer in viewer.layers:\n",
    "    layer.scale = scale"
   ]
  },
  {
   "cell_type": "code",
   "execution_count": 15,
   "id": "a0c12753-07ed-4c1b-883f-83231e9896cd",
   "metadata": {
    "tags": []
   },
   "outputs": [],
   "source": [
    "viewer.scale_bar.visible = True\n",
    "viewer.scale_bar.unit = \"µm\"   # or whatever your physical unit is"
   ]
  },
  {
   "cell_type": "code",
   "execution_count": 19,
   "id": "de3a2f9b-6a37-43e3-a579-b9aaed3de751",
   "metadata": {
    "tags": []
   },
   "outputs": [
    {
     "name": "stdout",
     "output_type": "stream",
     "text": [
      "Rendering frames...\n"
     ]
    },
    {
     "name": "stderr",
     "output_type": "stream",
     "text": [
      "  0%|                                                  | 0/136 [00:00<?, ?it/s]IMAGEIO FFMPEG_WRITER WARNING: input image is not divisible by macro_block_size=16, resizing from (932, 810) to (944, 816) to ensure video compatibility with most codecs and players. To prevent resizing, make your input image divisible by the macro_block_size or set the macro_block_size to 1 (risking incompatibility).\n",
      "100%|████████████████████████████████████████| 136/136 [00:17<00:00,  7.77it/s]\n"
     ]
    },
    {
     "name": "stdout",
     "output_type": "stream",
     "text": [
      "Rendering frames...\n"
     ]
    },
    {
     "name": "stderr",
     "output_type": "stream",
     "text": [
      "  0%|                                                  | 0/261 [00:00<?, ?it/s]IMAGEIO FFMPEG_WRITER WARNING: input image is not divisible by macro_block_size=16, resizing from (932, 803) to (944, 816) to ensure video compatibility with most codecs and players. To prevent resizing, make your input image divisible by the macro_block_size or set the macro_block_size to 1 (risking incompatibility).\n",
      " 66%|██████████████████████████▏             | 171/261 [00:20<00:10,  8.40it/s]\n"
     ]
    }
   ],
   "source": [
    "viewer.scale_bar.font_size = 20 # or whatever your physical unit is\n",
    "viewer.scale_bar.ticks = False"
   ]
  },
  {
   "cell_type": "code",
   "execution_count": 35,
   "id": "672ff73d-9ee2-4bf4-a234-5eb58a12cf43",
   "metadata": {
    "tags": []
   },
   "outputs": [
    {
     "name": "stdout",
     "output_type": "stream",
     "text": [
      "\n"
     ]
    }
   ],
   "source": [
    "print()"
   ]
  }
 ],
 "metadata": {
  "kernelspec": {
   "display_name": "Python 3 (ipykernel)",
   "language": "python",
   "name": "python3"
  },
  "language_info": {
   "codemirror_mode": {
    "name": "ipython",
    "version": 3
   },
   "file_extension": ".py",
   "mimetype": "text/x-python",
   "name": "python",
   "nbconvert_exporter": "python",
   "pygments_lexer": "ipython3",
   "version": "3.11.13"
  }
 },
 "nbformat": 4,
 "nbformat_minor": 5
}
