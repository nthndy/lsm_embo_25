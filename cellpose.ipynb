{
 "cells": [
  {
   "cell_type": "code",
   "execution_count": 12,
   "id": "0040fc94-7e5a-4bad-9ce5-bd221184986b",
   "metadata": {
    "tags": []
   },
   "outputs": [
    {
     "ename": "ImportError",
     "evalue": "No GPU access, change your runtime",
     "output_type": "error",
     "traceback": [
      "\u001b[1;31m---------------------------------------------------------------------------\u001b[0m",
      "\u001b[1;31mImportError\u001b[0m                               Traceback (most recent call last)",
      "Cell \u001b[1;32mIn[12], line 5\u001b[0m\n\u001b[0;32m      3\u001b[0m \u001b[38;5;66;03m#Check if colab notebook instance has GPU access\u001b[39;00m\n\u001b[0;32m      4\u001b[0m \u001b[38;5;28;01mif\u001b[39;00m core\u001b[38;5;241m.\u001b[39muse_gpu()\u001b[38;5;241m==\u001b[39m\u001b[38;5;28;01mFalse\u001b[39;00m:\n\u001b[1;32m----> 5\u001b[0m   \u001b[38;5;28;01mraise\u001b[39;00m \u001b[38;5;167;01mImportError\u001b[39;00m(\u001b[38;5;124m\"\u001b[39m\u001b[38;5;124mNo GPU access, change your runtime\u001b[39m\u001b[38;5;124m\"\u001b[39m)\n",
      "\u001b[1;31mImportError\u001b[0m: No GPU access, change your runtime"
     ]
    }
   ],
   "source": [
    "from cellpose import models, core, io, plot\n",
    "\n",
    "#Check if colab notebook instance has GPU access\n",
    "if core.use_gpu()==False:\n",
    "  raise ImportError(\"No GPU access, change your runtime\")"
   ]
  },
  {
   "cell_type": "code",
   "execution_count": 13,
   "id": "d12976f2-d2a3-489c-bc43-bd1649a7e552",
   "metadata": {
    "tags": []
   },
   "outputs": [],
   "source": [
    "# import napari\n",
    "from pathlib import Path\n",
    "# from skimage import io\n",
    "import os, glob\n",
    "import czifile\n",
    "import numpy as np\n",
    "from tqdm.auto import tqdm\n",
    "# from natsorted import natsort"
   ]
  },
  {
   "cell_type": "code",
   "execution_count": 4,
   "id": "ce6baa1c-c7a7-4424-baa9-1e659ab8d26e",
   "metadata": {
    "tags": []
   },
   "outputs": [
    {
     "name": "stdout",
     "output_type": "stream",
     "text": [
      "20250814_gfapgfp_tp1mch_2dpf_40x_zls7_2025_08_14__20_40_18_733(1).czi: 5653.62 MB\n",
      "20250814_gfapgfp_tp1mch_2dpf_40x_zls7_2025_08_14__20_40_18_733(10).czi: 5653.62 MB\n",
      "20250814_gfapgfp_tp1mch_2dpf_40x_zls7_2025_08_14__20_40_18_733(100).czi: 5653.62 MB\n",
      "20250814_gfapgfp_tp1mch_2dpf_40x_zls7_2025_08_14__20_40_18_733(101).czi: 5653.62 MB\n",
      "20250814_gfapgfp_tp1mch_2dpf_40x_zls7_2025_08_14__20_40_18_733(102).czi: 5653.62 MB\n",
      "20250814_gfapgfp_tp1mch_2dpf_40x_zls7_2025_08_14__20_40_18_733(103).czi: 5653.62 MB\n",
      "20250814_gfapgfp_tp1mch_2dpf_40x_zls7_2025_08_14__20_40_18_733(104).czi: 5653.62 MB\n",
      "20250814_gfapgfp_tp1mch_2dpf_40x_zls7_2025_08_14__20_40_18_733(105).czi: 5653.62 MB\n",
      "20250814_gfapgfp_tp1mch_2dpf_40x_zls7_2025_08_14__20_40_18_733(106).czi: 5653.62 MB\n",
      "20250814_gfapgfp_tp1mch_2dpf_40x_zls7_2025_08_14__20_40_18_733(107).czi: 5653.62 MB\n",
      "20250814_gfapgfp_tp1mch_2dpf_40x_zls7_2025_08_14__20_40_18_733(108).czi: 5653.62 MB\n",
      "20250814_gfapgfp_tp1mch_2dpf_40x_zls7_2025_08_14__20_40_18_733(109).czi: 5653.62 MB\n",
      "20250814_gfapgfp_tp1mch_2dpf_40x_zls7_2025_08_14__20_40_18_733(11).czi: 5653.62 MB\n",
      "20250814_gfapgfp_tp1mch_2dpf_40x_zls7_2025_08_14__20_40_18_733(110).czi: 5653.62 MB\n",
      "20250814_gfapgfp_tp1mch_2dpf_40x_zls7_2025_08_14__20_40_18_733(111).czi: 5653.62 MB\n",
      "20250814_gfapgfp_tp1mch_2dpf_40x_zls7_2025_08_14__20_40_18_733(112).czi: 5653.62 MB\n",
      "20250814_gfapgfp_tp1mch_2dpf_40x_zls7_2025_08_14__20_40_18_733(113).czi: 5653.62 MB\n",
      "20250814_gfapgfp_tp1mch_2dpf_40x_zls7_2025_08_14__20_40_18_733(114).czi: 5653.62 MB\n",
      "20250814_gfapgfp_tp1mch_2dpf_40x_zls7_2025_08_14__20_40_18_733(115).czi: 5653.62 MB\n",
      "20250814_gfapgfp_tp1mch_2dpf_40x_zls7_2025_08_14__20_40_18_733(116).czi: 5653.62 MB\n",
      "20250814_gfapgfp_tp1mch_2dpf_40x_zls7_2025_08_14__20_40_18_733(117).czi: 5653.62 MB\n",
      "20250814_gfapgfp_tp1mch_2dpf_40x_zls7_2025_08_14__20_40_18_733(118).czi: 5653.62 MB\n",
      "20250814_gfapgfp_tp1mch_2dpf_40x_zls7_2025_08_14__20_40_18_733(119).czi: 5653.62 MB\n",
      "20250814_gfapgfp_tp1mch_2dpf_40x_zls7_2025_08_14__20_40_18_733(12).czi: 5653.62 MB\n",
      "20250814_gfapgfp_tp1mch_2dpf_40x_zls7_2025_08_14__20_40_18_733(120).czi: 5653.62 MB\n",
      "20250814_gfapgfp_tp1mch_2dpf_40x_zls7_2025_08_14__20_40_18_733(121).czi: 5653.62 MB\n",
      "20250814_gfapgfp_tp1mch_2dpf_40x_zls7_2025_08_14__20_40_18_733(122).czi: 5653.62 MB\n",
      "20250814_gfapgfp_tp1mch_2dpf_40x_zls7_2025_08_14__20_40_18_733(123).czi: 5653.62 MB\n",
      "20250814_gfapgfp_tp1mch_2dpf_40x_zls7_2025_08_14__20_40_18_733(124).czi: 5653.62 MB\n",
      "20250814_gfapgfp_tp1mch_2dpf_40x_zls7_2025_08_14__20_40_18_733(125).czi: 5653.62 MB\n",
      "20250814_gfapgfp_tp1mch_2dpf_40x_zls7_2025_08_14__20_40_18_733(126).czi: 5653.62 MB\n",
      "20250814_gfapgfp_tp1mch_2dpf_40x_zls7_2025_08_14__20_40_18_733(127).czi: 5653.62 MB\n",
      "20250814_gfapgfp_tp1mch_2dpf_40x_zls7_2025_08_14__20_40_18_733(128).czi: 5653.62 MB\n",
      "20250814_gfapgfp_tp1mch_2dpf_40x_zls7_2025_08_14__20_40_18_733(129).czi: 5653.62 MB\n",
      "20250814_gfapgfp_tp1mch_2dpf_40x_zls7_2025_08_14__20_40_18_733(13).czi: 5653.62 MB\n",
      "20250814_gfapgfp_tp1mch_2dpf_40x_zls7_2025_08_14__20_40_18_733(130).czi: 5653.62 MB\n",
      "20250814_gfapgfp_tp1mch_2dpf_40x_zls7_2025_08_14__20_40_18_733(131).czi: 5653.62 MB\n",
      "20250814_gfapgfp_tp1mch_2dpf_40x_zls7_2025_08_14__20_40_18_733(132).czi: 5653.62 MB\n",
      "20250814_gfapgfp_tp1mch_2dpf_40x_zls7_2025_08_14__20_40_18_733(133).czi: 5653.62 MB\n",
      "20250814_gfapgfp_tp1mch_2dpf_40x_zls7_2025_08_14__20_40_18_733(134).czi: 5653.62 MB\n",
      "20250814_gfapgfp_tp1mch_2dpf_40x_zls7_2025_08_14__20_40_18_733(135).czi: 5653.62 MB\n",
      "20250814_gfapgfp_tp1mch_2dpf_40x_zls7_2025_08_14__20_40_18_733(136).czi: 5653.62 MB\n",
      "20250814_gfapgfp_tp1mch_2dpf_40x_zls7_2025_08_14__20_40_18_733(137).czi: 5653.62 MB\n",
      "20250814_gfapgfp_tp1mch_2dpf_40x_zls7_2025_08_14__20_40_18_733(138).czi: 5653.62 MB\n",
      "20250814_gfapgfp_tp1mch_2dpf_40x_zls7_2025_08_14__20_40_18_733(139).czi: 5653.62 MB\n",
      "20250814_gfapgfp_tp1mch_2dpf_40x_zls7_2025_08_14__20_40_18_733(14).czi: 5653.62 MB\n",
      "20250814_gfapgfp_tp1mch_2dpf_40x_zls7_2025_08_14__20_40_18_733(140).czi: 5653.62 MB\n",
      "20250814_gfapgfp_tp1mch_2dpf_40x_zls7_2025_08_14__20_40_18_733(141).czi: 5653.62 MB\n",
      "20250814_gfapgfp_tp1mch_2dpf_40x_zls7_2025_08_14__20_40_18_733(142).czi: 5653.62 MB\n",
      "20250814_gfapgfp_tp1mch_2dpf_40x_zls7_2025_08_14__20_40_18_733(143).czi: 5653.62 MB\n",
      "20250814_gfapgfp_tp1mch_2dpf_40x_zls7_2025_08_14__20_40_18_733(144).czi: 5653.62 MB\n",
      "20250814_gfapgfp_tp1mch_2dpf_40x_zls7_2025_08_14__20_40_18_733(145).czi: 5653.62 MB\n",
      "20250814_gfapgfp_tp1mch_2dpf_40x_zls7_2025_08_14__20_40_18_733(146).czi: 5653.62 MB\n",
      "20250814_gfapgfp_tp1mch_2dpf_40x_zls7_2025_08_14__20_40_18_733(147).czi: 5653.62 MB\n",
      "20250814_gfapgfp_tp1mch_2dpf_40x_zls7_2025_08_14__20_40_18_733(148).czi: 5653.62 MB\n",
      "20250814_gfapgfp_tp1mch_2dpf_40x_zls7_2025_08_14__20_40_18_733(149).czi: 5653.62 MB\n",
      "20250814_gfapgfp_tp1mch_2dpf_40x_zls7_2025_08_14__20_40_18_733(15).czi: 5653.62 MB\n",
      "20250814_gfapgfp_tp1mch_2dpf_40x_zls7_2025_08_14__20_40_18_733(150).czi: 5653.62 MB\n",
      "20250814_gfapgfp_tp1mch_2dpf_40x_zls7_2025_08_14__20_40_18_733(151).czi: 5653.62 MB\n",
      "20250814_gfapgfp_tp1mch_2dpf_40x_zls7_2025_08_14__20_40_18_733(152).czi: 5653.62 MB\n",
      "20250814_gfapgfp_tp1mch_2dpf_40x_zls7_2025_08_14__20_40_18_733(16).czi: 5653.62 MB\n",
      "20250814_gfapgfp_tp1mch_2dpf_40x_zls7_2025_08_14__20_40_18_733(17).czi: 5653.62 MB\n",
      "20250814_gfapgfp_tp1mch_2dpf_40x_zls7_2025_08_14__20_40_18_733(18).czi: 5653.62 MB\n",
      "20250814_gfapgfp_tp1mch_2dpf_40x_zls7_2025_08_14__20_40_18_733(19).czi: 5653.62 MB\n",
      "20250814_gfapgfp_tp1mch_2dpf_40x_zls7_2025_08_14__20_40_18_733(2).czi: 5653.62 MB\n",
      "20250814_gfapgfp_tp1mch_2dpf_40x_zls7_2025_08_14__20_40_18_733(20).czi: 5653.62 MB\n",
      "20250814_gfapgfp_tp1mch_2dpf_40x_zls7_2025_08_14__20_40_18_733(21).czi: 5653.62 MB\n",
      "20250814_gfapgfp_tp1mch_2dpf_40x_zls7_2025_08_14__20_40_18_733(22).czi: 5653.62 MB\n",
      "20250814_gfapgfp_tp1mch_2dpf_40x_zls7_2025_08_14__20_40_18_733(23).czi: 5653.62 MB\n",
      "20250814_gfapgfp_tp1mch_2dpf_40x_zls7_2025_08_14__20_40_18_733(24).czi: 5653.62 MB\n",
      "20250814_gfapgfp_tp1mch_2dpf_40x_zls7_2025_08_14__20_40_18_733(25).czi: 5653.62 MB\n",
      "20250814_gfapgfp_tp1mch_2dpf_40x_zls7_2025_08_14__20_40_18_733(26).czi: 5653.62 MB\n",
      "20250814_gfapgfp_tp1mch_2dpf_40x_zls7_2025_08_14__20_40_18_733(27).czi: 5653.62 MB\n",
      "20250814_gfapgfp_tp1mch_2dpf_40x_zls7_2025_08_14__20_40_18_733(28).czi: 5653.62 MB\n",
      "20250814_gfapgfp_tp1mch_2dpf_40x_zls7_2025_08_14__20_40_18_733(29).czi: 5653.62 MB\n",
      "20250814_gfapgfp_tp1mch_2dpf_40x_zls7_2025_08_14__20_40_18_733(3).czi: 5653.62 MB\n",
      "20250814_gfapgfp_tp1mch_2dpf_40x_zls7_2025_08_14__20_40_18_733(30).czi: 5653.62 MB\n",
      "20250814_gfapgfp_tp1mch_2dpf_40x_zls7_2025_08_14__20_40_18_733(31).czi: 5653.62 MB\n",
      "20250814_gfapgfp_tp1mch_2dpf_40x_zls7_2025_08_14__20_40_18_733(32).czi: 5653.62 MB\n",
      "20250814_gfapgfp_tp1mch_2dpf_40x_zls7_2025_08_14__20_40_18_733(33).czi: 5653.62 MB\n",
      "20250814_gfapgfp_tp1mch_2dpf_40x_zls7_2025_08_14__20_40_18_733(34).czi: 5653.62 MB\n",
      "20250814_gfapgfp_tp1mch_2dpf_40x_zls7_2025_08_14__20_40_18_733(35).czi: 5653.62 MB\n",
      "20250814_gfapgfp_tp1mch_2dpf_40x_zls7_2025_08_14__20_40_18_733(36).czi: 5653.62 MB\n",
      "20250814_gfapgfp_tp1mch_2dpf_40x_zls7_2025_08_14__20_40_18_733(37).czi: 5653.62 MB\n",
      "20250814_gfapgfp_tp1mch_2dpf_40x_zls7_2025_08_14__20_40_18_733(38).czi: 5653.62 MB\n",
      "20250814_gfapgfp_tp1mch_2dpf_40x_zls7_2025_08_14__20_40_18_733(39).czi: 5653.62 MB\n",
      "20250814_gfapgfp_tp1mch_2dpf_40x_zls7_2025_08_14__20_40_18_733(4).czi: 5653.62 MB\n",
      "20250814_gfapgfp_tp1mch_2dpf_40x_zls7_2025_08_14__20_40_18_733(40).czi: 5653.62 MB\n",
      "20250814_gfapgfp_tp1mch_2dpf_40x_zls7_2025_08_14__20_40_18_733(41).czi: 5653.62 MB\n",
      "20250814_gfapgfp_tp1mch_2dpf_40x_zls7_2025_08_14__20_40_18_733(42).czi: 5653.62 MB\n",
      "20250814_gfapgfp_tp1mch_2dpf_40x_zls7_2025_08_14__20_40_18_733(43).czi: 5653.62 MB\n",
      "20250814_gfapgfp_tp1mch_2dpf_40x_zls7_2025_08_14__20_40_18_733(44).czi: 5653.62 MB\n",
      "20250814_gfapgfp_tp1mch_2dpf_40x_zls7_2025_08_14__20_40_18_733(45).czi: 5653.62 MB\n",
      "20250814_gfapgfp_tp1mch_2dpf_40x_zls7_2025_08_14__20_40_18_733(46).czi: 5653.62 MB\n",
      "20250814_gfapgfp_tp1mch_2dpf_40x_zls7_2025_08_14__20_40_18_733(47).czi: 5653.62 MB\n",
      "20250814_gfapgfp_tp1mch_2dpf_40x_zls7_2025_08_14__20_40_18_733(48).czi: 5653.62 MB\n",
      "20250814_gfapgfp_tp1mch_2dpf_40x_zls7_2025_08_14__20_40_18_733(49).czi: 5653.62 MB\n",
      "20250814_gfapgfp_tp1mch_2dpf_40x_zls7_2025_08_14__20_40_18_733(5).czi: 5653.62 MB\n",
      "20250814_gfapgfp_tp1mch_2dpf_40x_zls7_2025_08_14__20_40_18_733(50).czi: 5653.62 MB\n",
      "20250814_gfapgfp_tp1mch_2dpf_40x_zls7_2025_08_14__20_40_18_733(51).czi: 5653.62 MB\n",
      "20250814_gfapgfp_tp1mch_2dpf_40x_zls7_2025_08_14__20_40_18_733(52).czi: 5653.62 MB\n",
      "20250814_gfapgfp_tp1mch_2dpf_40x_zls7_2025_08_14__20_40_18_733(53).czi: 5653.62 MB\n",
      "20250814_gfapgfp_tp1mch_2dpf_40x_zls7_2025_08_14__20_40_18_733(54).czi: 5653.62 MB\n",
      "20250814_gfapgfp_tp1mch_2dpf_40x_zls7_2025_08_14__20_40_18_733(55).czi: 5653.62 MB\n",
      "20250814_gfapgfp_tp1mch_2dpf_40x_zls7_2025_08_14__20_40_18_733(56).czi: 5653.62 MB\n",
      "20250814_gfapgfp_tp1mch_2dpf_40x_zls7_2025_08_14__20_40_18_733(57).czi: 5653.62 MB\n",
      "20250814_gfapgfp_tp1mch_2dpf_40x_zls7_2025_08_14__20_40_18_733(58).czi: 5653.62 MB\n",
      "20250814_gfapgfp_tp1mch_2dpf_40x_zls7_2025_08_14__20_40_18_733(59).czi: 5653.62 MB\n",
      "20250814_gfapgfp_tp1mch_2dpf_40x_zls7_2025_08_14__20_40_18_733(6).czi: 5653.62 MB\n",
      "20250814_gfapgfp_tp1mch_2dpf_40x_zls7_2025_08_14__20_40_18_733(60).czi: 5653.62 MB\n",
      "20250814_gfapgfp_tp1mch_2dpf_40x_zls7_2025_08_14__20_40_18_733(61).czi: 5653.62 MB\n",
      "20250814_gfapgfp_tp1mch_2dpf_40x_zls7_2025_08_14__20_40_18_733(62).czi: 5653.62 MB\n",
      "20250814_gfapgfp_tp1mch_2dpf_40x_zls7_2025_08_14__20_40_18_733(63).czi: 5653.62 MB\n",
      "20250814_gfapgfp_tp1mch_2dpf_40x_zls7_2025_08_14__20_40_18_733(64).czi: 5653.62 MB\n",
      "20250814_gfapgfp_tp1mch_2dpf_40x_zls7_2025_08_14__20_40_18_733(65).czi: 5653.62 MB\n",
      "20250814_gfapgfp_tp1mch_2dpf_40x_zls7_2025_08_14__20_40_18_733(66).czi: 5653.62 MB\n",
      "20250814_gfapgfp_tp1mch_2dpf_40x_zls7_2025_08_14__20_40_18_733(67).czi: 5653.62 MB\n",
      "20250814_gfapgfp_tp1mch_2dpf_40x_zls7_2025_08_14__20_40_18_733(68).czi: 5653.62 MB\n",
      "20250814_gfapgfp_tp1mch_2dpf_40x_zls7_2025_08_14__20_40_18_733(69).czi: 5653.62 MB\n",
      "20250814_gfapgfp_tp1mch_2dpf_40x_zls7_2025_08_14__20_40_18_733(7).czi: 5653.62 MB\n",
      "20250814_gfapgfp_tp1mch_2dpf_40x_zls7_2025_08_14__20_40_18_733(70).czi: 5653.62 MB\n",
      "20250814_gfapgfp_tp1mch_2dpf_40x_zls7_2025_08_14__20_40_18_733(71).czi: 5653.62 MB\n",
      "20250814_gfapgfp_tp1mch_2dpf_40x_zls7_2025_08_14__20_40_18_733(72).czi: 5653.62 MB\n",
      "20250814_gfapgfp_tp1mch_2dpf_40x_zls7_2025_08_14__20_40_18_733(73).czi: 5653.62 MB\n",
      "20250814_gfapgfp_tp1mch_2dpf_40x_zls7_2025_08_14__20_40_18_733(74).czi: 5653.62 MB\n",
      "20250814_gfapgfp_tp1mch_2dpf_40x_zls7_2025_08_14__20_40_18_733(75).czi: 5653.62 MB\n",
      "20250814_gfapgfp_tp1mch_2dpf_40x_zls7_2025_08_14__20_40_18_733(76).czi: 5653.62 MB\n",
      "20250814_gfapgfp_tp1mch_2dpf_40x_zls7_2025_08_14__20_40_18_733(77).czi: 5653.62 MB\n",
      "20250814_gfapgfp_tp1mch_2dpf_40x_zls7_2025_08_14__20_40_18_733(78).czi: 5653.62 MB\n",
      "20250814_gfapgfp_tp1mch_2dpf_40x_zls7_2025_08_14__20_40_18_733(79).czi: 5653.62 MB\n",
      "20250814_gfapgfp_tp1mch_2dpf_40x_zls7_2025_08_14__20_40_18_733(8).czi: 5653.62 MB\n",
      "20250814_gfapgfp_tp1mch_2dpf_40x_zls7_2025_08_14__20_40_18_733(80).czi: 5653.62 MB\n",
      "20250814_gfapgfp_tp1mch_2dpf_40x_zls7_2025_08_14__20_40_18_733(81).czi: 5653.62 MB\n",
      "20250814_gfapgfp_tp1mch_2dpf_40x_zls7_2025_08_14__20_40_18_733(82).czi: 5653.62 MB\n",
      "20250814_gfapgfp_tp1mch_2dpf_40x_zls7_2025_08_14__20_40_18_733(83).czi: 5653.62 MB\n",
      "20250814_gfapgfp_tp1mch_2dpf_40x_zls7_2025_08_14__20_40_18_733(84).czi: 5653.62 MB\n",
      "20250814_gfapgfp_tp1mch_2dpf_40x_zls7_2025_08_14__20_40_18_733(85).czi: 5653.62 MB\n",
      "20250814_gfapgfp_tp1mch_2dpf_40x_zls7_2025_08_14__20_40_18_733(86).czi: 5653.62 MB\n",
      "20250814_gfapgfp_tp1mch_2dpf_40x_zls7_2025_08_14__20_40_18_733(87).czi: 5653.62 MB\n",
      "20250814_gfapgfp_tp1mch_2dpf_40x_zls7_2025_08_14__20_40_18_733(88).czi: 5653.62 MB\n",
      "20250814_gfapgfp_tp1mch_2dpf_40x_zls7_2025_08_14__20_40_18_733(89).czi: 5653.62 MB\n",
      "20250814_gfapgfp_tp1mch_2dpf_40x_zls7_2025_08_14__20_40_18_733(9).czi: 5653.62 MB\n",
      "20250814_gfapgfp_tp1mch_2dpf_40x_zls7_2025_08_14__20_40_18_733(90).czi: 5653.62 MB\n",
      "20250814_gfapgfp_tp1mch_2dpf_40x_zls7_2025_08_14__20_40_18_733(91).czi: 5653.62 MB\n",
      "20250814_gfapgfp_tp1mch_2dpf_40x_zls7_2025_08_14__20_40_18_733(92).czi: 5653.62 MB\n",
      "20250814_gfapgfp_tp1mch_2dpf_40x_zls7_2025_08_14__20_40_18_733(93).czi: 5653.62 MB\n",
      "20250814_gfapgfp_tp1mch_2dpf_40x_zls7_2025_08_14__20_40_18_733(94).czi: 5653.62 MB\n",
      "20250814_gfapgfp_tp1mch_2dpf_40x_zls7_2025_08_14__20_40_18_733(95).czi: 5653.62 MB\n",
      "20250814_gfapgfp_tp1mch_2dpf_40x_zls7_2025_08_14__20_40_18_733(96).czi: 5653.62 MB\n",
      "20250814_gfapgfp_tp1mch_2dpf_40x_zls7_2025_08_14__20_40_18_733(97).czi: 5653.62 MB\n",
      "20250814_gfapgfp_tp1mch_2dpf_40x_zls7_2025_08_14__20_40_18_733(98).czi: 5653.62 MB\n",
      "20250814_gfapgfp_tp1mch_2dpf_40x_zls7_2025_08_14__20_40_18_733(99).czi: 5653.62 MB\n",
      "20250814_gfapgfp_tp1mch_2dpf_40x_zls7_2025_08_14__20_40_18_733.czi: 5653.68 MB\n",
      "\n",
      "Number of files: 153\n",
      "Total stacked size: 844.73 GB\n"
     ]
    }
   ],
   "source": [
    "\n",
    "# Path to your files\n",
    "files_dir = Path(r'Z:\\Zeiss\\Rebecca\\zeisslightsheet7\\20250814')\n",
    "\n",
    "# Use string when passing to glob\n",
    "files = glob.glob(str(files_dir / '*.czi'))\n",
    "\n",
    "# Get file sizes in bytes\n",
    "file_sizes = [os.path.getsize(f) for f in files]\n",
    "\n",
    "# Convert sizes\n",
    "file_sizes_mb = [s / (1024**2) for s in file_sizes]\n",
    "total_size_gb = sum(file_sizes) / (1024**3)\n",
    "\n",
    "# Print summary\n",
    "for f, s in zip(files, file_sizes_mb):\n",
    "    print(f\"{Path(f).name}: {s:.2f} MB\")\n",
    "\n",
    "print(f\"\\nNumber of files: {len(files)}\")\n",
    "print(f\"Total stacked size: {total_size_gb:.2f} GB\")"
   ]
  },
  {
   "cell_type": "code",
   "execution_count": 5,
   "id": "e7b835ff-4231-48fe-a978-12750e5dd772",
   "metadata": {
    "tags": []
   },
   "outputs": [],
   "source": [
    "test_fn = Path(files_dir, '20250814_gfapgfp_tp1mch_2dpf_40x_zls7_2025_08_14__20_40_18_733(152).czi')"
   ]
  },
  {
   "cell_type": "code",
   "execution_count": 6,
   "id": "54030484-c2b1-4ca0-adad-1e7840efea36",
   "metadata": {
    "tags": []
   },
   "outputs": [
    {
     "name": "stdout",
     "output_type": "stream",
     "text": [
      "CPU times: total: 17.3 s\n",
      "Wall time: 32.5 s\n"
     ]
    }
   ],
   "source": [
    "%%time\n",
    "\n",
    "image = np.squeeze(czifile.imread(test_fn))"
   ]
  },
  {
   "cell_type": "code",
   "execution_count": 7,
   "id": "e7b3b088-6b5d-4c48-af2d-7cb123f6c8e0",
   "metadata": {
    "tags": []
   },
   "outputs": [
    {
     "data": {
      "text/plain": [
       "(2, 402, 1920, 1920)"
      ]
     },
     "execution_count": 7,
     "metadata": {},
     "output_type": "execute_result"
    }
   ],
   "source": [
    "image.shape"
   ]
  },
  {
   "cell_type": "code",
   "execution_count": 14,
   "id": "cb627072-97a7-436d-9574-3e4dee559bb5",
   "metadata": {
    "tags": []
   },
   "outputs": [
    {
     "name": "stderr",
     "output_type": "stream",
     "text": [
      "100%|█████████████████████████████████████████████████████████████████████████████| 1.15G/1.15G [00:22<00:00, 54.3MB/s]\n"
     ]
    }
   ],
   "source": [
    "\n",
    "model = models.CellposeModel(gpu=False)"
   ]
  },
  {
   "cell_type": "code",
   "execution_count": 16,
   "id": "5c266ad1-8837-4838-8269-3c37143867ba",
   "metadata": {},
   "outputs": [
    {
     "name": "stderr",
     "output_type": "stream",
     "text": [
      "Creating pseudo seg input: 100%|██████████████████████████████████████████████████████████████████████████████████████████| 2/2 [01:55<00:00, 57.89s/it]\n"
     ]
    }
   ],
   "source": [
    "\n",
    "# --- robust per-channel normalization to [0,1] ---\n",
    "seg_input = image.astype(np.float32)\n",
    "for c in tqdm(range(seg_input.shape[0]), desc=\"Creating pseudo seg input\"):\n",
    "    p1, p99 = np.percentile(seg_input[c], (1, 99))\n",
    "    seg_input[c] = np.clip((seg_input[c] - p1) / max(p99 - p1, 1e-6), 0, 1)\n"
   ]
  },
  {
   "cell_type": "code",
   "execution_count": 17,
   "id": "d10a5db3-0f73-4ec1-97e4-f7e0fca362f2",
   "metadata": {},
   "outputs": [
    {
     "name": "stderr",
     "output_type": "stream",
     "text": [
      "Cellpose on pseudo-max Z:   0%|                                                                                                 | 0/402 [00:00<?, ?it/s]channels deprecated in v4.0.1+. If data contain more than 3 channels, only the first 3 channels will be used\n",
      "Cellpose on pseudo-max Z:   0%|                                                                                                 | 0/402 [24:50<?, ?it/s]\n"
     ]
    },
    {
     "ename": "KeyboardInterrupt",
     "evalue": "",
     "output_type": "error",
     "traceback": [
      "\u001b[1;31m---------------------------------------------------------------------------\u001b[0m",
      "\u001b[1;31mKeyboardInterrupt\u001b[0m                         Traceback (most recent call last)",
      "Cell \u001b[1;32mIn[17], line 9\u001b[0m\n\u001b[0;32m      7\u001b[0m masks \u001b[38;5;241m=\u001b[39m []\n\u001b[0;32m      8\u001b[0m \u001b[38;5;28;01mfor\u001b[39;00m z \u001b[38;5;129;01min\u001b[39;00m tqdm(\u001b[38;5;28mrange\u001b[39m(seg_input\u001b[38;5;241m.\u001b[39mshape[\u001b[38;5;241m0\u001b[39m]), desc\u001b[38;5;241m=\u001b[39m\u001b[38;5;124m\"\u001b[39m\u001b[38;5;124mCellpose on pseudo-max Z\u001b[39m\u001b[38;5;124m\"\u001b[39m):\n\u001b[1;32m----> 9\u001b[0m     mask, _, _, _ \u001b[38;5;241m=\u001b[39m \u001b[43mmodel\u001b[49m\u001b[38;5;241;43m.\u001b[39;49m\u001b[43meval\u001b[49m\u001b[43m(\u001b[49m\u001b[43mseg_input\u001b[49m\u001b[43m[\u001b[49m\u001b[43mz\u001b[49m\u001b[43m]\u001b[49m\u001b[43m,\u001b[49m\u001b[43m \u001b[49m\u001b[43mchannels\u001b[49m\u001b[38;5;241;43m=\u001b[39;49m\u001b[43m[\u001b[49m\u001b[38;5;241;43m0\u001b[39;49m\u001b[43m,\u001b[49m\u001b[43m \u001b[49m\u001b[38;5;241;43m0\u001b[39;49m\u001b[43m]\u001b[49m\u001b[43m,\u001b[49m\u001b[43m \u001b[49m\u001b[43mdiameter\u001b[49m\u001b[38;5;241;43m=\u001b[39;49m\u001b[38;5;28;43;01mNone\u001b[39;49;00m\u001b[43m)\u001b[49m\n\u001b[0;32m     10\u001b[0m     masks\u001b[38;5;241m.\u001b[39mappend(mask)\n\u001b[0;32m     11\u001b[0m masks \u001b[38;5;241m=\u001b[39m np\u001b[38;5;241m.\u001b[39mstack(masks)  \u001b[38;5;66;03m# (Z, Y, X)\u001b[39;00m\n",
      "File \u001b[1;32m~\\miniforge3\\envs\\cellpose_cpu\\lib\\site-packages\\cellpose\\models.py:313\u001b[0m, in \u001b[0;36mCellposeModel.eval\u001b[1;34m(self, x, batch_size, resample, channels, channel_axis, z_axis, normalize, invert, rescale, diameter, flow_threshold, cellprob_threshold, do_3D, anisotropy, flow3D_smooth, stitch_threshold, min_size, max_size_fraction, niter, augment, tile_overlap, bsize, compute_masks, progress)\u001b[0m\n\u001b[0;32m    310\u001b[0m \u001b[38;5;28;01mif\u001b[39;00m \u001b[38;5;28misinstance\u001b[39m(anisotropy, (\u001b[38;5;28mfloat\u001b[39m, \u001b[38;5;28mint\u001b[39m)) \u001b[38;5;129;01mand\u001b[39;00m image_scaling:\n\u001b[0;32m    311\u001b[0m     anisotropy \u001b[38;5;241m=\u001b[39m image_scaling \u001b[38;5;241m*\u001b[39m anisotropy\n\u001b[1;32m--> 313\u001b[0m dP, cellprob, styles \u001b[38;5;241m=\u001b[39m \u001b[38;5;28;43mself\u001b[39;49m\u001b[38;5;241;43m.\u001b[39;49m\u001b[43m_run_net\u001b[49m\u001b[43m(\u001b[49m\n\u001b[0;32m    314\u001b[0m \u001b[43m    \u001b[49m\u001b[43mx\u001b[49m\u001b[43m,\u001b[49m\u001b[43m \u001b[49m\n\u001b[0;32m    315\u001b[0m \u001b[43m    \u001b[49m\u001b[43maugment\u001b[49m\u001b[38;5;241;43m=\u001b[39;49m\u001b[43maugment\u001b[49m\u001b[43m,\u001b[49m\u001b[43m \u001b[49m\n\u001b[0;32m    316\u001b[0m \u001b[43m    \u001b[49m\u001b[43mbatch_size\u001b[49m\u001b[38;5;241;43m=\u001b[39;49m\u001b[43mbatch_size\u001b[49m\u001b[43m,\u001b[49m\u001b[43m \u001b[49m\n\u001b[0;32m    317\u001b[0m \u001b[43m    \u001b[49m\u001b[43mtile_overlap\u001b[49m\u001b[38;5;241;43m=\u001b[39;49m\u001b[43mtile_overlap\u001b[49m\u001b[43m,\u001b[49m\u001b[43m \u001b[49m\n\u001b[0;32m    318\u001b[0m \u001b[43m    \u001b[49m\u001b[43mbsize\u001b[49m\u001b[38;5;241;43m=\u001b[39;49m\u001b[43mbsize\u001b[49m\u001b[43m,\u001b[49m\n\u001b[0;32m    319\u001b[0m \u001b[43m    \u001b[49m\u001b[43mdo_3D\u001b[49m\u001b[38;5;241;43m=\u001b[39;49m\u001b[43mdo_3D\u001b[49m\u001b[43m,\u001b[49m\u001b[43m \u001b[49m\n\u001b[0;32m    320\u001b[0m \u001b[43m    \u001b[49m\u001b[43manisotropy\u001b[49m\u001b[38;5;241;43m=\u001b[39;49m\u001b[43manisotropy\u001b[49m\u001b[43m)\u001b[49m\n\u001b[0;32m    322\u001b[0m \u001b[38;5;28;01mif\u001b[39;00m do_3D:    \n\u001b[0;32m    323\u001b[0m     \u001b[38;5;28;01mif\u001b[39;00m flow3D_smooth \u001b[38;5;241m>\u001b[39m \u001b[38;5;241m0\u001b[39m:\n",
      "File \u001b[1;32m~\\miniforge3\\envs\\cellpose_cpu\\lib\\site-packages\\cellpose\\models.py:478\u001b[0m, in \u001b[0;36mCellposeModel._run_net\u001b[1;34m(self, x, augment, batch_size, tile_overlap, bsize, anisotropy, do_3D)\u001b[0m\n\u001b[0;32m    476\u001b[0m     dP \u001b[38;5;241m=\u001b[39m yf[\u001b[38;5;241m.\u001b[39m\u001b[38;5;241m.\u001b[39m\u001b[38;5;241m.\u001b[39m, :\u001b[38;5;241m-\u001b[39m\u001b[38;5;241m1\u001b[39m]\u001b[38;5;241m.\u001b[39mtranspose((\u001b[38;5;241m3\u001b[39m, \u001b[38;5;241m0\u001b[39m, \u001b[38;5;241m1\u001b[39m, \u001b[38;5;241m2\u001b[39m))\n\u001b[0;32m    477\u001b[0m \u001b[38;5;28;01melse\u001b[39;00m:\n\u001b[1;32m--> 478\u001b[0m     yf, styles \u001b[38;5;241m=\u001b[39m \u001b[43mrun_net\u001b[49m\u001b[43m(\u001b[49m\u001b[38;5;28;43mself\u001b[39;49m\u001b[38;5;241;43m.\u001b[39;49m\u001b[43mnet\u001b[49m\u001b[43m,\u001b[49m\u001b[43m \u001b[49m\u001b[43mx\u001b[49m\u001b[43m,\u001b[49m\u001b[43m \u001b[49m\u001b[43mbsize\u001b[49m\u001b[38;5;241;43m=\u001b[39;49m\u001b[43mbsize\u001b[49m\u001b[43m,\u001b[49m\u001b[43m \u001b[49m\u001b[43maugment\u001b[49m\u001b[38;5;241;43m=\u001b[39;49m\u001b[43maugment\u001b[49m\u001b[43m,\u001b[49m\n\u001b[0;32m    479\u001b[0m \u001b[43m                        \u001b[49m\u001b[43mbatch_size\u001b[49m\u001b[38;5;241;43m=\u001b[39;49m\u001b[43mbatch_size\u001b[49m\u001b[43m,\u001b[49m\u001b[43m  \u001b[49m\n\u001b[0;32m    480\u001b[0m \u001b[43m                        \u001b[49m\u001b[43mtile_overlap\u001b[49m\u001b[38;5;241;43m=\u001b[39;49m\u001b[43mtile_overlap\u001b[49m\u001b[43m,\u001b[49m\u001b[43m \u001b[49m\n\u001b[0;32m    481\u001b[0m \u001b[43m                        \u001b[49m\u001b[43m)\u001b[49m\n\u001b[0;32m    482\u001b[0m     cellprob \u001b[38;5;241m=\u001b[39m yf[\u001b[38;5;241m.\u001b[39m\u001b[38;5;241m.\u001b[39m\u001b[38;5;241m.\u001b[39m, \u001b[38;5;241m-\u001b[39m\u001b[38;5;241m1\u001b[39m]\n\u001b[0;32m    483\u001b[0m     dP \u001b[38;5;241m=\u001b[39m yf[\u001b[38;5;241m.\u001b[39m\u001b[38;5;241m.\u001b[39m\u001b[38;5;241m.\u001b[39m, \u001b[38;5;241m-\u001b[39m\u001b[38;5;241m3\u001b[39m:\u001b[38;5;241m-\u001b[39m\u001b[38;5;241m1\u001b[39m]\u001b[38;5;241m.\u001b[39mtranspose((\u001b[38;5;241m3\u001b[39m, \u001b[38;5;241m0\u001b[39m, \u001b[38;5;241m1\u001b[39m, \u001b[38;5;241m2\u001b[39m))\n",
      "File \u001b[1;32m~\\miniforge3\\envs\\cellpose_cpu\\lib\\site-packages\\cellpose\\core.py:230\u001b[0m, in \u001b[0;36mrun_net\u001b[1;34m(net, imgi, batch_size, augment, tile_overlap, bsize, rsz)\u001b[0m\n\u001b[0;32m    228\u001b[0m \u001b[38;5;28;01mfor\u001b[39;00m j \u001b[38;5;129;01min\u001b[39;00m \u001b[38;5;28mrange\u001b[39m(\u001b[38;5;241m0\u001b[39m, IMGa\u001b[38;5;241m.\u001b[39mshape[\u001b[38;5;241m0\u001b[39m], batch_size):\n\u001b[0;32m    229\u001b[0m     bslc \u001b[38;5;241m=\u001b[39m \u001b[38;5;28mslice\u001b[39m(j, \u001b[38;5;28mmin\u001b[39m(j \u001b[38;5;241m+\u001b[39m batch_size, IMGa\u001b[38;5;241m.\u001b[39mshape[\u001b[38;5;241m0\u001b[39m]))\n\u001b[1;32m--> 230\u001b[0m     ya0, stylea0 \u001b[38;5;241m=\u001b[39m \u001b[43m_forward\u001b[49m\u001b[43m(\u001b[49m\u001b[43mnet\u001b[49m\u001b[43m,\u001b[49m\u001b[43m \u001b[49m\u001b[43mIMGa\u001b[49m\u001b[43m[\u001b[49m\u001b[43mbslc\u001b[49m\u001b[43m]\u001b[49m\u001b[43m)\u001b[49m\n\u001b[0;32m    231\u001b[0m     \u001b[38;5;28;01mif\u001b[39;00m j \u001b[38;5;241m==\u001b[39m \u001b[38;5;241m0\u001b[39m:\n\u001b[0;32m    232\u001b[0m         nout \u001b[38;5;241m=\u001b[39m ya0\u001b[38;5;241m.\u001b[39mshape[\u001b[38;5;241m1\u001b[39m]\n",
      "File \u001b[1;32m~\\miniforge3\\envs\\cellpose_cpu\\lib\\site-packages\\cellpose\\core.py:158\u001b[0m, in \u001b[0;36m_forward\u001b[1;34m(net, x)\u001b[0m\n\u001b[0;32m    156\u001b[0m net\u001b[38;5;241m.\u001b[39meval()\n\u001b[0;32m    157\u001b[0m \u001b[38;5;28;01mwith\u001b[39;00m torch\u001b[38;5;241m.\u001b[39mno_grad():\n\u001b[1;32m--> 158\u001b[0m     y, style \u001b[38;5;241m=\u001b[39m \u001b[43mnet\u001b[49m\u001b[43m(\u001b[49m\u001b[43mX\u001b[49m\u001b[43m)\u001b[49m[:\u001b[38;5;241m2\u001b[39m]\n\u001b[0;32m    159\u001b[0m \u001b[38;5;28;01mdel\u001b[39;00m X\n\u001b[0;32m    160\u001b[0m y \u001b[38;5;241m=\u001b[39m _from_device(y)\n",
      "File \u001b[1;32m~\\miniforge3\\envs\\cellpose_cpu\\lib\\site-packages\\torch\\nn\\modules\\module.py:1773\u001b[0m, in \u001b[0;36mModule._wrapped_call_impl\u001b[1;34m(self, *args, **kwargs)\u001b[0m\n\u001b[0;32m   1771\u001b[0m     \u001b[38;5;28;01mreturn\u001b[39;00m \u001b[38;5;28mself\u001b[39m\u001b[38;5;241m.\u001b[39m_compiled_call_impl(\u001b[38;5;241m*\u001b[39margs, \u001b[38;5;241m*\u001b[39m\u001b[38;5;241m*\u001b[39mkwargs)  \u001b[38;5;66;03m# type: ignore[misc]\u001b[39;00m\n\u001b[0;32m   1772\u001b[0m \u001b[38;5;28;01melse\u001b[39;00m:\n\u001b[1;32m-> 1773\u001b[0m     \u001b[38;5;28;01mreturn\u001b[39;00m \u001b[38;5;28mself\u001b[39m\u001b[38;5;241m.\u001b[39m_call_impl(\u001b[38;5;241m*\u001b[39margs, \u001b[38;5;241m*\u001b[39m\u001b[38;5;241m*\u001b[39mkwargs)\n",
      "File \u001b[1;32m~\\miniforge3\\envs\\cellpose_cpu\\lib\\site-packages\\torch\\nn\\modules\\module.py:1784\u001b[0m, in \u001b[0;36mModule._call_impl\u001b[1;34m(self, *args, **kwargs)\u001b[0m\n\u001b[0;32m   1779\u001b[0m \u001b[38;5;66;03m# If we don't have any hooks, we want to skip the rest of the logic in\u001b[39;00m\n\u001b[0;32m   1780\u001b[0m \u001b[38;5;66;03m# this function, and just call forward.\u001b[39;00m\n\u001b[0;32m   1781\u001b[0m \u001b[38;5;28;01mif\u001b[39;00m \u001b[38;5;129;01mnot\u001b[39;00m (\u001b[38;5;28mself\u001b[39m\u001b[38;5;241m.\u001b[39m_backward_hooks \u001b[38;5;129;01mor\u001b[39;00m \u001b[38;5;28mself\u001b[39m\u001b[38;5;241m.\u001b[39m_backward_pre_hooks \u001b[38;5;129;01mor\u001b[39;00m \u001b[38;5;28mself\u001b[39m\u001b[38;5;241m.\u001b[39m_forward_hooks \u001b[38;5;129;01mor\u001b[39;00m \u001b[38;5;28mself\u001b[39m\u001b[38;5;241m.\u001b[39m_forward_pre_hooks\n\u001b[0;32m   1782\u001b[0m         \u001b[38;5;129;01mor\u001b[39;00m _global_backward_pre_hooks \u001b[38;5;129;01mor\u001b[39;00m _global_backward_hooks\n\u001b[0;32m   1783\u001b[0m         \u001b[38;5;129;01mor\u001b[39;00m _global_forward_hooks \u001b[38;5;129;01mor\u001b[39;00m _global_forward_pre_hooks):\n\u001b[1;32m-> 1784\u001b[0m     \u001b[38;5;28;01mreturn\u001b[39;00m forward_call(\u001b[38;5;241m*\u001b[39margs, \u001b[38;5;241m*\u001b[39m\u001b[38;5;241m*\u001b[39mkwargs)\n\u001b[0;32m   1786\u001b[0m result \u001b[38;5;241m=\u001b[39m \u001b[38;5;28;01mNone\u001b[39;00m\n\u001b[0;32m   1787\u001b[0m called_always_called_hooks \u001b[38;5;241m=\u001b[39m \u001b[38;5;28mset\u001b[39m()\n",
      "File \u001b[1;32m~\\miniforge3\\envs\\cellpose_cpu\\lib\\site-packages\\cellpose\\vit_sam.py:70\u001b[0m, in \u001b[0;36mTransformer.forward\u001b[1;34m(self, x)\u001b[0m\n\u001b[0;32m     68\u001b[0m \u001b[38;5;28;01melse\u001b[39;00m:\n\u001b[0;32m     69\u001b[0m     \u001b[38;5;28;01mfor\u001b[39;00m blk \u001b[38;5;129;01min\u001b[39;00m \u001b[38;5;28mself\u001b[39m\u001b[38;5;241m.\u001b[39mencoder\u001b[38;5;241m.\u001b[39mblocks:\n\u001b[1;32m---> 70\u001b[0m         x \u001b[38;5;241m=\u001b[39m \u001b[43mblk\u001b[49m\u001b[43m(\u001b[49m\u001b[43mx\u001b[49m\u001b[43m)\u001b[49m\n\u001b[0;32m     72\u001b[0m x \u001b[38;5;241m=\u001b[39m \u001b[38;5;28mself\u001b[39m\u001b[38;5;241m.\u001b[39mencoder\u001b[38;5;241m.\u001b[39mneck(x\u001b[38;5;241m.\u001b[39mpermute(\u001b[38;5;241m0\u001b[39m, \u001b[38;5;241m3\u001b[39m, \u001b[38;5;241m1\u001b[39m, \u001b[38;5;241m2\u001b[39m))\n\u001b[0;32m     74\u001b[0m \u001b[38;5;66;03m# readout is changed here\u001b[39;00m\n",
      "File \u001b[1;32m~\\miniforge3\\envs\\cellpose_cpu\\lib\\site-packages\\torch\\nn\\modules\\module.py:1773\u001b[0m, in \u001b[0;36mModule._wrapped_call_impl\u001b[1;34m(self, *args, **kwargs)\u001b[0m\n\u001b[0;32m   1771\u001b[0m     \u001b[38;5;28;01mreturn\u001b[39;00m \u001b[38;5;28mself\u001b[39m\u001b[38;5;241m.\u001b[39m_compiled_call_impl(\u001b[38;5;241m*\u001b[39margs, \u001b[38;5;241m*\u001b[39m\u001b[38;5;241m*\u001b[39mkwargs)  \u001b[38;5;66;03m# type: ignore[misc]\u001b[39;00m\n\u001b[0;32m   1772\u001b[0m \u001b[38;5;28;01melse\u001b[39;00m:\n\u001b[1;32m-> 1773\u001b[0m     \u001b[38;5;28;01mreturn\u001b[39;00m \u001b[38;5;28mself\u001b[39m\u001b[38;5;241m.\u001b[39m_call_impl(\u001b[38;5;241m*\u001b[39margs, \u001b[38;5;241m*\u001b[39m\u001b[38;5;241m*\u001b[39mkwargs)\n",
      "File \u001b[1;32m~\\miniforge3\\envs\\cellpose_cpu\\lib\\site-packages\\torch\\nn\\modules\\module.py:1784\u001b[0m, in \u001b[0;36mModule._call_impl\u001b[1;34m(self, *args, **kwargs)\u001b[0m\n\u001b[0;32m   1779\u001b[0m \u001b[38;5;66;03m# If we don't have any hooks, we want to skip the rest of the logic in\u001b[39;00m\n\u001b[0;32m   1780\u001b[0m \u001b[38;5;66;03m# this function, and just call forward.\u001b[39;00m\n\u001b[0;32m   1781\u001b[0m \u001b[38;5;28;01mif\u001b[39;00m \u001b[38;5;129;01mnot\u001b[39;00m (\u001b[38;5;28mself\u001b[39m\u001b[38;5;241m.\u001b[39m_backward_hooks \u001b[38;5;129;01mor\u001b[39;00m \u001b[38;5;28mself\u001b[39m\u001b[38;5;241m.\u001b[39m_backward_pre_hooks \u001b[38;5;129;01mor\u001b[39;00m \u001b[38;5;28mself\u001b[39m\u001b[38;5;241m.\u001b[39m_forward_hooks \u001b[38;5;129;01mor\u001b[39;00m \u001b[38;5;28mself\u001b[39m\u001b[38;5;241m.\u001b[39m_forward_pre_hooks\n\u001b[0;32m   1782\u001b[0m         \u001b[38;5;129;01mor\u001b[39;00m _global_backward_pre_hooks \u001b[38;5;129;01mor\u001b[39;00m _global_backward_hooks\n\u001b[0;32m   1783\u001b[0m         \u001b[38;5;129;01mor\u001b[39;00m _global_forward_hooks \u001b[38;5;129;01mor\u001b[39;00m _global_forward_pre_hooks):\n\u001b[1;32m-> 1784\u001b[0m     \u001b[38;5;28;01mreturn\u001b[39;00m forward_call(\u001b[38;5;241m*\u001b[39margs, \u001b[38;5;241m*\u001b[39m\u001b[38;5;241m*\u001b[39mkwargs)\n\u001b[0;32m   1786\u001b[0m result \u001b[38;5;241m=\u001b[39m \u001b[38;5;28;01mNone\u001b[39;00m\n\u001b[0;32m   1787\u001b[0m called_always_called_hooks \u001b[38;5;241m=\u001b[39m \u001b[38;5;28mset\u001b[39m()\n",
      "File \u001b[1;32m~\\miniforge3\\envs\\cellpose_cpu\\lib\\site-packages\\segment_anything\\modeling\\image_encoder.py:180\u001b[0m, in \u001b[0;36mBlock.forward\u001b[1;34m(self, x)\u001b[0m\n\u001b[0;32m    177\u001b[0m     x \u001b[38;5;241m=\u001b[39m window_unpartition(x, \u001b[38;5;28mself\u001b[39m\u001b[38;5;241m.\u001b[39mwindow_size, pad_hw, (H, W))\n\u001b[0;32m    179\u001b[0m x \u001b[38;5;241m=\u001b[39m shortcut \u001b[38;5;241m+\u001b[39m x\n\u001b[1;32m--> 180\u001b[0m x \u001b[38;5;241m=\u001b[39m x \u001b[38;5;241m+\u001b[39m \u001b[38;5;28mself\u001b[39m\u001b[38;5;241m.\u001b[39mmlp(\u001b[38;5;28;43mself\u001b[39;49m\u001b[38;5;241;43m.\u001b[39;49m\u001b[43mnorm2\u001b[49m\u001b[43m(\u001b[49m\u001b[43mx\u001b[49m\u001b[43m)\u001b[49m)\n\u001b[0;32m    182\u001b[0m \u001b[38;5;28;01mreturn\u001b[39;00m x\n",
      "File \u001b[1;32m~\\miniforge3\\envs\\cellpose_cpu\\lib\\site-packages\\torch\\nn\\modules\\module.py:1773\u001b[0m, in \u001b[0;36mModule._wrapped_call_impl\u001b[1;34m(self, *args, **kwargs)\u001b[0m\n\u001b[0;32m   1771\u001b[0m     \u001b[38;5;28;01mreturn\u001b[39;00m \u001b[38;5;28mself\u001b[39m\u001b[38;5;241m.\u001b[39m_compiled_call_impl(\u001b[38;5;241m*\u001b[39margs, \u001b[38;5;241m*\u001b[39m\u001b[38;5;241m*\u001b[39mkwargs)  \u001b[38;5;66;03m# type: ignore[misc]\u001b[39;00m\n\u001b[0;32m   1772\u001b[0m \u001b[38;5;28;01melse\u001b[39;00m:\n\u001b[1;32m-> 1773\u001b[0m     \u001b[38;5;28;01mreturn\u001b[39;00m \u001b[38;5;28mself\u001b[39m\u001b[38;5;241m.\u001b[39m_call_impl(\u001b[38;5;241m*\u001b[39margs, \u001b[38;5;241m*\u001b[39m\u001b[38;5;241m*\u001b[39mkwargs)\n",
      "File \u001b[1;32m~\\miniforge3\\envs\\cellpose_cpu\\lib\\site-packages\\torch\\nn\\modules\\module.py:1784\u001b[0m, in \u001b[0;36mModule._call_impl\u001b[1;34m(self, *args, **kwargs)\u001b[0m\n\u001b[0;32m   1779\u001b[0m \u001b[38;5;66;03m# If we don't have any hooks, we want to skip the rest of the logic in\u001b[39;00m\n\u001b[0;32m   1780\u001b[0m \u001b[38;5;66;03m# this function, and just call forward.\u001b[39;00m\n\u001b[0;32m   1781\u001b[0m \u001b[38;5;28;01mif\u001b[39;00m \u001b[38;5;129;01mnot\u001b[39;00m (\u001b[38;5;28mself\u001b[39m\u001b[38;5;241m.\u001b[39m_backward_hooks \u001b[38;5;129;01mor\u001b[39;00m \u001b[38;5;28mself\u001b[39m\u001b[38;5;241m.\u001b[39m_backward_pre_hooks \u001b[38;5;129;01mor\u001b[39;00m \u001b[38;5;28mself\u001b[39m\u001b[38;5;241m.\u001b[39m_forward_hooks \u001b[38;5;129;01mor\u001b[39;00m \u001b[38;5;28mself\u001b[39m\u001b[38;5;241m.\u001b[39m_forward_pre_hooks\n\u001b[0;32m   1782\u001b[0m         \u001b[38;5;129;01mor\u001b[39;00m _global_backward_pre_hooks \u001b[38;5;129;01mor\u001b[39;00m _global_backward_hooks\n\u001b[0;32m   1783\u001b[0m         \u001b[38;5;129;01mor\u001b[39;00m _global_forward_hooks \u001b[38;5;129;01mor\u001b[39;00m _global_forward_pre_hooks):\n\u001b[1;32m-> 1784\u001b[0m     \u001b[38;5;28;01mreturn\u001b[39;00m forward_call(\u001b[38;5;241m*\u001b[39margs, \u001b[38;5;241m*\u001b[39m\u001b[38;5;241m*\u001b[39mkwargs)\n\u001b[0;32m   1786\u001b[0m result \u001b[38;5;241m=\u001b[39m \u001b[38;5;28;01mNone\u001b[39;00m\n\u001b[0;32m   1787\u001b[0m called_always_called_hooks \u001b[38;5;241m=\u001b[39m \u001b[38;5;28mset\u001b[39m()\n",
      "File \u001b[1;32m~\\miniforge3\\envs\\cellpose_cpu\\lib\\site-packages\\torch\\nn\\modules\\normalization.py:217\u001b[0m, in \u001b[0;36mLayerNorm.forward\u001b[1;34m(self, input)\u001b[0m\n\u001b[0;32m    216\u001b[0m \u001b[38;5;28;01mdef\u001b[39;00m\u001b[38;5;250m \u001b[39m\u001b[38;5;21mforward\u001b[39m(\u001b[38;5;28mself\u001b[39m, \u001b[38;5;28minput\u001b[39m: Tensor) \u001b[38;5;241m-\u001b[39m\u001b[38;5;241m>\u001b[39m Tensor:\n\u001b[1;32m--> 217\u001b[0m     \u001b[38;5;28;01mreturn\u001b[39;00m \u001b[43mF\u001b[49m\u001b[38;5;241;43m.\u001b[39;49m\u001b[43mlayer_norm\u001b[49m\u001b[43m(\u001b[49m\n\u001b[0;32m    218\u001b[0m \u001b[43m        \u001b[49m\u001b[38;5;28;43minput\u001b[39;49m\u001b[43m,\u001b[49m\u001b[43m \u001b[49m\u001b[38;5;28;43mself\u001b[39;49m\u001b[38;5;241;43m.\u001b[39;49m\u001b[43mnormalized_shape\u001b[49m\u001b[43m,\u001b[49m\u001b[43m \u001b[49m\u001b[38;5;28;43mself\u001b[39;49m\u001b[38;5;241;43m.\u001b[39;49m\u001b[43mweight\u001b[49m\u001b[43m,\u001b[49m\u001b[43m \u001b[49m\u001b[38;5;28;43mself\u001b[39;49m\u001b[38;5;241;43m.\u001b[39;49m\u001b[43mbias\u001b[49m\u001b[43m,\u001b[49m\u001b[43m \u001b[49m\u001b[38;5;28;43mself\u001b[39;49m\u001b[38;5;241;43m.\u001b[39;49m\u001b[43meps\u001b[49m\n\u001b[0;32m    219\u001b[0m \u001b[43m    \u001b[49m\u001b[43m)\u001b[49m\n",
      "File \u001b[1;32m~\\miniforge3\\envs\\cellpose_cpu\\lib\\site-packages\\torch\\nn\\functional.py:2905\u001b[0m, in \u001b[0;36mlayer_norm\u001b[1;34m(input, normalized_shape, weight, bias, eps)\u001b[0m\n\u001b[0;32m   2895\u001b[0m \u001b[38;5;28;01mif\u001b[39;00m has_torch_function_variadic(\u001b[38;5;28minput\u001b[39m, weight, bias):\n\u001b[0;32m   2896\u001b[0m     \u001b[38;5;28;01mreturn\u001b[39;00m handle_torch_function(\n\u001b[0;32m   2897\u001b[0m         layer_norm,\n\u001b[0;32m   2898\u001b[0m         (\u001b[38;5;28minput\u001b[39m, weight, bias),\n\u001b[1;32m   (...)\u001b[0m\n\u001b[0;32m   2903\u001b[0m         eps\u001b[38;5;241m=\u001b[39meps,\n\u001b[0;32m   2904\u001b[0m     )\n\u001b[1;32m-> 2905\u001b[0m \u001b[38;5;28;01mreturn\u001b[39;00m \u001b[43mtorch\u001b[49m\u001b[38;5;241;43m.\u001b[39;49m\u001b[43mlayer_norm\u001b[49m\u001b[43m(\u001b[49m\n\u001b[0;32m   2906\u001b[0m \u001b[43m    \u001b[49m\u001b[38;5;28;43minput\u001b[39;49m\u001b[43m,\u001b[49m\u001b[43m \u001b[49m\u001b[43mnormalized_shape\u001b[49m\u001b[43m,\u001b[49m\u001b[43m \u001b[49m\u001b[43mweight\u001b[49m\u001b[43m,\u001b[49m\u001b[43m \u001b[49m\u001b[43mbias\u001b[49m\u001b[43m,\u001b[49m\u001b[43m \u001b[49m\u001b[43meps\u001b[49m\u001b[43m,\u001b[49m\u001b[43m \u001b[49m\u001b[43mtorch\u001b[49m\u001b[38;5;241;43m.\u001b[39;49m\u001b[43mbackends\u001b[49m\u001b[38;5;241;43m.\u001b[39;49m\u001b[43mcudnn\u001b[49m\u001b[38;5;241;43m.\u001b[39;49m\u001b[43menabled\u001b[49m\n\u001b[0;32m   2907\u001b[0m \u001b[43m\u001b[49m\u001b[43m)\u001b[49m\n",
      "\u001b[1;31mKeyboardInterrupt\u001b[0m: "
     ]
    }
   ],
   "source": [
    "# --- pseudo max-projection across channels for each Z ---\n",
    "# result: (Z, Y, X)\n",
    "seg_input = np.max(seg_input, axis=0)\n",
    "\n",
    "# --- Cellpose 2D over Z ---\n",
    "masks = []\n",
    "for z in tqdm(range(seg_input.shape[0]), desc=\"Cellpose on pseudo-max Z\"):\n",
    "    mask, _, _, _ = model.eval(seg_input[z])\n",
    "    masks.append(mask)\n",
    "masks = np.stack(masks)  # (Z, Y, X)\n"
   ]
  },
  {
   "cell_type": "code",
   "execution_count": null,
   "id": "8cef06ee-0c5f-4d68-97fe-1f2d2a4a68f8",
   "metadata": {},
   "outputs": [],
   "source": [
    "\n",
    "# --- visualize in napari ---\n",
    "viewer = napari.Viewer(title=\"Pseudo-max segmentation\")\n",
    "viewer.add_image(combo, name=\"combo(ZYX)\")\n",
    "viewer.add_labels(masks, name=\"masks\")\n",
    "print(\"combo:\", combo.shape, \"masks:\", masks.shape)"
   ]
  }
 ],
 "metadata": {
  "kernelspec": {
   "display_name": "Python (cellpose_cpu)",
   "language": "python",
   "name": "cellpose_cpu"
  },
  "language_info": {
   "codemirror_mode": {
    "name": "ipython",
    "version": 3
   },
   "file_extension": ".py",
   "mimetype": "text/x-python",
   "name": "python",
   "nbconvert_exporter": "python",
   "pygments_lexer": "ipython3",
   "version": "3.10.18"
  }
 },
 "nbformat": 4,
 "nbformat_minor": 5
}
