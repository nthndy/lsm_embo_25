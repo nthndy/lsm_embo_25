{
 "cells": [
  {
   "cell_type": "code",
   "execution_count": 1,
   "id": "0040fc94-7e5a-4bad-9ce5-bd221184986b",
   "metadata": {
    "tags": []
   },
   "outputs": [
    {
     "name": "stdout",
     "output_type": "stream",
     "text": [
      "\n",
      "\n",
      "Welcome to CellposeSAM, cellpose v\n",
      "cellpose version: \t4.0.6 \n",
      "platform:       \twin32 \n",
      "python version: \t3.11.13 \n",
      "torch version:  \t2.5.1! The neural network component of\n",
      "CPSAM is much larger than in previous versions and CPU excution is slow. \n",
      "We encourage users to use GPU/MPS if available. \n",
      "\n",
      "\n"
     ]
    }
   ],
   "source": [
    "from cellpose import models, core, io, plot\n",
    "\n",
    "#Check if colab notebook instance has GPU access\n",
    "if core.use_gpu()==False:\n",
    "  raise ImportError(\"No GPU access, change your runtime\")"
   ]
  },
  {
   "cell_type": "code",
   "execution_count": 3,
   "id": "d12976f2-d2a3-489c-bc43-bd1649a7e552",
   "metadata": {
    "tags": []
   },
   "outputs": [
    {
     "name": "stderr",
     "output_type": "stream",
     "text": [
      "C:\\Users\\Nathan\\miniforge3\\envs\\cellpose-gpu\\Lib\\site-packages\\tqdm\\auto.py:21: TqdmWarning: IProgress not found. Please update jupyter and ipywidgets. See https://ipywidgets.readthedocs.io/en/stable/user_install.html\n",
      "  from .autonotebook import tqdm as notebook_tqdm\n"
     ]
    }
   ],
   "source": [
    "# import napari\n",
    "from pathlib import Path\n",
    "# from skimage import io\n",
    "import os, glob\n",
    "import czifile\n",
    "import numpy as np\n",
    "from tqdm.auto import tqdm\n",
    "# from natsorted import natsort"
   ]
  },
  {
   "cell_type": "code",
   "execution_count": 10,
   "id": "ce6baa1c-c7a7-4424-baa9-1e659ab8d26e",
   "metadata": {
    "tags": []
   },
   "outputs": [
    {
     "name": "stdout",
     "output_type": "stream",
     "text": [
      "20250814_gfapgfp_tp1mch_2dpf_40x_zls7_2025_08_14__20_40_18_733(1).czi: 5653.62 MB\n",
      "20250814_gfapgfp_tp1mch_2dpf_40x_zls7_2025_08_14__20_40_18_733(10).czi: 5653.62 MB\n",
      "20250814_gfapgfp_tp1mch_2dpf_40x_zls7_2025_08_14__20_40_18_733(100).czi: 5653.62 MB\n",
      "20250814_gfapgfp_tp1mch_2dpf_40x_zls7_2025_08_14__20_40_18_733(101).czi: 5653.62 MB\n",
      "20250814_gfapgfp_tp1mch_2dpf_40x_zls7_2025_08_14__20_40_18_733(102).czi: 5653.62 MB\n",
      "20250814_gfapgfp_tp1mch_2dpf_40x_zls7_2025_08_14__20_40_18_733(103).czi: 5653.62 MB\n",
      "20250814_gfapgfp_tp1mch_2dpf_40x_zls7_2025_08_14__20_40_18_733(104).czi: 5653.62 MB\n",
      "20250814_gfapgfp_tp1mch_2dpf_40x_zls7_2025_08_14__20_40_18_733(105).czi: 5653.62 MB\n",
      "20250814_gfapgfp_tp1mch_2dpf_40x_zls7_2025_08_14__20_40_18_733(106).czi: 5653.62 MB\n",
      "20250814_gfapgfp_tp1mch_2dpf_40x_zls7_2025_08_14__20_40_18_733(107).czi: 5653.62 MB\n",
      "20250814_gfapgfp_tp1mch_2dpf_40x_zls7_2025_08_14__20_40_18_733(108).czi: 5653.62 MB\n",
      "20250814_gfapgfp_tp1mch_2dpf_40x_zls7_2025_08_14__20_40_18_733(109).czi: 5653.62 MB\n",
      "20250814_gfapgfp_tp1mch_2dpf_40x_zls7_2025_08_14__20_40_18_733(11).czi: 5653.62 MB\n",
      "20250814_gfapgfp_tp1mch_2dpf_40x_zls7_2025_08_14__20_40_18_733(110).czi: 5653.62 MB\n",
      "20250814_gfapgfp_tp1mch_2dpf_40x_zls7_2025_08_14__20_40_18_733(111).czi: 5653.62 MB\n",
      "20250814_gfapgfp_tp1mch_2dpf_40x_zls7_2025_08_14__20_40_18_733(112).czi: 5653.62 MB\n",
      "20250814_gfapgfp_tp1mch_2dpf_40x_zls7_2025_08_14__20_40_18_733(113).czi: 5653.62 MB\n",
      "20250814_gfapgfp_tp1mch_2dpf_40x_zls7_2025_08_14__20_40_18_733(114).czi: 5653.62 MB\n",
      "20250814_gfapgfp_tp1mch_2dpf_40x_zls7_2025_08_14__20_40_18_733(115).czi: 5653.62 MB\n",
      "20250814_gfapgfp_tp1mch_2dpf_40x_zls7_2025_08_14__20_40_18_733(116).czi: 5653.62 MB\n",
      "20250814_gfapgfp_tp1mch_2dpf_40x_zls7_2025_08_14__20_40_18_733(117).czi: 5653.62 MB\n",
      "20250814_gfapgfp_tp1mch_2dpf_40x_zls7_2025_08_14__20_40_18_733(118).czi: 5653.62 MB\n",
      "20250814_gfapgfp_tp1mch_2dpf_40x_zls7_2025_08_14__20_40_18_733(119).czi: 5653.62 MB\n",
      "20250814_gfapgfp_tp1mch_2dpf_40x_zls7_2025_08_14__20_40_18_733(12).czi: 5653.62 MB\n",
      "20250814_gfapgfp_tp1mch_2dpf_40x_zls7_2025_08_14__20_40_18_733(120).czi: 5653.62 MB\n",
      "20250814_gfapgfp_tp1mch_2dpf_40x_zls7_2025_08_14__20_40_18_733(121).czi: 5653.62 MB\n",
      "20250814_gfapgfp_tp1mch_2dpf_40x_zls7_2025_08_14__20_40_18_733(122).czi: 5653.62 MB\n",
      "20250814_gfapgfp_tp1mch_2dpf_40x_zls7_2025_08_14__20_40_18_733(123).czi: 5653.62 MB\n",
      "20250814_gfapgfp_tp1mch_2dpf_40x_zls7_2025_08_14__20_40_18_733(124).czi: 5653.62 MB\n",
      "20250814_gfapgfp_tp1mch_2dpf_40x_zls7_2025_08_14__20_40_18_733(125).czi: 5653.62 MB\n",
      "20250814_gfapgfp_tp1mch_2dpf_40x_zls7_2025_08_14__20_40_18_733(126).czi: 5653.62 MB\n",
      "20250814_gfapgfp_tp1mch_2dpf_40x_zls7_2025_08_14__20_40_18_733(127).czi: 5653.62 MB\n",
      "20250814_gfapgfp_tp1mch_2dpf_40x_zls7_2025_08_14__20_40_18_733(128).czi: 5653.62 MB\n",
      "20250814_gfapgfp_tp1mch_2dpf_40x_zls7_2025_08_14__20_40_18_733(129).czi: 5653.62 MB\n",
      "20250814_gfapgfp_tp1mch_2dpf_40x_zls7_2025_08_14__20_40_18_733(13).czi: 5653.62 MB\n",
      "20250814_gfapgfp_tp1mch_2dpf_40x_zls7_2025_08_14__20_40_18_733(130).czi: 5653.62 MB\n",
      "20250814_gfapgfp_tp1mch_2dpf_40x_zls7_2025_08_14__20_40_18_733(131).czi: 5653.62 MB\n",
      "20250814_gfapgfp_tp1mch_2dpf_40x_zls7_2025_08_14__20_40_18_733(132).czi: 5653.62 MB\n",
      "20250814_gfapgfp_tp1mch_2dpf_40x_zls7_2025_08_14__20_40_18_733(133).czi: 5653.62 MB\n",
      "20250814_gfapgfp_tp1mch_2dpf_40x_zls7_2025_08_14__20_40_18_733(134).czi: 5653.62 MB\n",
      "20250814_gfapgfp_tp1mch_2dpf_40x_zls7_2025_08_14__20_40_18_733(135).czi: 5653.62 MB\n",
      "20250814_gfapgfp_tp1mch_2dpf_40x_zls7_2025_08_14__20_40_18_733(136).czi: 5653.62 MB\n",
      "20250814_gfapgfp_tp1mch_2dpf_40x_zls7_2025_08_14__20_40_18_733(137).czi: 5653.62 MB\n",
      "20250814_gfapgfp_tp1mch_2dpf_40x_zls7_2025_08_14__20_40_18_733(138).czi: 5653.62 MB\n",
      "20250814_gfapgfp_tp1mch_2dpf_40x_zls7_2025_08_14__20_40_18_733(139).czi: 5653.62 MB\n",
      "20250814_gfapgfp_tp1mch_2dpf_40x_zls7_2025_08_14__20_40_18_733(14).czi: 5653.62 MB\n",
      "20250814_gfapgfp_tp1mch_2dpf_40x_zls7_2025_08_14__20_40_18_733(140).czi: 5653.62 MB\n",
      "20250814_gfapgfp_tp1mch_2dpf_40x_zls7_2025_08_14__20_40_18_733(141).czi: 5653.62 MB\n",
      "20250814_gfapgfp_tp1mch_2dpf_40x_zls7_2025_08_14__20_40_18_733(142).czi: 5653.62 MB\n",
      "20250814_gfapgfp_tp1mch_2dpf_40x_zls7_2025_08_14__20_40_18_733(143).czi: 5653.62 MB\n",
      "20250814_gfapgfp_tp1mch_2dpf_40x_zls7_2025_08_14__20_40_18_733(144).czi: 5653.62 MB\n",
      "20250814_gfapgfp_tp1mch_2dpf_40x_zls7_2025_08_14__20_40_18_733(145).czi: 5653.62 MB\n",
      "20250814_gfapgfp_tp1mch_2dpf_40x_zls7_2025_08_14__20_40_18_733(146).czi: 5653.62 MB\n",
      "20250814_gfapgfp_tp1mch_2dpf_40x_zls7_2025_08_14__20_40_18_733(147).czi: 5653.62 MB\n",
      "20250814_gfapgfp_tp1mch_2dpf_40x_zls7_2025_08_14__20_40_18_733(148).czi: 5653.62 MB\n",
      "20250814_gfapgfp_tp1mch_2dpf_40x_zls7_2025_08_14__20_40_18_733(149).czi: 5653.62 MB\n",
      "20250814_gfapgfp_tp1mch_2dpf_40x_zls7_2025_08_14__20_40_18_733(15).czi: 5653.62 MB\n",
      "20250814_gfapgfp_tp1mch_2dpf_40x_zls7_2025_08_14__20_40_18_733(150).czi: 5653.62 MB\n",
      "20250814_gfapgfp_tp1mch_2dpf_40x_zls7_2025_08_14__20_40_18_733(151).czi: 5653.62 MB\n",
      "20250814_gfapgfp_tp1mch_2dpf_40x_zls7_2025_08_14__20_40_18_733(152).czi: 5653.62 MB\n",
      "20250814_gfapgfp_tp1mch_2dpf_40x_zls7_2025_08_14__20_40_18_733(16).czi: 5653.62 MB\n",
      "20250814_gfapgfp_tp1mch_2dpf_40x_zls7_2025_08_14__20_40_18_733(17).czi: 5653.62 MB\n",
      "20250814_gfapgfp_tp1mch_2dpf_40x_zls7_2025_08_14__20_40_18_733(18).czi: 5653.62 MB\n",
      "20250814_gfapgfp_tp1mch_2dpf_40x_zls7_2025_08_14__20_40_18_733(19).czi: 5653.62 MB\n",
      "20250814_gfapgfp_tp1mch_2dpf_40x_zls7_2025_08_14__20_40_18_733(2).czi: 5653.62 MB\n",
      "20250814_gfapgfp_tp1mch_2dpf_40x_zls7_2025_08_14__20_40_18_733(20).czi: 5653.62 MB\n",
      "20250814_gfapgfp_tp1mch_2dpf_40x_zls7_2025_08_14__20_40_18_733(21).czi: 5653.62 MB\n",
      "20250814_gfapgfp_tp1mch_2dpf_40x_zls7_2025_08_14__20_40_18_733(22).czi: 5653.62 MB\n",
      "20250814_gfapgfp_tp1mch_2dpf_40x_zls7_2025_08_14__20_40_18_733(23).czi: 5653.62 MB\n",
      "20250814_gfapgfp_tp1mch_2dpf_40x_zls7_2025_08_14__20_40_18_733(24).czi: 5653.62 MB\n",
      "20250814_gfapgfp_tp1mch_2dpf_40x_zls7_2025_08_14__20_40_18_733(25).czi: 5653.62 MB\n",
      "20250814_gfapgfp_tp1mch_2dpf_40x_zls7_2025_08_14__20_40_18_733(26).czi: 5653.62 MB\n",
      "20250814_gfapgfp_tp1mch_2dpf_40x_zls7_2025_08_14__20_40_18_733(27).czi: 5653.62 MB\n",
      "20250814_gfapgfp_tp1mch_2dpf_40x_zls7_2025_08_14__20_40_18_733(28).czi: 5653.62 MB\n",
      "20250814_gfapgfp_tp1mch_2dpf_40x_zls7_2025_08_14__20_40_18_733(29).czi: 5653.62 MB\n",
      "20250814_gfapgfp_tp1mch_2dpf_40x_zls7_2025_08_14__20_40_18_733(3).czi: 5653.62 MB\n",
      "20250814_gfapgfp_tp1mch_2dpf_40x_zls7_2025_08_14__20_40_18_733(30).czi: 5653.62 MB\n",
      "20250814_gfapgfp_tp1mch_2dpf_40x_zls7_2025_08_14__20_40_18_733(31).czi: 5653.62 MB\n",
      "20250814_gfapgfp_tp1mch_2dpf_40x_zls7_2025_08_14__20_40_18_733(32).czi: 5653.62 MB\n",
      "20250814_gfapgfp_tp1mch_2dpf_40x_zls7_2025_08_14__20_40_18_733(33).czi: 5653.62 MB\n",
      "20250814_gfapgfp_tp1mch_2dpf_40x_zls7_2025_08_14__20_40_18_733(34).czi: 5653.62 MB\n",
      "20250814_gfapgfp_tp1mch_2dpf_40x_zls7_2025_08_14__20_40_18_733(35).czi: 5653.62 MB\n",
      "20250814_gfapgfp_tp1mch_2dpf_40x_zls7_2025_08_14__20_40_18_733(36).czi: 5653.62 MB\n",
      "20250814_gfapgfp_tp1mch_2dpf_40x_zls7_2025_08_14__20_40_18_733(37).czi: 5653.62 MB\n",
      "20250814_gfapgfp_tp1mch_2dpf_40x_zls7_2025_08_14__20_40_18_733(38).czi: 5653.62 MB\n",
      "20250814_gfapgfp_tp1mch_2dpf_40x_zls7_2025_08_14__20_40_18_733(39).czi: 5653.62 MB\n",
      "20250814_gfapgfp_tp1mch_2dpf_40x_zls7_2025_08_14__20_40_18_733(4).czi: 5653.62 MB\n",
      "20250814_gfapgfp_tp1mch_2dpf_40x_zls7_2025_08_14__20_40_18_733(40).czi: 5653.62 MB\n",
      "20250814_gfapgfp_tp1mch_2dpf_40x_zls7_2025_08_14__20_40_18_733(41).czi: 5653.62 MB\n",
      "20250814_gfapgfp_tp1mch_2dpf_40x_zls7_2025_08_14__20_40_18_733(42).czi: 5653.62 MB\n",
      "20250814_gfapgfp_tp1mch_2dpf_40x_zls7_2025_08_14__20_40_18_733(43).czi: 5653.62 MB\n",
      "20250814_gfapgfp_tp1mch_2dpf_40x_zls7_2025_08_14__20_40_18_733(44).czi: 5653.62 MB\n",
      "20250814_gfapgfp_tp1mch_2dpf_40x_zls7_2025_08_14__20_40_18_733(45).czi: 5653.62 MB\n",
      "20250814_gfapgfp_tp1mch_2dpf_40x_zls7_2025_08_14__20_40_18_733(46).czi: 5653.62 MB\n",
      "20250814_gfapgfp_tp1mch_2dpf_40x_zls7_2025_08_14__20_40_18_733(47).czi: 5653.62 MB\n",
      "20250814_gfapgfp_tp1mch_2dpf_40x_zls7_2025_08_14__20_40_18_733(48).czi: 5653.62 MB\n",
      "20250814_gfapgfp_tp1mch_2dpf_40x_zls7_2025_08_14__20_40_18_733(49).czi: 5653.62 MB\n",
      "20250814_gfapgfp_tp1mch_2dpf_40x_zls7_2025_08_14__20_40_18_733(5).czi: 5653.62 MB\n",
      "20250814_gfapgfp_tp1mch_2dpf_40x_zls7_2025_08_14__20_40_18_733(50).czi: 5653.62 MB\n",
      "20250814_gfapgfp_tp1mch_2dpf_40x_zls7_2025_08_14__20_40_18_733(51).czi: 5653.62 MB\n",
      "20250814_gfapgfp_tp1mch_2dpf_40x_zls7_2025_08_14__20_40_18_733(52).czi: 5653.62 MB\n",
      "20250814_gfapgfp_tp1mch_2dpf_40x_zls7_2025_08_14__20_40_18_733(53).czi: 5653.62 MB\n",
      "20250814_gfapgfp_tp1mch_2dpf_40x_zls7_2025_08_14__20_40_18_733(54).czi: 5653.62 MB\n",
      "20250814_gfapgfp_tp1mch_2dpf_40x_zls7_2025_08_14__20_40_18_733(55).czi: 5653.62 MB\n",
      "20250814_gfapgfp_tp1mch_2dpf_40x_zls7_2025_08_14__20_40_18_733(56).czi: 5653.62 MB\n",
      "20250814_gfapgfp_tp1mch_2dpf_40x_zls7_2025_08_14__20_40_18_733(57).czi: 5653.62 MB\n",
      "20250814_gfapgfp_tp1mch_2dpf_40x_zls7_2025_08_14__20_40_18_733(58).czi: 5653.62 MB\n",
      "20250814_gfapgfp_tp1mch_2dpf_40x_zls7_2025_08_14__20_40_18_733(59).czi: 5653.62 MB\n",
      "20250814_gfapgfp_tp1mch_2dpf_40x_zls7_2025_08_14__20_40_18_733(6).czi: 5653.62 MB\n",
      "20250814_gfapgfp_tp1mch_2dpf_40x_zls7_2025_08_14__20_40_18_733(60).czi: 5653.62 MB\n",
      "20250814_gfapgfp_tp1mch_2dpf_40x_zls7_2025_08_14__20_40_18_733(61).czi: 5653.62 MB\n",
      "20250814_gfapgfp_tp1mch_2dpf_40x_zls7_2025_08_14__20_40_18_733(62).czi: 5653.62 MB\n",
      "20250814_gfapgfp_tp1mch_2dpf_40x_zls7_2025_08_14__20_40_18_733(63).czi: 5653.62 MB\n",
      "20250814_gfapgfp_tp1mch_2dpf_40x_zls7_2025_08_14__20_40_18_733(64).czi: 5653.62 MB\n",
      "20250814_gfapgfp_tp1mch_2dpf_40x_zls7_2025_08_14__20_40_18_733(65).czi: 5653.62 MB\n",
      "20250814_gfapgfp_tp1mch_2dpf_40x_zls7_2025_08_14__20_40_18_733(66).czi: 5653.62 MB\n",
      "20250814_gfapgfp_tp1mch_2dpf_40x_zls7_2025_08_14__20_40_18_733(67).czi: 5653.62 MB\n",
      "20250814_gfapgfp_tp1mch_2dpf_40x_zls7_2025_08_14__20_40_18_733(68).czi: 5653.62 MB\n",
      "20250814_gfapgfp_tp1mch_2dpf_40x_zls7_2025_08_14__20_40_18_733(69).czi: 5653.62 MB\n",
      "20250814_gfapgfp_tp1mch_2dpf_40x_zls7_2025_08_14__20_40_18_733(7).czi: 5653.62 MB\n",
      "20250814_gfapgfp_tp1mch_2dpf_40x_zls7_2025_08_14__20_40_18_733(70).czi: 5653.62 MB\n",
      "20250814_gfapgfp_tp1mch_2dpf_40x_zls7_2025_08_14__20_40_18_733(71).czi: 5653.62 MB\n",
      "20250814_gfapgfp_tp1mch_2dpf_40x_zls7_2025_08_14__20_40_18_733(72).czi: 5653.62 MB\n",
      "20250814_gfapgfp_tp1mch_2dpf_40x_zls7_2025_08_14__20_40_18_733(73).czi: 5653.62 MB\n",
      "20250814_gfapgfp_tp1mch_2dpf_40x_zls7_2025_08_14__20_40_18_733(74).czi: 5653.62 MB\n",
      "20250814_gfapgfp_tp1mch_2dpf_40x_zls7_2025_08_14__20_40_18_733(75).czi: 5653.62 MB\n",
      "20250814_gfapgfp_tp1mch_2dpf_40x_zls7_2025_08_14__20_40_18_733(76).czi: 5653.62 MB\n",
      "20250814_gfapgfp_tp1mch_2dpf_40x_zls7_2025_08_14__20_40_18_733(77).czi: 5653.62 MB\n",
      "20250814_gfapgfp_tp1mch_2dpf_40x_zls7_2025_08_14__20_40_18_733(78).czi: 5653.62 MB\n",
      "20250814_gfapgfp_tp1mch_2dpf_40x_zls7_2025_08_14__20_40_18_733(79).czi: 5653.62 MB\n",
      "20250814_gfapgfp_tp1mch_2dpf_40x_zls7_2025_08_14__20_40_18_733(8).czi: 5653.62 MB\n",
      "20250814_gfapgfp_tp1mch_2dpf_40x_zls7_2025_08_14__20_40_18_733(80).czi: 5653.62 MB\n",
      "20250814_gfapgfp_tp1mch_2dpf_40x_zls7_2025_08_14__20_40_18_733(81).czi: 5653.62 MB\n",
      "20250814_gfapgfp_tp1mch_2dpf_40x_zls7_2025_08_14__20_40_18_733(82).czi: 5653.62 MB\n",
      "20250814_gfapgfp_tp1mch_2dpf_40x_zls7_2025_08_14__20_40_18_733(83).czi: 5653.62 MB\n",
      "20250814_gfapgfp_tp1mch_2dpf_40x_zls7_2025_08_14__20_40_18_733(84).czi: 5653.62 MB\n",
      "20250814_gfapgfp_tp1mch_2dpf_40x_zls7_2025_08_14__20_40_18_733(85).czi: 5653.62 MB\n",
      "20250814_gfapgfp_tp1mch_2dpf_40x_zls7_2025_08_14__20_40_18_733(86).czi: 5653.62 MB\n",
      "20250814_gfapgfp_tp1mch_2dpf_40x_zls7_2025_08_14__20_40_18_733(87).czi: 5653.62 MB\n",
      "20250814_gfapgfp_tp1mch_2dpf_40x_zls7_2025_08_14__20_40_18_733(88).czi: 5653.62 MB\n",
      "20250814_gfapgfp_tp1mch_2dpf_40x_zls7_2025_08_14__20_40_18_733(89).czi: 5653.62 MB\n",
      "20250814_gfapgfp_tp1mch_2dpf_40x_zls7_2025_08_14__20_40_18_733(9).czi: 5653.62 MB\n",
      "20250814_gfapgfp_tp1mch_2dpf_40x_zls7_2025_08_14__20_40_18_733(90).czi: 5653.62 MB\n",
      "20250814_gfapgfp_tp1mch_2dpf_40x_zls7_2025_08_14__20_40_18_733(91).czi: 5653.62 MB\n",
      "20250814_gfapgfp_tp1mch_2dpf_40x_zls7_2025_08_14__20_40_18_733(92).czi: 5653.62 MB\n",
      "20250814_gfapgfp_tp1mch_2dpf_40x_zls7_2025_08_14__20_40_18_733(93).czi: 5653.62 MB\n",
      "20250814_gfapgfp_tp1mch_2dpf_40x_zls7_2025_08_14__20_40_18_733(94).czi: 5653.62 MB\n",
      "20250814_gfapgfp_tp1mch_2dpf_40x_zls7_2025_08_14__20_40_18_733(95).czi: 5653.62 MB\n",
      "20250814_gfapgfp_tp1mch_2dpf_40x_zls7_2025_08_14__20_40_18_733(96).czi: 5653.62 MB\n",
      "20250814_gfapgfp_tp1mch_2dpf_40x_zls7_2025_08_14__20_40_18_733(97).czi: 5653.62 MB\n",
      "20250814_gfapgfp_tp1mch_2dpf_40x_zls7_2025_08_14__20_40_18_733(98).czi: 5653.62 MB\n",
      "20250814_gfapgfp_tp1mch_2dpf_40x_zls7_2025_08_14__20_40_18_733(99).czi: 5653.62 MB\n",
      "20250814_gfapgfp_tp1mch_2dpf_40x_zls7_2025_08_14__20_40_18_733.czi: 5653.68 MB\n",
      "\n",
      "Number of files: 153\n",
      "Total stacked size: 844.73 GB\n"
     ]
    }
   ],
   "source": [
    "\n",
    "# Path to your files\n",
    "files_dir = Path(r'Y:\\The_Holy_de_Broglies\\Becca\\zeisslightsheet7\\20250814')\n",
    "\n",
    "# Use string when passing to glob\n",
    "files = glob.glob(str(files_dir / '*.czi'))\n",
    "\n",
    "# Get file sizes in bytes\n",
    "file_sizes = [os.path.getsize(f) for f in files]\n",
    "\n",
    "# Convert sizes\n",
    "file_sizes_mb = [s / (1024**2) for s in file_sizes]\n",
    "total_size_gb = sum(file_sizes) / (1024**3)\n",
    "\n",
    "# Print summary\n",
    "for f, s in zip(files, file_sizes_mb):\n",
    "    print(f\"{Path(f).name}: {s:.2f} MB\")\n",
    "\n",
    "print(f\"\\nNumber of files: {len(files)}\")\n",
    "print(f\"Total stacked size: {total_size_gb:.2f} GB\")"
   ]
  },
  {
   "cell_type": "code",
   "execution_count": 11,
   "id": "e7b835ff-4231-48fe-a978-12750e5dd772",
   "metadata": {
    "tags": []
   },
   "outputs": [],
   "source": [
    "test_fn = Path(files_dir, '20250814_gfapgfp_tp1mch_2dpf_40x_zls7_2025_08_14__20_40_18_733(152).czi')"
   ]
  },
  {
   "cell_type": "code",
   "execution_count": 12,
   "id": "54030484-c2b1-4ca0-adad-1e7840efea36",
   "metadata": {
    "tags": []
   },
   "outputs": [
    {
     "name": "stdout",
     "output_type": "stream",
     "text": [
      "CPU times: total: 6.11 s\n",
      "Wall time: 26.1 s\n"
     ]
    }
   ],
   "source": [
    "%%time\n",
    "\n",
    "image = np.squeeze(czifile.imread(test_fn))"
   ]
  },
  {
   "cell_type": "code",
   "execution_count": 14,
   "id": "e7b3b088-6b5d-4c48-af2d-7cb123f6c8e0",
   "metadata": {
    "tags": []
   },
   "outputs": [
    {
     "data": {
      "text/plain": [
       "(2, 402, 1920, 1920)"
      ]
     },
     "execution_count": 14,
     "metadata": {},
     "output_type": "execute_result"
    }
   ],
   "source": [
    "image.shape"
   ]
  },
  {
   "cell_type": "markdown",
   "id": "f4f7b465-5161-4b9f-8e05-9b673af8b684",
   "metadata": {},
   "source": [
    "### Load GPU cellpose model"
   ]
  },
  {
   "cell_type": "code",
   "execution_count": 16,
   "id": "cb627072-97a7-436d-9574-3e4dee559bb5",
   "metadata": {
    "tags": []
   },
   "outputs": [],
   "source": [
    "model = models.CellposeModel(gpu=True)"
   ]
  },
  {
   "cell_type": "markdown",
   "id": "ec4464f8-1033-433b-b860-4732f6b17c3b",
   "metadata": {},
   "source": [
    "### Create pseudo combination channel for cellpose input"
   ]
  },
  {
   "cell_type": "code",
   "execution_count": 16,
   "id": "5c266ad1-8837-4838-8269-3c37143867ba",
   "metadata": {},
   "outputs": [
    {
     "name": "stderr",
     "output_type": "stream",
     "text": [
      "Creating pseudo seg input: 100%|██████████████████████████████████████████████████████████████████████████████████████████| 2/2 [01:55<00:00, 57.89s/it]\n"
     ]
    }
   ],
   "source": [
    "\n",
    "# --- robust per-channel normalization to [0,1] ---\n",
    "seg_input = image.astype(np.float32)\n",
    "for c in tqdm(range(seg_input.shape[0]), desc=\"Creating pseudo seg input\"):\n",
    "    p1, p99 = np.percentile(seg_input[c], (1, 99))\n",
    "    seg_input[c] = np.clip((seg_input[c] - p1) / max(p99 - p1, 1e-6), 0, 1)\n",
    "# --- pseudo max-projection across channels for each Z ---\n",
    "# result: (Z, Y, X)\n",
    "seg_input = np.max(seg_input, axis=0)"
   ]
  },
  {
   "cell_type": "markdown",
   "id": "8e5d56fb-b412-47bd-9b62-8bc32614759e",
   "metadata": {},
   "source": [
    "### Just use 1 channel"
   ]
  },
  {
   "cell_type": "code",
   "execution_count": 17,
   "id": "5516d2ac-5fe7-4dda-9c3b-651719fdfbf8",
   "metadata": {
    "tags": []
   },
   "outputs": [],
   "source": [
    "seg_input = image[-1,...]"
   ]
  },
  {
   "cell_type": "code",
   "execution_count": 18,
   "id": "e5ad1722-43d2-429a-9191-706cd70ea999",
   "metadata": {
    "tags": []
   },
   "outputs": [
    {
     "data": {
      "text/plain": [
       "(402, 1920, 1920)"
      ]
     },
     "execution_count": 18,
     "metadata": {},
     "output_type": "execute_result"
    }
   ],
   "source": [
    "seg_input.shape"
   ]
  },
  {
   "cell_type": "code",
   "execution_count": 20,
   "id": "d10a5db3-0f73-4ec1-97e4-f7e0fca362f2",
   "metadata": {
    "tags": []
   },
   "outputs": [
    {
     "name": "stderr",
     "output_type": "stream",
     "text": [
      "Cellpose on pseudo-max Z:   1%|                | 3/402 [00:16<36:14,  5.45s/it]no seeds found in get_masks_torch - no masks found.\n",
      "Cellpose on pseudo-max Z: 100%|██████████████| 402/402 [42:05<00:00,  6.28s/it]\n"
     ]
    }
   ],
   "source": [
    "\n",
    "\n",
    "# --- Cellpose 2D over Z ---\n",
    "masks = []\n",
    "for z in tqdm(range(seg_input.shape[0]), desc=\"Cellpose on pseudo-max Z\"):\n",
    "    mask, _, _ = model.eval(seg_input[z])\n",
    "    masks.append(mask)\n",
    "masks = np.stack(masks)  # (Z, Y, X)\n"
   ]
  },
  {
   "cell_type": "code",
   "execution_count": 27,
   "id": "5e8f5f16-8121-464c-99cd-7aea65102b91",
   "metadata": {
    "tags": []
   },
   "outputs": [
    {
     "data": {
      "text/plain": [
       "'20250814_gfapgfp_tp1mch_2dpf_40x_zls7_2025_08_14__20_40_18_733(152).czi'"
      ]
     },
     "execution_count": 27,
     "metadata": {},
     "output_type": "execute_result"
    }
   ],
   "source": [
    "os.path.basename(test_fn)"
   ]
  },
  {
   "cell_type": "code",
   "execution_count": 36,
   "id": "a9ddbf18-42fd-4f87-b56c-b5ccf48b371d",
   "metadata": {
    "tags": []
   },
   "outputs": [],
   "source": [
    "np.save(Path(files_dir, 'labels', str(os.path.basename(test_fn)).replace('czi','npy')), masks)"
   ]
  },
  {
   "cell_type": "markdown",
   "id": "9efe319f-2dee-44cd-9787-99a4b113c064",
   "metadata": {},
   "source": [
    "### 3d seg"
   ]
  },
  {
   "cell_type": "code",
   "execution_count": 39,
   "id": "83f8173c-1e7c-425f-9cd8-336452b8b6ed",
   "metadata": {
    "tags": []
   },
   "outputs": [],
   "source": [
    "masks, flows, styles = model.eval(\n",
    "    seg_input,\n",
    "    do_3D=True,\n",
    "    z_axis=0,\n",
    "    diameter=None      # or your known cell diameter\n",
    ")"
   ]
  },
  {
   "cell_type": "code",
   "execution_count": 42,
   "id": "473da3f6-c222-4752-bece-1241afb71d79",
   "metadata": {
    "tags": []
   },
   "outputs": [],
   "source": [
    "np.save(Path(files_dir, 'labels', str(os.path.basename(test_fn)).replace('czi','_3d.npy')), masks)"
   ]
  },
  {
   "cell_type": "code",
   "execution_count": 44,
   "id": "dd34ca69-2cce-47c6-b722-5601330edf56",
   "metadata": {
    "tags": []
   },
   "outputs": [
    {
     "data": {
      "text/plain": [
       "WindowsPath('Y:/The_Holy_de_Broglies/Becca/zeisslightsheet7/20250814/labels/20250814_gfapgfp_tp1mch_2dpf_40x_zls7_2025_08_14__20_40_18_733(152).*3d*.npy')"
      ]
     },
     "execution_count": 44,
     "metadata": {},
     "output_type": "execute_result"
    }
   ],
   "source": [
    "Path(files_dir, 'labels', str(os.path.basename(test_fn)).replace('czi','*3d*.npy'))"
   ]
  },
  {
   "cell_type": "markdown",
   "id": "ce6200ce-71e4-4db5-b938-39cb11eed91c",
   "metadata": {},
   "source": [
    "### Assessing the distribution of mask diameters"
   ]
  },
  {
   "cell_type": "code",
   "execution_count": 48,
   "id": "578891cf-7629-4147-a723-0abb58297238",
   "metadata": {
    "tags": []
   },
   "outputs": [],
   "source": [
    "import numpy as np\n",
    "import matplotlib.pyplot as plt\n",
    "# import seaborn as sns\n",
    "from skimage.measure import regionprops"
   ]
  },
  {
   "cell_type": "code",
   "execution_count": 46,
   "id": "c932e41e-e3f8-4da4-98d9-2e61d4ae7b6b",
   "metadata": {
    "tags": []
   },
   "outputs": [
    {
     "data": {
      "text/plain": [
       "(402, 1920, 1920)"
      ]
     },
     "execution_count": 46,
     "metadata": {},
     "output_type": "execute_result"
    }
   ],
   "source": [
    "masks.shape"
   ]
  },
  {
   "cell_type": "code",
   "execution_count": 52,
   "id": "b49bfb50-f172-4f4e-b456-0f10865f2368",
   "metadata": {
    "tags": []
   },
   "outputs": [
    {
     "name": "stderr",
     "output_type": "stream",
     "text": [
      "100%|███████████████████████████████████| 7827/7827 [00:00<00:00, 15526.38it/s]\n"
     ]
    },
    {
     "data": {
      "image/png": "[encoded data removed]",
      "text/plain": [
       "<Figure size 700x400 with 2 Axes>"
      ]
     },
     "metadata": {},
     "output_type": "display_data"
    }
   ],
   "source": [
    "# --- assume you already have `masks` as a 3D array ---\n",
    "# voxel size in µm (Z, Y, X) from metadata\n",
    "voxel_size = np.array([0.5, 0.391, 0.391])  # µm\n",
    "mean_voxel = voxel_size.mean()  # for diameter conversion (approx isotropic scaling)\n",
    "\n",
    "# --- collect diameters in µm ---\n",
    "diameters_um = []\n",
    "for r in tqdm(regionprops(masks)):\n",
    "    voxel_count = r.area\n",
    "    phys_volume = voxel_count * np.prod(voxel_size)\n",
    "    eq_diam = (6 * phys_volume / np.pi) ** (1/3)\n",
    "    diameters_um.append(eq_diam)\n",
    "\n",
    "diameters_um = np.array(diameters_um)\n",
    "diameters_px = diameters_um / mean_voxel   # approximate diameters in pixels\n",
    "\n",
    "# --- plot histogram with twin x-axes ---\n",
    "fig, ax1 = plt.subplots(figsize=(7,4))\n",
    "\n",
    "# histogram in µm\n",
    "ax1.hist(diameters_um, bins=30, color=\"#1a9641\", edgecolor=\"black\", alpha=0.8)\n",
    "ax1.set_xlabel(\"Equivalent diameter (µm)\")\n",
    "ax1.set_ylabel(\"Count\")\n",
    "\n",
    "# second x axis for pixels\n",
    "ax2 = ax1.twiny()\n",
    "ax2.set_xlim(ax1.get_xlim()[0]/mean_voxel, ax1.get_xlim()[1]/mean_voxel)\n",
    "ax2.set_xlabel(\"Equivalent diameter (pixels)\")\n",
    "\n",
    "plt.title(\"Distribution of 3D object diameters\")\n",
    "plt.show()"
   ]
  },
  {
   "cell_type": "code",
   "execution_count": 57,
   "id": "510adf62-717b-4e79-8a02-0578194a9ec7",
   "metadata": {
    "tags": []
   },
   "outputs": [
    {
     "name": "stdout",
     "output_type": "stream",
     "text": [
      "{'z_index': 310, 'n_objs': 222, 'median_px': 6.076507779746499, 'iqr_px': (3.1915382432114616, 10.570056194378964), 'anisotropy': np.float64(1.278772378516624)}\n"
     ]
    },
    {
     "data": {
      "text/plain": [
       "(array([152.,  41.,   6.,   5.,   4.,   3.,   5.,   2.,   2.,   2.]),\n",
       " array([ 1.12837917,  9.25888975, 17.38940033, 25.51991092, 33.6504215 ,\n",
       "        41.78093209, 49.91144267, 58.04195325, 66.17246384, 74.30297442,\n",
       "        82.43348501]),\n",
       " <BarContainer object of 10 artists>)"
      ]
     },
     "execution_count": 57,
     "metadata": {},
     "output_type": "execute_result"
    },
    {
     "data": {
      "image/png": "[encoded data removed]",
      "text/plain": [
       "<Figure size 640x480 with 1 Axes>"
      ]
     },
     "metadata": {},
     "output_type": "display_data"
    }
   ],
   "source": [
    "# --- inputs ---\n",
    "z_index = 310\n",
    "slice_2d = masks[z_index]   # (Y, X) labels at Z=310\n",
    "\n",
    "# --- compute diameters in pixels ---\n",
    "diam_px_xy = []\n",
    "d_eqs = []\n",
    "for r in regionprops(slice_2d):\n",
    "    area_px = r.area\n",
    "    d_eq = 2 * np.sqrt(area_px / np.pi)   # equivalent circle diameter in pixels\n",
    "    diam_px_xy.append(d_eq)\n",
    "    d_eqs.append(d_eq)\n",
    "\n",
    "diam_px_xy = np.array(diam_px_xy)\n",
    "if diam_px_xy.size > 0:\n",
    "    med_px = float(np.median(diam_px_xy))\n",
    "    q1_px  = float(np.percentile(diam_px_xy, 25))\n",
    "    q3_px  = float(np.percentile(diam_px_xy, 75))\n",
    "else:\n",
    "    med_px, q1_px, q3_px = (np.nan, np.nan, np.nan)\n",
    "\n",
    "# Recommended Cellpose params (still needs anisotropy for 3D runs)\n",
    "voxel = np.array([0.5, 0.391, 0.391])  # (z, y, x) µm\n",
    "anisotropy = voxel[0] / voxel[1]\n",
    "\n",
    "print({\n",
    "    \"z_index\": z_index,\n",
    "    \"n_objs\": len(diam_px_xy),\n",
    "    \"median_px\": med_px,\n",
    "    \"iqr_px\": (q1_px, q3_px),\n",
    "    \"anisotropy\": anisotropy\n",
    "})\n",
    "\n",
    "plt.hist(d_eqs)"
   ]
  },
  {
   "cell_type": "markdown",
   "id": "ef7c0cf6-f548-405d-a3a0-1a4f58c22927",
   "metadata": {},
   "source": [
    "### Iterate"
   ]
  },
  {
   "cell_type": "code",
   "execution_count": 59,
   "id": "ab1ed00c-4e1d-4e86-b54f-75b9b5b6178a",
   "metadata": {
    "tags": []
   },
   "outputs": [],
   "source": [
    "from pathlib import Path\n",
    "from natsort import natsorted\n",
    "from tqdm.auto import tqdm\n",
    "import numpy as np\n",
    "import czifile"
   ]
  },
  {
   "cell_type": "code",
   "execution_count": null,
   "id": "0113375c-83bb-4e03-9230-771e0ccd7411",
   "metadata": {
    "tags": []
   },
   "outputs": [
    {
     "name": "stderr",
     "output_type": "stream",
     "text": [
      "Segmenting 3D volumes:   0%|                           | 0/153 [00:00<?, ?it/s]"
     ]
    }
   ],
   "source": [
    "# --- CONFIG ---\n",
    "files_dir = Path(r\"Y:\\The_Holy_de_Broglies\\Becca\\zeisslightsheet7\\20250814\")\n",
    "out_dir   = Path(files_dir, \"labels\"); out_dir.mkdir(exist_ok=True)\n",
    "Z_AXIS    = 0       # z is first axis after selecting channel\n",
    "DIAMETER  = 50    # set if you know it; None lets Cellpose infer\n",
    "\n",
    "# --- NATURAL SORT + ITERATE ---\n",
    "files = natsorted(Path(files_dir).glob(\"*.czi\"), key=lambda p: str(p))\n",
    "\n",
    "for fn in tqdm(files, desc=\"Segmenting 3D volumes\"):\n",
    "    arr = np.squeeze(czifile.imread(str(fn)))  # load raw array\n",
    "\n",
    "    if arr.ndim == 4:\n",
    "        # take the last channel from first axis\n",
    "        vol = arr[-1]   # shape (Z, Y, X)\n",
    "    elif arr.ndim == 3:\n",
    "        vol = arr       # already (Z, Y, X)\n",
    "    else:\n",
    "        raise ValueError(f\"Unexpected shape {arr.shape} from {fn.name}\")\n",
    "\n",
    "    # normalize intensities (robust percentile scaling)\n",
    "    vmin, vmax = np.percentile(vol, (1, 99.8))\n",
    "    seg_input = np.clip((vol.astype(np.float32) - vmin) / max(vmax - vmin, 1e-6), 0, 1)\n",
    "\n",
    "    masks, flows, styles = model.eval(\n",
    "        seg_input,\n",
    "        do_3D=True,\n",
    "        z_axis=Z_AXIS,\n",
    "        diameter=DIAMETER,\n",
    "    )\n",
    "\n",
    "    out_fn = out_dir / (fn.stem + \"_3d.npy\")\n",
    "    np.save(out_fn, masks)"
   ]
  },
  {
   "cell_type": "code",
   "execution_count": null,
   "id": "8cef06ee-0c5f-4d68-97fe-1f2d2a4a68f8",
   "metadata": {},
   "outputs": [],
   "source": [
    "\n",
    "# --- visualize in napari ---\n",
    "viewer = napari.Viewer(title=\"Pseudo-max segmentation\")\n",
    "viewer.add_image(combo, name=\"combo(ZYX)\")\n",
    "viewer.add_labels(masks, name=\"masks\")\n",
    "print(\"combo:\", combo.shape, \"masks:\", masks.shape)"
   ]
  }
 ],
 "metadata": {
  "kernelspec": {
   "display_name": "Python (cellpose-gpu)",
   "language": "python",
   "name": "cellpose-gpu"
  },
  "language_info": {
   "codemirror_mode": {
    "name": "ipython",
    "version": 3
   },
   "file_extension": ".py",
   "mimetype": "text/x-python",
   "name": "python",
   "nbconvert_exporter": "python",
   "pygments_lexer": "ipython3",
   "version": "3.11.13"
  }
 },
 "nbformat": 4,
 "nbformat_minor": 5
}
